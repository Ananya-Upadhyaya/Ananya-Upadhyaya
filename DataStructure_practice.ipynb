{
  "nbformat": 4,
  "nbformat_minor": 0,
  "metadata": {
    "colab": {
      "provenance": [],
      "authorship_tag": "ABX9TyPNPO0DFGCwEE9FeA203K5a",
      "include_colab_link": true
    },
    "kernelspec": {
      "name": "python3",
      "display_name": "Python 3"
    },
    "language_info": {
      "name": "python"
    }
  },
  "cells": [
    {
      "cell_type": "markdown",
      "metadata": {
        "id": "view-in-github",
        "colab_type": "text"
      },
      "source": [
        "<a href=\"https://colab.research.google.com/github/Ananya-Upadhyaya/Ananya-Upadhyaya/blob/main/DataStructure_practice.ipynb\" target=\"_parent\"><img src=\"https://colab.research.google.com/assets/colab-badge.svg\" alt=\"Open In Colab\"/></a>"
      ]
    },
    {
      "cell_type": "code",
      "execution_count": 1,
      "metadata": {
        "id": "IEb3j292pMgU"
      },
      "outputs": [],
      "source": [
        "# Action performed by List \n",
        "\n",
        "# create an empty list\n",
        "x=[]"
      ]
    },
    {
      "cell_type": "code",
      "source": [
        "# create List with values\n",
        "\n",
        "List = [1,'Suraj',True,67,'vani']\n",
        "List"
      ],
      "metadata": {
        "colab": {
          "base_uri": "https://localhost:8080/"
        },
        "id": "IFoJn815p2xt",
        "outputId": "50b414c9-9f4a-4b02-c016-fbb4f572606b"
      },
      "execution_count": 3,
      "outputs": [
        {
          "output_type": "execute_result",
          "data": {
            "text/plain": [
              "[1, 'Suraj', True, 67, 'vani']"
            ]
          },
          "metadata": {},
          "execution_count": 3
        }
      ]
    },
    {
      "cell_type": "code",
      "source": [
        "# list length\n",
        "\n",
        "list = [\"Cloud\", \"Star\", \"Moon\"]\n",
        "print(len(list))"
      ],
      "metadata": {
        "colab": {
          "base_uri": "https://localhost:8080/"
        },
        "id": "Nb25pgl26g7z",
        "outputId": "ba774a63-aea7-4f5a-d783-d83f098c687b"
      },
      "execution_count": 80,
      "outputs": [
        {
          "output_type": "stream",
          "name": "stdout",
          "text": [
            "3\n"
          ]
        }
      ]
    },
    {
      "cell_type": "code",
      "source": [
        "# append \n",
        "\n",
        "x = [1,'Suraj',True,67,'vani','Hello']\n",
        "x"
      ],
      "metadata": {
        "colab": {
          "base_uri": "https://localhost:8080/"
        },
        "id": "w4ifsNMHqVoG",
        "outputId": "6f9b382b-dc1c-446a-bfaa-85e8aa207b91"
      },
      "execution_count": 4,
      "outputs": [
        {
          "output_type": "execute_result",
          "data": {
            "text/plain": [
              "[1, 'Suraj', True, 67, 'vani', 'Hello']"
            ]
          },
          "metadata": {},
          "execution_count": 4
        }
      ]
    },
    {
      "cell_type": "code",
      "source": [
        "# Extend\n",
        "\n",
        "x = [1,'Suraj']\n",
        "x.extend([3,'Ananya'])\n",
        "x\n",
        "\n"
      ],
      "metadata": {
        "colab": {
          "base_uri": "https://localhost:8080/"
        },
        "id": "ew2aU4mtqh8h",
        "outputId": "73a5c8f0-b547-4cdd-f647-3656ea1f1f4b"
      },
      "execution_count": 5,
      "outputs": [
        {
          "output_type": "execute_result",
          "data": {
            "text/plain": [
              "[1, 'Suraj', 3, 'Ananya']"
            ]
          },
          "metadata": {},
          "execution_count": 5
        }
      ]
    },
    {
      "cell_type": "code",
      "source": [
        "# insert  (inserts the value in place of index 0)\n",
        "\n",
        "x = [1,2,3,4,5]\n",
        "x.insert(0,6)\n",
        "x"
      ],
      "metadata": {
        "colab": {
          "base_uri": "https://localhost:8080/"
        },
        "id": "fN2S3YX2qxxH",
        "outputId": "ad4d2cb6-06fd-43f4-e1b3-4c886c612e37"
      },
      "execution_count": 8,
      "outputs": [
        {
          "output_type": "execute_result",
          "data": {
            "text/plain": [
              "[6, 1, 2, 3, 4, 5]"
            ]
          },
          "metadata": {},
          "execution_count": 8
        }
      ]
    },
    {
      "cell_type": "code",
      "source": [
        "# delete (takes the indexed value to delete)\n",
        "\n",
        "x =[1,2,3]\n",
        "del x[1]\n",
        "x"
      ],
      "metadata": {
        "colab": {
          "base_uri": "https://localhost:8080/"
        },
        "id": "tOq8p54ErHhO",
        "outputId": "284178af-eb24-4fc6-80f1-cff7e09ffe67"
      },
      "execution_count": 9,
      "outputs": [
        {
          "output_type": "execute_result",
          "data": {
            "text/plain": [
              "[1, 3]"
            ]
          },
          "metadata": {},
          "execution_count": 9
        }
      ]
    },
    {
      "cell_type": "code",
      "source": [
        "# remove (removes the value)\n",
        "\n",
        "x = [1,2,'Anu','Vish']\n",
        "x.remove(1)\n",
        "x"
      ],
      "metadata": {
        "colab": {
          "base_uri": "https://localhost:8080/"
        },
        "id": "uHOKmQaKrkDC",
        "outputId": "f60341ef-51c1-493c-e045-aaf30ec49da2"
      },
      "execution_count": 10,
      "outputs": [
        {
          "output_type": "execute_result",
          "data": {
            "text/plain": [
              "[2, 'Anu', 'Vish']"
            ]
          },
          "metadata": {},
          "execution_count": 10
        }
      ]
    },
    {
      "cell_type": "code",
      "source": [
        "# reverse\n",
        "\n",
        "y = [6, 1, 2, 3, 4, 5]\n",
        "y.reverse()\n",
        "y\n"
      ],
      "metadata": {
        "colab": {
          "base_uri": "https://localhost:8080/"
        },
        "id": "QFEdykJtr33N",
        "outputId": "26395ad2-0e91-4aa5-8160-04c16e35948a"
      },
      "execution_count": 11,
      "outputs": [
        {
          "output_type": "execute_result",
          "data": {
            "text/plain": [
              "[5, 4, 3, 2, 1, 6]"
            ]
          },
          "metadata": {},
          "execution_count": 11
        }
      ]
    },
    {
      "cell_type": "code",
      "source": [
        "# sort\n",
        "\n",
        "y = ['R','C','Python','Java','R']\n",
        "y.sort(reverse = True)\n",
        "y"
      ],
      "metadata": {
        "colab": {
          "base_uri": "https://localhost:8080/"
        },
        "id": "z8qOxiGFsEl_",
        "outputId": "faab158d-5ae0-4df8-d86c-99f530fad2d0"
      },
      "execution_count": 19,
      "outputs": [
        {
          "output_type": "execute_result",
          "data": {
            "text/plain": [
              "['R', 'R', 'Python', 'Java', 'C']"
            ]
          },
          "metadata": {},
          "execution_count": 19
        }
      ]
    },
    {
      "cell_type": "code",
      "source": [
        "#index\n",
        "\n",
        "x = [10,40,55,30]\n",
        "x.index(30)\n",
        "x"
      ],
      "metadata": {
        "colab": {
          "base_uri": "https://localhost:8080/"
        },
        "id": "UviSdfcAsa44",
        "outputId": "d7971eab-309a-490e-d4e0-20cc1c2d83a7"
      },
      "execution_count": 20,
      "outputs": [
        {
          "output_type": "execute_result",
          "data": {
            "text/plain": [
              "[10, 40, 55, 30]"
            ]
          },
          "metadata": {},
          "execution_count": 20
        }
      ]
    },
    {
      "cell_type": "code",
      "source": [
        "c = [1,10,36,1,56]\n",
        "print(c.count(1))\n",
        "c"
      ],
      "metadata": {
        "colab": {
          "base_uri": "https://localhost:8080/"
        },
        "id": "QG-J1tFrtKwN",
        "outputId": "198abf97-206f-48ca-fa34-e7a538e21da2"
      },
      "execution_count": 25,
      "outputs": [
        {
          "output_type": "stream",
          "name": "stdout",
          "text": [
            "2\n"
          ]
        },
        {
          "output_type": "execute_result",
          "data": {
            "text/plain": [
              "[1, 10, 36, 1, 56]"
            ]
          },
          "metadata": {},
          "execution_count": 25
        }
      ]
    },
    {
      "cell_type": "code",
      "source": [
        "# for loop\n",
        "\n",
        "List = ['Apple','Grape']\n",
        "for L in List:\n",
        "  print(L)\n"
      ],
      "metadata": {
        "colab": {
          "base_uri": "https://localhost:8080/"
        },
        "id": "8bWSjFHJryPK",
        "outputId": "06c5cd9d-5cc8-4af9-b056-76d87678d0e6"
      },
      "execution_count": 26,
      "outputs": [
        {
          "output_type": "stream",
          "name": "stdout",
          "text": [
            "Apple\n",
            "Grape\n"
          ]
        }
      ]
    },
    {
      "cell_type": "code",
      "source": [
        "# for in range\n",
        "\n",
        "List = ['Apple','Grape','Banana']\n",
        "for i in range(len(List)):\n",
        "    print(List[i])\n",
        "\n"
      ],
      "metadata": {
        "colab": {
          "base_uri": "https://localhost:8080/"
        },
        "id": "tn6Q9sf2uhdH",
        "outputId": "d351017a-fa6f-463b-d72e-130263d0ace5"
      },
      "execution_count": 27,
      "outputs": [
        {
          "output_type": "stream",
          "name": "stdout",
          "text": [
            "Apple\n",
            "Grape\n",
            "Banana\n"
          ]
        }
      ]
    },
    {
      "cell_type": "code",
      "source": [],
      "metadata": {
        "id": "3XKNRt01vEy8"
      },
      "execution_count": null,
      "outputs": []
    },
    {
      "cell_type": "markdown",
      "source": [
        "**TUPLE**"
      ],
      "metadata": {
        "id": "1TTKoU9CvFdv"
      }
    },
    {
      "cell_type": "code",
      "source": [
        "# empty tuple\n",
        "\n",
        "tpl= ()\n",
        "tpl\n",
        "\n",
        "# with values\n",
        "\n",
        "names = ('Jeff','Bill','Steve')\n",
        "names"
      ],
      "metadata": {
        "colab": {
          "base_uri": "https://localhost:8080/"
        },
        "id": "xKPeokR9vizV",
        "outputId": "18ff5975-1590-4e48-c7e1-715b71e0c998"
      },
      "execution_count": 29,
      "outputs": [
        {
          "output_type": "execute_result",
          "data": {
            "text/plain": [
              "('Jeff', 'Bill', 'Steve')"
            ]
          },
          "metadata": {},
          "execution_count": 29
        }
      ]
    },
    {
      "cell_type": "code",
      "source": [
        "# Tuple with mixed values\n",
        "\n",
        "tpl = (1,'Hello',2.5)\n",
        "tpl"
      ],
      "metadata": {
        "colab": {
          "base_uri": "https://localhost:8080/"
        },
        "id": "dMTBulCdwVKY",
        "outputId": "f9fd2c4f-6cfa-49b1-fde2-46d7dce0dced"
      },
      "execution_count": 30,
      "outputs": [
        {
          "output_type": "execute_result",
          "data": {
            "text/plain": [
              "(1, 'Hello', 2.5)"
            ]
          },
          "metadata": {},
          "execution_count": 30
        }
      ]
    },
    {
      "cell_type": "code",
      "source": [
        "# nested tuple\n",
        "\n",
        "tpl = ( \"Hello\",[8,5,9],(1,'Harry'))\n",
        "tpl"
      ],
      "metadata": {
        "colab": {
          "base_uri": "https://localhost:8080/"
        },
        "id": "VJtUv-tHwfTF",
        "outputId": "9790d36d-e7c6-4197-c455-43d0923fcf79"
      },
      "execution_count": 31,
      "outputs": [
        {
          "output_type": "execute_result",
          "data": {
            "text/plain": [
              "('Hello', [8, 5, 9], (1, 'Harry'))"
            ]
          },
          "metadata": {},
          "execution_count": 31
        }
      ]
    },
    {
      "cell_type": "code",
      "source": [
        "# accessing tuple elements using indexing\n",
        "\n",
        "tpl = ('a','b','c','d','f')\n",
        "tpl[0]\n",
        "tpl[4]\n"
      ],
      "metadata": {
        "colab": {
          "base_uri": "https://localhost:8080/",
          "height": 36
        },
        "id": "vh0eqpucwusl",
        "outputId": "8ff570c6-86ce-4b1f-ad91-ac942001e88f"
      },
      "execution_count": 33,
      "outputs": [
        {
          "output_type": "execute_result",
          "data": {
            "text/plain": [
              "'f'"
            ],
            "application/vnd.google.colaboratory.intrinsic+json": {
              "type": "string"
            }
          },
          "metadata": {},
          "execution_count": 33
        }
      ]
    },
    {
      "cell_type": "code",
      "source": [
        "# negative indexing\n",
        "\n",
        "tpl = ('a','b','c','d','f')\n",
        "tpl[-2]"
      ],
      "metadata": {
        "colab": {
          "base_uri": "https://localhost:8080/",
          "height": 36
        },
        "id": "8dZzf_2lxKUS",
        "outputId": "10197dec-5bda-4759-8d7c-10fca16c55c7"
      },
      "execution_count": 34,
      "outputs": [
        {
          "output_type": "execute_result",
          "data": {
            "text/plain": [
              "'d'"
            ],
            "application/vnd.google.colaboratory.intrinsic+json": {
              "type": "string"
            }
          },
          "metadata": {},
          "execution_count": 34
        }
      ]
    },
    {
      "cell_type": "code",
      "source": [
        "tpl = ('a','b','c','d','f')\n",
        "tpl[2]"
      ],
      "metadata": {
        "colab": {
          "base_uri": "https://localhost:8080/",
          "height": 36
        },
        "id": "rkSfWo5xxU9F",
        "outputId": "d2fe1b30-e7cb-40f4-d855-2792fae6fded"
      },
      "execution_count": 35,
      "outputs": [
        {
          "output_type": "execute_result",
          "data": {
            "text/plain": [
              "'c'"
            ],
            "application/vnd.google.colaboratory.intrinsic+json": {
              "type": "string"
            }
          },
          "metadata": {},
          "execution_count": 35
        }
      ]
    },
    {
      "cell_type": "code",
      "source": [
        "# slicing\n",
        "\n",
        "tpl =  ('Jeff','Bill','Steve',12,56)\n",
        "tpl[1:4]"
      ],
      "metadata": {
        "colab": {
          "base_uri": "https://localhost:8080/"
        },
        "id": "xoE1IN9CxYHj",
        "outputId": "a37ded0c-056e-46b4-d405-26b70c8cdc54"
      },
      "execution_count": 36,
      "outputs": [
        {
          "output_type": "execute_result",
          "data": {
            "text/plain": [
              "('Bill', 'Steve', 12)"
            ]
          },
          "metadata": {},
          "execution_count": 36
        }
      ]
    },
    {
      "cell_type": "code",
      "source": [
        "tpl = ('a','b','c','d','f')\n",
        "tpl[:]"
      ],
      "metadata": {
        "colab": {
          "base_uri": "https://localhost:8080/"
        },
        "id": "c38jlgAnxqs6",
        "outputId": "a8650fca-450a-4da6-a3fb-7bbdb9b38ea1"
      },
      "execution_count": 37,
      "outputs": [
        {
          "output_type": "execute_result",
          "data": {
            "text/plain": [
              "('a', 'b', 'c', 'd', 'f')"
            ]
          },
          "metadata": {},
          "execution_count": 37
        }
      ]
    },
    {
      "cell_type": "code",
      "source": [
        "# deleting tuple\n",
        "\n",
        "x = ('Ananya','Vishwa','Shivani','Rohan')\n",
        "del x"
      ],
      "metadata": {
        "id": "cEvMBVUlxx4j"
      },
      "execution_count": 40,
      "outputs": []
    },
    {
      "cell_type": "code",
      "source": [
        "# while loop in tuple\n",
        "\n",
        "tpl = ('Ananya','Vishwa','Shivani','Rohan')\n",
        "i=0\n",
        "while i < len(tpl):\n",
        "  print(tpl[i])\n",
        "  i = i+1"
      ],
      "metadata": {
        "colab": {
          "base_uri": "https://localhost:8080/"
        },
        "id": "NEW7rVAYyYyT",
        "outputId": "ee328e77-8d31-40fb-ce76-3c5f247653c7"
      },
      "execution_count": 41,
      "outputs": [
        {
          "output_type": "stream",
          "name": "stdout",
          "text": [
            "Ananya\n",
            "Vishwa\n",
            "Shivani\n",
            "Rohan\n"
          ]
        }
      ]
    },
    {
      "cell_type": "code",
      "source": [
        "# data types in tuple\n",
        "\n",
        "tuple1 = (\"apple\", \"banana\", \"cherry\")\n",
        "tuple2 = (1, 5, 7, 9, 3)\n",
        "tuple3 = (True, False, False)\n",
        "\n",
        "tuple3"
      ],
      "metadata": {
        "colab": {
          "base_uri": "https://localhost:8080/"
        },
        "id": "LpOW8elBy1fk",
        "outputId": "fadcb5af-69d9-497e-dbdf-871f5c67ed38"
      },
      "execution_count": 45,
      "outputs": [
        {
          "output_type": "execute_result",
          "data": {
            "text/plain": [
              "(True, False, False)"
            ]
          },
          "metadata": {},
          "execution_count": 45
        }
      ]
    },
    {
      "cell_type": "code",
      "source": [
        "# convert tuple to list\n",
        "\n",
        "x = (\"apple\", \"banana\", \"cherry\")\n",
        "y = list(x)\n",
        "y[1] = \"kiwi\"\n",
        "x = tuple(y)\n",
        "\n",
        "print(x)"
      ],
      "metadata": {
        "colab": {
          "base_uri": "https://localhost:8080/"
        },
        "id": "Tj0Cc5VHzZV9",
        "outputId": "087234bf-64e4-499d-eeee-c227830f7764"
      },
      "execution_count": 46,
      "outputs": [
        {
          "output_type": "stream",
          "name": "stdout",
          "text": [
            "('apple', 'kiwi', 'cherry')\n"
          ]
        }
      ]
    },
    {
      "cell_type": "markdown",
      "source": [
        "**SET**"
      ],
      "metadata": {
        "id": "NRUJTvgPzm6F"
      }
    },
    {
      "cell_type": "code",
      "source": [
        "# create a set\n",
        "\n",
        "myset = {\"Bike\", \"Car\", \"Motor vehicle\"}\n",
        "myset"
      ],
      "metadata": {
        "colab": {
          "base_uri": "https://localhost:8080/"
        },
        "id": "jL6EHO_azrZA",
        "outputId": "03db39e1-eb39-48e6-a6db-380acd2e2a93"
      },
      "execution_count": 47,
      "outputs": [
        {
          "output_type": "execute_result",
          "data": {
            "text/plain": [
              "{'Bike', 'Car', 'Motor vehicle'}"
            ]
          },
          "metadata": {},
          "execution_count": 47
        }
      ]
    },
    {
      "cell_type": "code",
      "source": [
        "# duplicate values\n",
        "\n",
        "thisset = {\"apple\", \"banana\", \"cherry\", \"apple\"}\n",
        "\n",
        "print(thisset)"
      ],
      "metadata": {
        "colab": {
          "base_uri": "https://localhost:8080/"
        },
        "id": "trQmjqR2z_GX",
        "outputId": "dd808574-535e-4deb-d6f4-b700d500210b"
      },
      "execution_count": 48,
      "outputs": [
        {
          "output_type": "stream",
          "name": "stdout",
          "text": [
            "{'apple', 'cherry', 'banana'}\n"
          ]
        }
      ]
    },
    {
      "cell_type": "code",
      "source": [
        "# Add Set\n",
        "\n",
        "add_set = set((1,2,3,4,5))\n",
        "add_set\n"
      ],
      "metadata": {
        "colab": {
          "base_uri": "https://localhost:8080/"
        },
        "id": "_FCm_cI90Ogq",
        "outputId": "ba712a85-c0ec-4fb4-b1ee-7bf8a281e072"
      },
      "execution_count": 49,
      "outputs": [
        {
          "output_type": "execute_result",
          "data": {
            "text/plain": [
              "{1, 2, 3, 4, 5}"
            ]
          },
          "metadata": {},
          "execution_count": 49
        }
      ]
    },
    {
      "cell_type": "code",
      "source": [
        "#update set\n",
        "\n",
        "add_set.update((1,2,3,4,5,'Ananya','kiwi'))\n",
        "add_set\n",
        "\n"
      ],
      "metadata": {
        "colab": {
          "base_uri": "https://localhost:8080/"
        },
        "id": "4ga0xAXS0bMa",
        "outputId": "f79043bc-e8e2-4f1a-eba3-d9ebf4be0263"
      },
      "execution_count": 51,
      "outputs": [
        {
          "output_type": "execute_result",
          "data": {
            "text/plain": [
              "{1, 2, 3, 4, 5, 'Ananya', 'kiwi'}"
            ]
          },
          "metadata": {},
          "execution_count": 51
        }
      ]
    },
    {
      "cell_type": "code",
      "source": [
        "# remove\n",
        "\n",
        "add_set.remove(4)\n",
        "add_set\n",
        "\n"
      ],
      "metadata": {
        "colab": {
          "base_uri": "https://localhost:8080/"
        },
        "id": "7dtzbc2Q0vDw",
        "outputId": "93a7a92b-3f52-4a23-99dc-8296e0285c47"
      },
      "execution_count": 53,
      "outputs": [
        {
          "output_type": "execute_result",
          "data": {
            "text/plain": [
              "{1, 2, 3, 5, 'Ananya', 'kiwi'}"
            ]
          },
          "metadata": {},
          "execution_count": 53
        }
      ]
    },
    {
      "cell_type": "code",
      "source": [
        "# loops\n",
        "\n",
        "thisset = {\"Bike\", \"Car\", \"Motor Vehicle\"}\n",
        "\n",
        "for x in thisset:\n",
        "  print(x)"
      ],
      "metadata": {
        "colab": {
          "base_uri": "https://localhost:8080/"
        },
        "id": "8uGz5zi70-Au",
        "outputId": "34e0947f-1139-4ac4-89dc-adb9d2097a57"
      },
      "execution_count": 54,
      "outputs": [
        {
          "output_type": "stream",
          "name": "stdout",
          "text": [
            "Motor Vehicle\n",
            "Car\n",
            "Bike\n"
          ]
        }
      ]
    },
    {
      "cell_type": "code",
      "source": [
        "# join set union() method\n",
        "\n",
        "set1 = {\"a\", \"b\" , \"c\"}\n",
        "set2 = {1, 2, 3}\n",
        "\n",
        "set3 = set1.union(set2)\n",
        "print(set3)"
      ],
      "metadata": {
        "colab": {
          "base_uri": "https://localhost:8080/"
        },
        "id": "obopkqd61RqV",
        "outputId": "fcf5b8f9-d1a8-435d-ad9b-101eac25d7d4"
      },
      "execution_count": 55,
      "outputs": [
        {
          "output_type": "stream",
          "name": "stdout",
          "text": [
            "{1, 2, 'b', 3, 'a', 'c'}\n"
          ]
        }
      ]
    },
    {
      "cell_type": "code",
      "source": [
        "# update\n",
        "\n",
        "set1 = {\"p\", \"q\" , \"r\"}\n",
        "set2 = {6, 9, 10}\n",
        "\n",
        "set1.update(set2)\n",
        "print(set1)"
      ],
      "metadata": {
        "colab": {
          "base_uri": "https://localhost:8080/"
        },
        "id": "AdNoSzqg1dW0",
        "outputId": "6c0afb37-817f-4cfe-f3c4-7da375bd8dc6"
      },
      "execution_count": 56,
      "outputs": [
        {
          "output_type": "stream",
          "name": "stdout",
          "text": [
            "{'p', 'q', 6, 'r', 10, 9}\n"
          ]
        }
      ]
    },
    {
      "cell_type": "markdown",
      "source": [
        "**DICTIONARY**"
      ],
      "metadata": {
        "id": "TLDnrg1S1o-n"
      }
    },
    {
      "cell_type": "code",
      "source": [
        "# create dict\n",
        "\n",
        "thisdict = {\n",
        "  \"brand\": \"Ford\",\n",
        "  \"model\": \"Mustang\",\n",
        "  \"year\": 1964\n",
        "}\n",
        "\n",
        "thisdict"
      ],
      "metadata": {
        "colab": {
          "base_uri": "https://localhost:8080/"
        },
        "id": "PSvYjTjL1sYZ",
        "outputId": "6bbe47f0-2edf-422e-eabc-8edc75f2b3f7"
      },
      "execution_count": 58,
      "outputs": [
        {
          "output_type": "execute_result",
          "data": {
            "text/plain": [
              "{'brand': 'Ford', 'model': 'Mustang', 'year': 1964}"
            ]
          },
          "metadata": {},
          "execution_count": 58
        }
      ]
    },
    {
      "cell_type": "code",
      "source": [
        "thisdict = {\n",
        "  \"brand\": \"Ford\",\n",
        "  \"model\": \"Mustang\",\n",
        "  \"year\": 1964\n",
        "}\n",
        "print(thisdict[\"brand\"])"
      ],
      "metadata": {
        "colab": {
          "base_uri": "https://localhost:8080/"
        },
        "id": "maPiedDF14Ul",
        "outputId": "c1c94400-cdbf-4460-e79f-15bd3358d57d"
      },
      "execution_count": 59,
      "outputs": [
        {
          "output_type": "stream",
          "name": "stdout",
          "text": [
            "Ford\n"
          ]
        }
      ]
    },
    {
      "cell_type": "code",
      "source": [
        "# duplicate values\n",
        "\n",
        "thisdict = {\n",
        "  \"brand\": \"Ford\",\n",
        "  \"model\": \"Mustang\",\n",
        "  \"year\": 1964,\n",
        "  \"year\": 2020\n",
        "}\n",
        "print(thisdict)"
      ],
      "metadata": {
        "colab": {
          "base_uri": "https://localhost:8080/"
        },
        "id": "VgtP5SY22BgX",
        "outputId": "edba4c68-aca3-430a-d66f-dd0dfe2372fe"
      },
      "execution_count": 60,
      "outputs": [
        {
          "output_type": "stream",
          "name": "stdout",
          "text": [
            "{'brand': 'Ford', 'model': 'Mustang', 'year': 2020}\n"
          ]
        }
      ]
    },
    {
      "cell_type": "code",
      "source": [
        "# adding values\n",
        "\n",
        "dict = {\n",
        "  \"brand\": \"Ford\",\n",
        "  \"model\": \"Mustang\",\n",
        "  \"year\": 1964\n",
        "}\n",
        "dict[\"color\"] = \"red\"\n",
        "print(dict)"
      ],
      "metadata": {
        "colab": {
          "base_uri": "https://localhost:8080/"
        },
        "id": "vkrnTxH22Oj1",
        "outputId": "1141170e-a78c-481c-bd0d-7a0e4ce4d0a5"
      },
      "execution_count": 61,
      "outputs": [
        {
          "output_type": "stream",
          "name": "stdout",
          "text": [
            "{'brand': 'Ford', 'model': 'Mustang', 'year': 1964, 'color': 'red'}\n"
          ]
        }
      ]
    },
    {
      "cell_type": "code",
      "source": [
        "# update\n",
        "\n",
        "dict = {\n",
        "  \"brand\": \"Ford\",\n",
        "  \"model\": \"Mustang\",\n",
        "  \"year\": 1964\n",
        "}\n",
        "dict.update({\"color\": \"black\"})"
      ],
      "metadata": {
        "id": "GB5wPt8Y2UOd"
      },
      "execution_count": 62,
      "outputs": []
    },
    {
      "cell_type": "code",
      "source": [
        "# remove\n",
        "\n",
        "dict = {\n",
        "  \"brand\": \"Ford\",\n",
        "  \"model\": \"Mustang\",\n",
        "  \"year\": 1964\n",
        "}\n",
        "dict.pop(\"model\")\n",
        "print(dict)\n"
      ],
      "metadata": {
        "colab": {
          "base_uri": "https://localhost:8080/"
        },
        "id": "qOL_aRcW2dS6",
        "outputId": "2eeddcd8-0313-4179-becf-985d8a64fc7a"
      },
      "execution_count": 64,
      "outputs": [
        {
          "output_type": "stream",
          "name": "stdout",
          "text": [
            "{'brand': 'Ford', 'year': 1964}\n"
          ]
        }
      ]
    },
    {
      "cell_type": "code",
      "source": [
        "# remove last inserted element\n",
        "\n",
        "dict = {\n",
        "  \"brand\": \"Ford\",\n",
        "  \"model\": \"Mustang\",\n",
        "  \"year\": 1964\n",
        "}\n",
        "dict.popitem()\n",
        "print(dict)"
      ],
      "metadata": {
        "colab": {
          "base_uri": "https://localhost:8080/"
        },
        "id": "MjajEOlD20xg",
        "outputId": "66d6d0ed-8202-4022-9ebf-245a14369bd6"
      },
      "execution_count": 65,
      "outputs": [
        {
          "output_type": "stream",
          "name": "stdout",
          "text": [
            "{'brand': 'Ford', 'model': 'Mustang'}\n"
          ]
        }
      ]
    },
    {
      "cell_type": "code",
      "source": [
        "# clear all\n",
        "\n",
        "dict = {\n",
        "  \"brand\": \"Ford\",\n",
        "  \"model\": \"Mustang\",\n",
        "  \"year\": 1964\n",
        "}\n",
        "dict.clear()\n",
        "print(dict)"
      ],
      "metadata": {
        "colab": {
          "base_uri": "https://localhost:8080/"
        },
        "id": "-EVsrMYj3Mnd",
        "outputId": "0bbb6160-51c9-47ee-b542-2fdfb00657e2"
      },
      "execution_count": 66,
      "outputs": [
        {
          "output_type": "stream",
          "name": "stdout",
          "text": [
            "{}\n"
          ]
        }
      ]
    },
    {
      "cell_type": "code",
      "source": [
        "# loops\n",
        "\n",
        "for x in thisdict:\n",
        "  print(x)"
      ],
      "metadata": {
        "colab": {
          "base_uri": "https://localhost:8080/"
        },
        "id": "LH3Ek4qY3gds",
        "outputId": "8eb40492-c665-4c35-a5aa-b7dd9487bb3e"
      },
      "execution_count": 70,
      "outputs": [
        {
          "output_type": "stream",
          "name": "stdout",
          "text": [
            "brand\n",
            "model\n",
            "year\n",
            "color\n"
          ]
        }
      ]
    },
    {
      "cell_type": "code",
      "source": [
        "for x in thisdict:\n",
        "  print(thisdict[x])"
      ],
      "metadata": {
        "colab": {
          "base_uri": "https://localhost:8080/"
        },
        "id": "sGNOJPJl3vuQ",
        "outputId": "76e3afd2-82cc-41f2-e101-05c1715febd1"
      },
      "execution_count": 71,
      "outputs": [
        {
          "output_type": "stream",
          "name": "stdout",
          "text": [
            "Ford\n",
            "Mustang\n",
            "1964\n",
            "black\n"
          ]
        }
      ]
    },
    {
      "cell_type": "code",
      "source": [
        "# values\n",
        "\n",
        "for x in thisdict.keys():\n",
        "  print(x)"
      ],
      "metadata": {
        "colab": {
          "base_uri": "https://localhost:8080/"
        },
        "id": "PlwEXqXe32b4",
        "outputId": "bae579ed-8c4b-4213-b06f-02a7c88020ef"
      },
      "execution_count": 73,
      "outputs": [
        {
          "output_type": "stream",
          "name": "stdout",
          "text": [
            "brand\n",
            "model\n",
            "year\n",
            "color\n"
          ]
        }
      ]
    },
    {
      "cell_type": "code",
      "source": [
        "# item method\n",
        "\n",
        "for x, y in thisdict.items():\n",
        "  print(x, y)"
      ],
      "metadata": {
        "colab": {
          "base_uri": "https://localhost:8080/"
        },
        "id": "6q_rAylT4STb",
        "outputId": "daa9c41d-c2d9-474b-8bf5-2621700a191b"
      },
      "execution_count": 74,
      "outputs": [
        {
          "output_type": "stream",
          "name": "stdout",
          "text": [
            "brand Ford\n",
            "model Mustang\n",
            "year 1964\n",
            "color black\n"
          ]
        }
      ]
    },
    {
      "cell_type": "code",
      "source": [
        "# copy () method\n",
        "\n",
        "thisdict = {\n",
        "  \"brand\": \"Benz\",\n",
        "  \"model\": \"marsidez\",\n",
        "  \"year\": 1980\n",
        "}\n",
        "mydict = thisdict.copy()\n",
        "print(mydict)\n"
      ],
      "metadata": {
        "colab": {
          "base_uri": "https://localhost:8080/"
        },
        "id": "KH_6ggYg4x3i",
        "outputId": "11020919-1343-48a5-dfa0-89f43c66c5c6"
      },
      "execution_count": 77,
      "outputs": [
        {
          "output_type": "stream",
          "name": "stdout",
          "text": [
            "{'brand': 'Benz', 'model': 'marsidez', 'year': 1980}\n"
          ]
        }
      ]
    },
    {
      "cell_type": "code",
      "source": [
        "# Three Dictionary\n",
        "\n",
        "myfamily = {\n",
        "  \"member1\" : {\n",
        "    \"name\" : \"Vadiraj\",\n",
        "    \"year\" : 1965\n",
        "  },\n",
        "  \"member2\" : {\n",
        "    \"name\" : \"Tara\",\n",
        "    \"year\" : 2010\n",
        "  },\n",
        "  \"member3\" : {\n",
        "    \"name\" : \"Lyra\",\n",
        "    \"year\" : 2011\n",
        "  }\n",
        "}\n",
        "\n",
        "myfamily"
      ],
      "metadata": {
        "colab": {
          "base_uri": "https://localhost:8080/"
        },
        "id": "ZtUZPfjL5gGo",
        "outputId": "43764a13-3435-4724-8553-86dea80a7ac5"
      },
      "execution_count": 79,
      "outputs": [
        {
          "output_type": "execute_result",
          "data": {
            "text/plain": [
              "{'member1': {'name': 'Vadiraj', 'year': 1965},\n",
              " 'member2': {'name': 'Tara', 'year': 2010},\n",
              " 'member3': {'name': 'Lyra', 'year': 2011}}"
            ]
          },
          "metadata": {},
          "execution_count": 79
        }
      ]
    }
  ]
}