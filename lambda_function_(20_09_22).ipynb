{
  "nbformat": 4,
  "nbformat_minor": 0,
  "metadata": {
    "colab": {
      "provenance": [],
      "authorship_tag": "ABX9TyNWLSQQX1esutEz6pM8dehc",
      "include_colab_link": true
    },
    "kernelspec": {
      "name": "python3",
      "display_name": "Python 3"
    },
    "language_info": {
      "name": "python"
    }
  },
  "cells": [
    {
      "cell_type": "markdown",
      "metadata": {
        "id": "view-in-github",
        "colab_type": "text"
      },
      "source": [
        "<a href=\"https://colab.research.google.com/github/Ananya-Upadhyaya/Ananya-Upadhyaya/blob/main/lambda_function_(20_09_22).ipynb\" target=\"_parent\"><img src=\"https://colab.research.google.com/assets/colab-badge.svg\" alt=\"Open In Colab\"/></a>"
      ]
    },
    {
      "cell_type": "code",
      "execution_count": 6,
      "metadata": {
        "colab": {
          "base_uri": "https://localhost:8080/"
        },
        "id": "2xLis8DekPQx",
        "outputId": "e2110cf9-78fd-453b-f45f-c91e2352ea1c"
      },
      "outputs": [
        {
          "output_type": "stream",
          "name": "stdout",
          "text": [
            "22\n",
            "60\n"
          ]
        }
      ],
      "source": [
        "#Write a Python program to create a lambda function that adds 15 to a given number passed in as an argument,\n",
        "#also create a lambda function that multiplies argument x with argument y and print the results\n",
        "\n",
        "s = lambda a : a + 15\n",
        "print(s(7))\n",
        "\n",
        "s = lambda x, y : x * y\n",
        "print(s(15, 4))\n"
      ]
    },
    {
      "cell_type": "code",
      "source": [
        "# 2.write python program to extract PRESENT year,month,date and time using Lambda\n",
        "\n",
        "import datetime\n",
        "currentDateTime = datetime.datetime(2022,9,20)\n",
        "print(currentDateTime)\n",
        "year = lambda x: x.year\n",
        "month = lambda x: x.month\n",
        "day = lambda x: x.day\n",
        "print('Year - ',year(currentDateTime))\n",
        "print('Month - ',month(currentDateTime))\n",
        "print('Day - ',day(currentDateTime))\n"
      ],
      "metadata": {
        "colab": {
          "base_uri": "https://localhost:8080/"
        },
        "id": "zTA8FQOfnFUR",
        "outputId": "0ff63ce2-f187-4fb5-8235-85ee7ede3dba"
      },
      "execution_count": 24,
      "outputs": [
        {
          "output_type": "stream",
          "name": "stdout",
          "text": [
            "2022-09-20 00:00:00\n",
            "Year -  2022\n",
            "Month -  9\n",
            "Day -  20\n"
          ]
        }
      ]
    },
    {
      "cell_type": "code",
      "source": [
        "#3.Write a Python program that sum the length of the names of a given list of names after removing the names that starts with a lowercase letter. Use lambda function.\n",
        "\n",
        "names = ['Anu', 'Dyna', 'Vaish', 'Arya']\n",
        "names=list(filter(lambda el:el[0].isupper() and el[1].islower(),names))\n",
        "print(\"Result:\")\n",
        "print(len(''.join(names)))"
      ],
      "metadata": {
        "colab": {
          "base_uri": "https://localhost:8080/"
        },
        "id": "UI3db5gAm_Ls",
        "outputId": "a398347c-88b5-4e0f-b398-3843ced0ee60"
      },
      "execution_count": 21,
      "outputs": [
        {
          "output_type": "stream",
          "name": "stdout",
          "text": [
            "Result:\n",
            "0\n"
          ]
        }
      ]
    },
    {
      "cell_type": "code",
      "source": [
        "#4. Write a Python program to extract specified size of strings from a give list of string values using lambda\n",
        "\n",
        "def extract_string(str_list, l):\n",
        "    result = list(filter(lambda e: len(e) == l, str_list))\n",
        "    return result\n",
        "\n",
        "str_list = ['Ananya', 'Data', 'Analytics', 'cloud'] \n",
        "print(\"First list:\")\n",
        "print(str_list)\n",
        "l = int(input(\"Enter the length of string: \"))\n",
        "print(\"\\nlength of the string to extract: \")\n",
        "print(l)\n",
        "print(\"\\nAfter extracting strings of specified length from the list: \")\n",
        "print(extract_string(str_list , l))"
      ],
      "metadata": {
        "colab": {
          "base_uri": "https://localhost:8080/"
        },
        "id": "_uXNBGWnsGi-",
        "outputId": "4fc5dbef-73f3-4ce8-87d3-89d58be974ec"
      },
      "execution_count": 32,
      "outputs": [
        {
          "output_type": "stream",
          "name": "stdout",
          "text": [
            "First list:\n",
            "['Ananya', 'Data', 'Analytics', 'cloud']\n",
            "Enter the length of string: 9\n",
            "\n",
            "length of the string to extract: \n",
            "9\n",
            "\n",
            "After extracting strings of specified length from the list: \n",
            "['Analytics']\n"
          ]
        }
      ]
    },
    {
      "cell_type": "code",
      "source": [
        "#5. Write a Python program to find the elements of a given list of strings that contain specific substring using lambda.\n",
        "#Original list:\n",
        "#['red', 'black', 'white', 'green', 'orange']\n",
        "#Substring to search:\n",
        "#ack\n",
        "#Elements of the said list that contain specific substring:\n",
        "#['black']\n",
        "#Substring to search:\n",
        "#abc\n",
        "#Elements of the said list that contain specific substring:\n",
        "#[]\n",
        "\n",
        "def sub_string(str1, sub_str):\n",
        "    result = list(filter(lambda x: sub_str in x, str1))\n",
        "    return result\n",
        "colors = [\"red\", \"black\", \"white\", \"green\", \"orange\"]\n",
        "print(\"Original list:\")\n",
        "print(colors)\n",
        "\n",
        "sub_str = input(\"Enter the sub_string to search: \")\n",
        "print(\"\\nSubstring to search:\")\n",
        "print(sub_str)\n",
        "\n",
        "print(\"Elements of the list that contain specific substring:\")\n",
        "print(sub_string(colors, sub_str))\n",
        "\n",
        "sub_str = input(\"Enter element to search in substring: \")\n",
        "\n",
        "print(\"\\nSubstring to search:\")\n",
        "print(sub_str)\n",
        "\n",
        "print(\"Elements of the list that contain specific substring:\")\n",
        "print(sub_string(colors, sub_str))\n"
      ],
      "metadata": {
        "colab": {
          "base_uri": "https://localhost:8080/"
        },
        "id": "LiiV1lOXuotp",
        "outputId": "9d1c7b82-b6af-4c13-e986-78139e5cb0c0"
      },
      "execution_count": 38,
      "outputs": [
        {
          "output_type": "stream",
          "name": "stdout",
          "text": [
            "Original list:\n",
            "['red', 'black', 'white', 'green', 'orange']\n",
            "Enter the sub_string to search: ack\n",
            "\n",
            "Substring to search:\n",
            "ack\n",
            "Elements of the list that contain specific substring:\n",
            "['black']\n",
            "Enter element to search in substring: abcd\n",
            "\n",
            "Substring to search:\n",
            "abcd\n",
            "Elements of the list that contain specific substring:\n",
            "[]\n"
          ]
        }
      ]
    }
  ]
}