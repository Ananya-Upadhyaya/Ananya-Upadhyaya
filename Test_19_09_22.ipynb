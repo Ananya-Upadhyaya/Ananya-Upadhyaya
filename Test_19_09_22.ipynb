{
  "nbformat": 4,
  "nbformat_minor": 0,
  "metadata": {
    "colab": {
      "provenance": [],
      "collapsed_sections": [],
      "authorship_tag": "ABX9TyO3Bgzc7j1b8feUecj+ZKmn",
      "include_colab_link": true
    },
    "kernelspec": {
      "name": "python3",
      "display_name": "Python 3"
    },
    "language_info": {
      "name": "python"
    }
  },
  "cells": [
    {
      "cell_type": "markdown",
      "metadata": {
        "id": "view-in-github",
        "colab_type": "text"
      },
      "source": [
        "<a href=\"https://colab.research.google.com/github/Ananya-Upadhyaya/Ananya-Upadhyaya/blob/main/Test_19_09_22.ipynb\" target=\"_parent\"><img src=\"https://colab.research.google.com/assets/colab-badge.svg\" alt=\"Open In Colab\"/></a>"
      ]
    },
    {
      "cell_type": "code",
      "execution_count": 89,
      "metadata": {
        "id": "MpCl4ZyLHJEQ",
        "colab": {
          "base_uri": "https://localhost:8080/"
        },
        "outputId": "4a84ae2e-bc53-49a9-95c9-527cf5d4aab5"
      },
      "outputs": [
        {
          "output_type": "stream",
          "name": "stdout",
          "text": [
            "Enter number of elements : 20\n",
            "1\n",
            "2\n",
            "3\n",
            "4\n",
            "5\n",
            "6\n",
            "7\n",
            "9\n",
            "8\n",
            "10\n",
            "11\n",
            "12\n",
            "13\n",
            "14\n",
            "15\n",
            "16\n",
            "17\n",
            "18\n",
            "19\n",
            "20\n",
            "[1, 2, 3, 4, 5, 6, 7, 9, 8, 10, 11, 12, 13, 14, 15, 16, 17, 18, 19, 20]\n"
          ]
        }
      ],
      "source": [
        "# Input 20 Numbers from the user\n",
        "lst =[]\n",
        "n = int(input(\"Enter number of elements : \"))\n",
        "  \n",
        "# iterating till the range\n",
        "for i in range(0, n):\n",
        "    element = int(input())\n",
        "  \n",
        "    lst.append(element) \n",
        "      \n",
        "print(lst)\n"
      ]
    },
    {
      "cell_type": "code",
      "source": [
        "# conduct linear search after taking a number from the user\n",
        "\n",
        "def linear_Search(list,n,key):\n",
        "\n",
        " for i in range(0,n):\n",
        "   if(list[i] == key):\n",
        "     return i\n",
        " return -1\n",
        "\n",
        "list = input(\"Enter list of numbers: \")\n",
        "list = list.split()\n",
        "list = [int(x) for x in list]\n",
        "key = int(input(\"The number to search for: \"))\n",
        "\n",
        "n= len(list)\n",
        "res = linear_Search(list,n,key)\n",
        "if(res==-1):\n",
        "  print(\"Element is not found\")\n",
        "else:\n",
        "  print(\"Element found at index: \",res)"
      ],
      "metadata": {
        "colab": {
          "base_uri": "https://localhost:8080/"
        },
        "id": "Hg3fbHMI-Uee",
        "outputId": "be12ea3a-81e3-4608-c089-90195aabfc15"
      },
      "execution_count": null,
      "outputs": [
        {
          "output_type": "stream",
          "name": "stdout",
          "text": [
            "Enter list of numbers: 12 15 10 8 5 7\n",
            "The number to search for: 10\n",
            "Element found at index:  2\n"
          ]
        }
      ]
    },
    {
      "cell_type": "code",
      "source": [
        "\n",
        "# conduct Binary search after taking a number from the user\n",
        "\n",
        "list = []\n",
        "print(\"Enter 10 Numbers:\")\n",
        "for i in range(10):\n",
        "    list.insert(i, int(input()))\n",
        "print(\"Enter a Number to Search:\")\n",
        "search = int(input())\n",
        "low = 0\n",
        "high = 9\n",
        "mid = (low+high)/2\n",
        "mid = int(mid)\n",
        "10while low <= high:\n",
        "    if list[mid]<search:\n",
        "        low = mid+1\n",
        "    elif list[mid]==search:\n",
        "        print(\"The Number Found at Position:\")\n",
        "        print(mid+1)\n",
        "        break\n",
        "    else:\n",
        "        high = mid-1\n",
        "    mid = (low+high)/2\n",
        "    mid = int(mid)\n",
        "if low>high:\n",
        "    print(\"The Number is not Found in the List\")"
      ],
      "metadata": {
        "id": "7tEIXlXnCUP3",
        "colab": {
          "base_uri": "https://localhost:8080/"
        },
        "outputId": "92d94749-c426-4d65-c6c9-16e7c941546f"
      },
      "execution_count": 90,
      "outputs": [
        {
          "output_type": "stream",
          "name": "stdout",
          "text": [
            "Enter 10 Numbers:\n",
            "12\n",
            "18\n",
            "10\n",
            "8\n",
            "7\n",
            "15\n",
            "11\n",
            "6\n",
            "3\n",
            "2\n",
            "Enter a Number to Search:\n",
            "7\n",
            "The Number Found at Position:\n",
            "5\n"
          ]
        }
      ]
    },
    {
      "cell_type": "code",
      "source": [
        "# conduct Bubble sort after taking a number from the user\n",
        "list = []\n",
        "number = int(input(\"Please Enter the Total Elements : \"))\n",
        "for i in range(number):\n",
        "    value = int(input(\"Please enter the %d Item : \" %i))\n",
        "    list.append(value)\n",
        "\n",
        "for i in range(number -1):\n",
        "    for j in range(number - i - 1):\n",
        "        if(list[j] > list[j + 1]):\n",
        "             temp = list[j]\n",
        "             list[j] = list[j + 1]\n",
        "             list[j + 1] = temp\n",
        "\n",
        "print(\"The Result in Ascending Order : \", list) \n",
        "\n"
      ],
      "metadata": {
        "colab": {
          "base_uri": "https://localhost:8080/"
        },
        "id": "P7K6700DMdgu",
        "outputId": "0fe82e7a-b3ba-42a2-b115-cc2be4712d0e"
      },
      "execution_count": 91,
      "outputs": [
        {
          "output_type": "stream",
          "name": "stdout",
          "text": [
            "Please Enter the Total Elements : 5\n",
            "Please enter the 0 Item : 10\n",
            "Please enter the 1 Item : 20\n",
            "Please enter the 2 Item : 17\n",
            "Please enter the 3 Item : 8\n",
            "Please enter the 4 Item : 2\n",
            "The Result in Ascending Order :  [2, 8, 10, 17, 20]\n"
          ]
        }
      ]
    },
    {
      "cell_type": "code",
      "source": [
        "# explain in paragraph what is bubble sorting\n",
        "\n",
        "Bubble sort is a sorting algorithm to sort a list into ascending or descending order. It is a easy sorting algorithm but time complexity is nopt efficient. Its time complexity is O(n^2). It is a in place sorting does not take extra space and efficient for space complexity.\n",
        "In bubble sort, two for loops are used. The outer for loop iterates over the list. The inner for loop also iterates over the list for all the outer loop iterations.The main operation in Bubble sort is to compare two consecutive elements. If the first element is greater than the next element, then swap both, so that the smaller element comes ahead and the greater element goes back.In one iteration of outer loop, the greatest element of the list goes at the last index. In the second iteration of the outer loop, the second largest element of the list goes at the second last index and so on. \n",
        "Therefore, we get the sorted list at the end of all the iterations.\n",
        "\n",
        "Advantage of bubble sort:\n",
        "1.Besides the memory that the array or list occupies, the bubble sort requires very little memory.\n",
        "2.The bubble sort is made up of only a few lines of code. \n",
        "3.With a best-case running time complexity of O(n), the bubble sort is helpful in determining whether or not a list is sorted. \n",
        "Other sorting methods frequently cycle through their entire sorting sequence, taking O(n2) or O(n log n) time to complete.\n",
        "\n",
        "Disadvantage of bubble sort:\n",
        "1.The main disadvantage is the amount of time it takes. It is highly inefficient for large data sets, with a running time of O(n2)."
      ],
      "metadata": {
        "id": "HejIThNqVOMC"
      },
      "execution_count": null,
      "outputs": []
    },
    {
      "cell_type": "code",
      "source": [
        "# Find mean, median,mode of the dataset\n",
        "\n",
        "# mean\n",
        "list = []\n",
        "print(\"Enter 10 numbers:\")\n",
        "for i in range(10):\n",
        "  list.insert(i, int(input()))\n",
        "Total_sum = sum(list)\n",
        "mean = Total_sum/10\n",
        "print(mean)"
      ],
      "metadata": {
        "colab": {
          "base_uri": "https://localhost:8080/"
        },
        "id": "8pSV9-l7Yj8f",
        "outputId": "80b8ea89-8af9-4ffd-acf1-2c560caa3aa7"
      },
      "execution_count": 62,
      "outputs": [
        {
          "output_type": "stream",
          "name": "stdout",
          "text": [
            "Enter 10 numbers:\n",
            "1\n",
            "3\n",
            "5\n",
            "7\n",
            "2\n",
            "4\n",
            "6\n",
            "8\n",
            "9\n",
            "0\n",
            "4.5\n"
          ]
        }
      ]
    },
    {
      "cell_type": "code",
      "source": [
        "# median\n",
        "\n",
        "list =[]\n",
        "print(\"Enter 5 numbers:\")\n",
        "for i in range(5):\n",
        "   list.insert(i, int(input()))\n",
        "list.sort()\n",
        "if len(list) %2 == 0:\n",
        "  first_median = list[len(list)//2]\n",
        "  second_median = list[len(list)//2-1]\n",
        "  median =(first_median + second_median)/2\n",
        "else:\n",
        "  median = list[len(list)//2]\n",
        "print(\"median =\", median )"
      ],
      "metadata": {
        "colab": {
          "base_uri": "https://localhost:8080/"
        },
        "id": "juSd6BHGbqdu",
        "outputId": "efba446f-534b-4484-cbd5-991fe2182681"
      },
      "execution_count": 65,
      "outputs": [
        {
          "output_type": "stream",
          "name": "stdout",
          "text": [
            "Enter 5 numbers:\n",
            "6\n",
            "8\n",
            "1\n",
            "7\n",
            "5\n",
            "median = 6\n"
          ]
        }
      ]
    },
    {
      "cell_type": "code",
      "source": [
        "#mode\n",
        "\n",
        "list =[]\n",
        "count = 0\n",
        "print(\"Enter 5 number:\")\n",
        "for i in range(5):\n",
        "  list.insert(i, int(input()))\n",
        "mode = list[]\n",
        "for i in range(5):\n",
        "  frequency = list.count(i)\n",
        "  if(frequency > count):\n",
        "    count = frequency\n",
        "    mode = i\n",
        "print(\"mode = \", mode)"
      ],
      "metadata": {
        "colab": {
          "base_uri": "https://localhost:8080/"
        },
        "id": "0qSNl-OHc8_8",
        "outputId": "703a7dfd-e75f-4f05-90ad-92091875af0c"
      },
      "execution_count": 68,
      "outputs": [
        {
          "output_type": "stream",
          "name": "stdout",
          "text": [
            "Enter 5 number:\n",
            "2\n",
            "4\n",
            "1\n",
            "0\n",
            "7\n",
            "mode =  0\n"
          ]
        }
      ]
    },
    {
      "cell_type": "code",
      "source": [
        "list =[]\n",
        "print(\"Enter 5 numbers: \")\n",
        "for k in range(5):\n",
        "  list.insert(k, int(input()))\n",
        "for num in list:\n",
        " if num > 1: \n",
        "    for i in range(2, num): \n",
        "        if (num % i) == 0: \n",
        "            print(num, \"is not a prime number\") \n",
        "            break \n",
        "    else: \n",
        "        print(num, \"is a prime number\") "
      ],
      "metadata": {
        "colab": {
          "base_uri": "https://localhost:8080/"
        },
        "id": "f0DrSivQzVHf",
        "outputId": "73e618f7-8113-4f4e-f058-618b982ff17f"
      },
      "execution_count": 114,
      "outputs": [
        {
          "output_type": "stream",
          "name": "stdout",
          "text": [
            "Enter 5 numbers: \n",
            "3\n",
            "2\n",
            "5\n",
            "6\n",
            "9\n",
            "3 is a prime number\n",
            "2 is a prime number\n",
            "5 is a prime number\n",
            "6 is not a prime number\n",
            "9 is not a prime number\n"
          ]
        }
      ]
    }
  ]
}