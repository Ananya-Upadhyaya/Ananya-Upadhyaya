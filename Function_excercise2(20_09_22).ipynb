{
  "nbformat": 4,
  "nbformat_minor": 0,
  "metadata": {
    "colab": {
      "provenance": [],
      "authorship_tag": "ABX9TyNyOzaWBv2ISyUtEErOqh7h",
      "include_colab_link": true
    },
    "kernelspec": {
      "name": "python3",
      "display_name": "Python 3"
    },
    "language_info": {
      "name": "python"
    }
  },
  "cells": [
    {
      "cell_type": "markdown",
      "metadata": {
        "id": "view-in-github",
        "colab_type": "text"
      },
      "source": [
        "<a href=\"https://colab.research.google.com/github/Ananya-Upadhyaya/Ananya-Upadhyaya/blob/main/Function_excercise2(20_09_22).ipynb\" target=\"_parent\"><img src=\"https://colab.research.google.com/assets/colab-badge.svg\" alt=\"Open In Colab\"/></a>"
      ]
    },
    {
      "cell_type": "code",
      "execution_count": 27,
      "metadata": {
        "colab": {
          "base_uri": "https://localhost:8080/"
        },
        "id": "4AqevSJUqFKV",
        "outputId": "e141b3ab-d456-4609-871d-84fab14c3bc2"
      },
      "outputs": [
        {
          "output_type": "stream",
          "name": "stdout",
          "text": [
            "Enter string: AnanYa UpaDhyaYA\n",
            "The number of lowercase characters is:\n",
            "9\n",
            "The number of uppercase characters is:\n",
            "6\n"
          ]
        }
      ],
      "source": [
        "# 1. Write a Python function that accepts a string and calculate the number of upper case letters and lower case letters \n",
        "\n",
        "string=input(\"Enter string: \")\n",
        "count1=0\n",
        "count2=0\n",
        "for i in string:\n",
        "      if(i.islower()):\n",
        "            count1=count1+1\n",
        "      elif(i.isupper()):\n",
        "            count2=count2+1\n",
        "print(\"The number of lowercase characters is:\")\n",
        "print(count1)\n",
        "print(\"The number of uppercase characters is:\")\n",
        "print(count2)"
      ]
    },
    {
      "cell_type": "code",
      "source": [
        "#2. Write a Python function to check whether a string is a pangram or not.\n",
        "\n",
        "import string\n",
        "def ispangram(str):\n",
        "   alphabet = \"abcdefghijklmnopqrstuvwxyz\"\n",
        "   for char in alphabet:\n",
        "      if char not in str.lower():\n",
        "         return False\n",
        "   return True\n",
        "# main\n",
        "string = 'The quick brown fox jumps over the lazy dog.'\n",
        "if(ispangram(string) == True):\n",
        "   print(\"Yes\")\n",
        "else:\n",
        "   print(\"No\")"
      ],
      "metadata": {
        "colab": {
          "base_uri": "https://localhost:8080/"
        },
        "id": "hcN-o_wXsY2C",
        "outputId": "1e33c519-0dd2-4731-fae0-242551b7ee7a"
      },
      "execution_count": 11,
      "outputs": [
        {
          "output_type": "stream",
          "name": "stdout",
          "text": [
            "Yes\n"
          ]
        }
      ]
    },
    {
      "cell_type": "code",
      "source": [
        "#3. Write a Python function that takes a number as a parameter and check the number is prime or not. \n",
        "\n",
        "def prime(n):\n",
        "    if (n==1):\n",
        "        return False\n",
        "    elif (n==2):\n",
        "        return True;\n",
        "    else:\n",
        "        for x in range(2,n):\n",
        "            if(n % x==0):\n",
        "                return False\n",
        "        return True             \n",
        "print(prime(6))"
      ],
      "metadata": {
        "colab": {
          "base_uri": "https://localhost:8080/"
        },
        "id": "6Nuxw9TnuR_z",
        "outputId": "8f3e9f4f-d8db-492d-f501-647a7325ace0"
      },
      "execution_count": 12,
      "outputs": [
        {
          "output_type": "stream",
          "name": "stdout",
          "text": [
            "False\n"
          ]
        }
      ]
    },
    {
      "cell_type": "code",
      "source": [
        "#4. Write a Python function to check whether a number is perfect or not. \n",
        "\n",
        "num = int(input(\"Enter any number: \"))\n",
        "sum1 = 0\n",
        "for i in range(1, num):\n",
        "    if(num % i == 0):\n",
        "        sum1 = sum1 + i\n",
        "if (sum1 == num):\n",
        "    print(\"The number is a Perfect number!\")\n",
        "else:\n",
        "    print(\"The number is not a Perfect number!\")"
      ],
      "metadata": {
        "colab": {
          "base_uri": "https://localhost:8080/"
        },
        "id": "7mOOI_Uru0x3",
        "outputId": "706b2d17-b6eb-4b11-ae62-64768251289a"
      },
      "execution_count": 26,
      "outputs": [
        {
          "output_type": "stream",
          "name": "stdout",
          "text": [
            "Enter any number: 6\n",
            "The number is a Perfect number!\n"
          ]
        }
      ]
    }
  ]
}