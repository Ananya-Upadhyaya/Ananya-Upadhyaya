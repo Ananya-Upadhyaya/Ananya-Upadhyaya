{
  "nbformat": 4,
  "nbformat_minor": 0,
  "metadata": {
    "colab": {
      "provenance": [],
      "authorship_tag": "ABX9TyNHkONI0BXgBtyYwKHtJZjW",
      "include_colab_link": true
    },
    "kernelspec": {
      "name": "python3",
      "display_name": "Python 3"
    },
    "language_info": {
      "name": "python"
    }
  },
  "cells": [
    {
      "cell_type": "markdown",
      "metadata": {
        "id": "view-in-github",
        "colab_type": "text"
      },
      "source": [
        "<a href=\"https://colab.research.google.com/github/Ananya-Upadhyaya/Ananya-Upadhyaya/blob/main/Exception_(21_09_22).ipynb\" target=\"_parent\"><img src=\"https://colab.research.google.com/assets/colab-badge.svg\" alt=\"Open In Colab\"/></a>"
      ]
    },
    {
      "cell_type": "code",
      "execution_count": 15,
      "metadata": {
        "colab": {
          "base_uri": "https://localhost:8080/"
        },
        "id": "3ew6CfKsv6j-",
        "outputId": "b0725a93-1e4d-4ada-bcf4-b1954ea08390"
      },
      "outputs": [
        {
          "output_type": "stream",
          "name": "stdout",
          "text": [
            "Index not in range\n"
          ]
        }
      ],
      "source": [
        "#1.create a list, try to access any element with the help of index.\n",
        "#Now, try to specify the index which is not in range, check for the exception you got.\n",
        "#handle that exception using exception handling\n",
        "\n",
        "List = [1,0,2,6,8]\n",
        "List[1]\n",
        "\n",
        "#List[7] :--index not in range: index error\n",
        "\n",
        "try:\n",
        "  List[7]\n",
        "except IndexError:\n",
        "  print(\"Index not in range\")\n",
        "\n",
        "else:\n",
        "  print(\"Index is in range\")\n"
      ]
    },
    {
      "cell_type": "code",
      "source": [
        "##2. let's say you have the following code written:\n",
        "#check for the error/exception that you got, \n",
        "#handle the exception using exception handling\n",
        "\n",
        "#names = Input('Enter your name:') :--Name error exception\n",
        "\n",
        "try:\n",
        "  names = Input(\"Enter your name: \")\n",
        "except NameError:\n",
        "  print(\"Keyword is not defined\")\n",
        "else:\n",
        "  print(names)\n"
      ],
      "metadata": {
        "colab": {
          "base_uri": "https://localhost:8080/"
        },
        "id": "XnEWr35GxIHh",
        "outputId": "637e116c-5677-4f3d-e2ce-692baec8dc01"
      },
      "execution_count": 16,
      "outputs": [
        {
          "output_type": "stream",
          "name": "stdout",
          "text": [
            "Keyword is not defined\n"
          ]
        }
      ]
    },
    {
      "cell_type": "code",
      "source": [
        "try:\n",
        "  names = input(\"Enter your name: \")\n",
        "except NameError:\n",
        "  print(\"Keyword is not defined\")\n",
        "else:\n",
        "  print(names)"
      ],
      "metadata": {
        "colab": {
          "base_uri": "https://localhost:8080/"
        },
        "id": "vxwkOlFr3KG3",
        "outputId": "b8970588-2279-49ce-85b2-4d733c7f7416"
      },
      "execution_count": 17,
      "outputs": [
        {
          "output_type": "stream",
          "name": "stdout",
          "text": [
            "Enter your name: Ananya\n",
            "Ananya\n"
          ]
        }
      ]
    }
  ]
}