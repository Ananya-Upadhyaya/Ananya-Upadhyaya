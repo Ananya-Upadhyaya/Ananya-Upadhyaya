{
  "nbformat": 4,
  "nbformat_minor": 0,
  "metadata": {
    "colab": {
      "provenance": [],
      "authorship_tag": "ABX9TyMYEAqht9kksoay0MqTq7EM",
      "include_colab_link": true
    },
    "kernelspec": {
      "name": "python3",
      "display_name": "Python 3"
    },
    "language_info": {
      "name": "python"
    }
  },
  "cells": [
    {
      "cell_type": "markdown",
      "metadata": {
        "id": "view-in-github",
        "colab_type": "text"
      },
      "source": [
        "<a href=\"https://colab.research.google.com/github/Ananya-Upadhyaya/Ananya-Upadhyaya/blob/main/File_Handling(28_09_22).ipynb\" target=\"_parent\"><img src=\"https://colab.research.google.com/assets/colab-badge.svg\" alt=\"Open In Colab\"/></a>"
      ]
    },
    {
      "cell_type": "code",
      "execution_count": 1,
      "metadata": {
        "colab": {
          "base_uri": "https://localhost:8080/"
        },
        "id": "bUjBLC6iDr6q",
        "outputId": "1475fc8c-ca86-40bc-8b33-69ee82026da9"
      },
      "outputs": [
        {
          "output_type": "stream",
          "name": "stdout",
          "text": [
            "Writing Ananya.txt\n"
          ]
        }
      ],
      "source": [
        "%%writefile Ananya.txt\n",
        "x = input(\"Type a number: \")\n",
        "y = input(\"Type another number: \")\n",
        "\n",
        "sum = int(x) + int(y)\n",
        "\n",
        "print(\"The sum is: \", sum)"
      ]
    },
    {
      "cell_type": "code",
      "source": [
        "%%writefile -a Ananya.txt\n",
        "\n",
        "Session on File Handling"
      ],
      "metadata": {
        "colab": {
          "base_uri": "https://localhost:8080/"
        },
        "id": "aoi6Zz7feSbC",
        "outputId": "2115554e-4e0d-4a90-9a4a-ec92878c2b0b"
      },
      "execution_count": 2,
      "outputs": [
        {
          "output_type": "stream",
          "name": "stdout",
          "text": [
            "Appending to Ananya.txt\n"
          ]
        }
      ]
    },
    {
      "cell_type": "code",
      "source": [
        "#r\n",
        "#w\n",
        "#a\n",
        "#r+\n",
        "#w+\n",
        "#a+"
      ],
      "metadata": {
        "id": "0kHTeb0Aen2i"
      },
      "execution_count": 3,
      "outputs": []
    },
    {
      "cell_type": "code",
      "source": [
        "data = open('Ananya.txt','r')"
      ],
      "metadata": {
        "id": "AaMcdLH4etoD"
      },
      "execution_count": 4,
      "outputs": []
    },
    {
      "cell_type": "code",
      "source": [
        "for each in data:\n",
        "  print(each)"
      ],
      "metadata": {
        "colab": {
          "base_uri": "https://localhost:8080/"
        },
        "id": "CVtOoCJse203",
        "outputId": "f97009b3-835a-4c4f-8c04-612698d5b239"
      },
      "execution_count": 5,
      "outputs": [
        {
          "output_type": "stream",
          "name": "stdout",
          "text": [
            "x = input(\"Type a number: \")\n",
            "\n",
            "y = input(\"Type another number: \")\n",
            "\n",
            "\n",
            "\n",
            "sum = int(x) + int(y)\n",
            "\n",
            "\n",
            "\n",
            "print(\"The sum is: \", sum)\n",
            "\n",
            "\n",
            "\n",
            "Session on File Handling\n",
            "\n"
          ]
        }
      ]
    },
    {
      "cell_type": "code",
      "source": [
        "data = open('Ananya.txt','r')\n",
        "print(data.read())"
      ],
      "metadata": {
        "colab": {
          "base_uri": "https://localhost:8080/"
        },
        "id": "UGJUAHIqe_fy",
        "outputId": "71dbd08c-c5f5-45ff-fd19-eed38276d3f5"
      },
      "execution_count": 6,
      "outputs": [
        {
          "output_type": "stream",
          "name": "stdout",
          "text": [
            "x = input(\"Type a number: \")\n",
            "y = input(\"Type another number: \")\n",
            "\n",
            "sum = int(x) + int(y)\n",
            "\n",
            "print(\"The sum is: \", sum)\n",
            "\n",
            "Session on File Handling\n",
            "\n"
          ]
        }
      ]
    },
    {
      "cell_type": "code",
      "source": [
        "data = open('Ananya.txt','r')\n",
        "data.seek(0)\n",
        "print(data.readline()) # reads line1 \n"
      ],
      "metadata": {
        "colab": {
          "base_uri": "https://localhost:8080/"
        },
        "id": "wm_cf99efRZp",
        "outputId": "6ba7178d-0bfe-4028-e797-660a0f2815e5"
      },
      "execution_count": 8,
      "outputs": [
        {
          "output_type": "stream",
          "name": "stdout",
          "text": [
            "x = input(\"Type a number: \")\n",
            "\n"
          ]
        }
      ]
    },
    {
      "cell_type": "code",
      "source": [
        "print(data.readlines()) #reads all the lines"
      ],
      "metadata": {
        "colab": {
          "base_uri": "https://localhost:8080/"
        },
        "id": "-oGgUfd8fn0O",
        "outputId": "3456032b-04c4-434a-99f8-b632d1f0cc3b"
      },
      "execution_count": 9,
      "outputs": [
        {
          "output_type": "stream",
          "name": "stdout",
          "text": [
            "['y = input(\"Type another number: \")\\n', '\\n', 'sum = int(x) + int(y)\\n', '\\n', 'print(\"The sum is: \", sum)\\n', '\\n', 'Session on File Handling\\n']\n"
          ]
        }
      ]
    },
    {
      "cell_type": "code",
      "source": [
        "with open('Ananya.txt') as data:\n",
        "  file = data.read(5)\n",
        "print(file)"
      ],
      "metadata": {
        "colab": {
          "base_uri": "https://localhost:8080/"
        },
        "id": "mGGaZpnrgACZ",
        "outputId": "b853e33c-ba0c-4baf-a6a3-b6d655a963c5"
      },
      "execution_count": 12,
      "outputs": [
        {
          "output_type": "stream",
          "name": "stdout",
          "text": [
            "x = i\n"
          ]
        }
      ]
    },
    {
      "cell_type": "code",
      "source": [
        "with open('Ananya.txt') as data:\n",
        "  file = data.read(9)\n",
        "print(file)"
      ],
      "metadata": {
        "colab": {
          "base_uri": "https://localhost:8080/"
        },
        "id": "cZM7EuDqgPRH",
        "outputId": "582e8846-283a-4a10-f35c-a34cafca3b29"
      },
      "execution_count": 13,
      "outputs": [
        {
          "output_type": "stream",
          "name": "stdout",
          "text": [
            "x = input\n"
          ]
        }
      ]
    },
    {
      "cell_type": "code",
      "source": [
        "with open('Ananya.txt',\"w\") as data:\n",
        "  data.write(\"Hello, Good Morning \")"
      ],
      "metadata": {
        "id": "9pmtJv4_gXFB"
      },
      "execution_count": 42,
      "outputs": []
    },
    {
      "cell_type": "code",
      "source": [
        "data = open('Ananya.txt','r')\n",
        "print(data.read())"
      ],
      "metadata": {
        "colab": {
          "base_uri": "https://localhost:8080/"
        },
        "id": "k9btkC_WgdWA",
        "outputId": "ac692e09-9fb2-4e8c-b816-883a0bc3561e"
      },
      "execution_count": 43,
      "outputs": [
        {
          "output_type": "stream",
          "name": "stdout",
          "text": [
            "Hello, Good Morning \n"
          ]
        }
      ]
    },
    {
      "cell_type": "code",
      "source": [
        "with open('Ananya.txt',\"a\") as data:\n",
        "  data.write(\"Today is Wednesday\")"
      ],
      "metadata": {
        "id": "FsdE4HoOg5Xd"
      },
      "execution_count": 44,
      "outputs": []
    },
    {
      "cell_type": "code",
      "source": [
        "data = open('Ananya.txt','r')\n",
        "print(data.read())"
      ],
      "metadata": {
        "colab": {
          "base_uri": "https://localhost:8080/"
        },
        "id": "9oOKzWr8iJwf",
        "outputId": "e4ac3e3b-67eb-40e2-960e-565214d3b684"
      },
      "execution_count": 45,
      "outputs": [
        {
          "output_type": "stream",
          "name": "stdout",
          "text": [
            "Hello, Good Morning Today is Wednesday\n"
          ]
        }
      ]
    },
    {
      "cell_type": "code",
      "source": [
        "with open('Ananya.txt',\"r+\") as data:\n",
        "  data.write(\"Tomorrow is Thursday \")"
      ],
      "metadata": {
        "id": "3rkEp5XGiSuq"
      },
      "execution_count": 46,
      "outputs": []
    },
    {
      "cell_type": "code",
      "source": [
        "data = open('Ananya.txt','r')\n",
        "print(data.read())"
      ],
      "metadata": {
        "colab": {
          "base_uri": "https://localhost:8080/"
        },
        "id": "A8zFumScicoc",
        "outputId": "258b0be0-ea78-4b8d-824f-f60e3fa4ca3a"
      },
      "execution_count": 47,
      "outputs": [
        {
          "output_type": "stream",
          "name": "stdout",
          "text": [
            "Tomorrow is Thursday oday is Wednesday\n"
          ]
        }
      ]
    },
    {
      "cell_type": "code",
      "source": [
        "with open('Ananya.txt',\"r\") as data:\n",
        "  file = data.readlines()\n",
        "  for line in file:\n",
        "    word =line.split()\n",
        "    print(word)"
      ],
      "metadata": {
        "colab": {
          "base_uri": "https://localhost:8080/"
        },
        "id": "mctHs60qikuw",
        "outputId": "8ed0e095-6c75-4389-a306-457cac6a5473"
      },
      "execution_count": 48,
      "outputs": [
        {
          "output_type": "stream",
          "name": "stdout",
          "text": [
            "['Tomorrow', 'is', 'Thursday', 'oday', 'is', 'Wednesday']\n"
          ]
        }
      ]
    },
    {
      "cell_type": "code",
      "source": [
        "data = open('Ananya.txt','r')\n",
        "print(data.readline())\n",
        "data.close()"
      ],
      "metadata": {
        "colab": {
          "base_uri": "https://localhost:8080/"
        },
        "id": "7xTm9RqziwnT",
        "outputId": "94010e16-b65d-48aa-f9dd-de0cbc2a35d3"
      },
      "execution_count": 49,
      "outputs": [
        {
          "output_type": "stream",
          "name": "stdout",
          "text": [
            "Tomorrow is Thursday oday is Wednesday\n"
          ]
        }
      ]
    },
    {
      "cell_type": "code",
      "source": [
        "%%writefile DEMO.txt"
      ],
      "metadata": {
        "colab": {
          "base_uri": "https://localhost:8080/"
        },
        "id": "fBDkMsm-i7Kz",
        "outputId": "7c821134-ee8a-4c1c-b4da-533089394644"
      },
      "execution_count": 65,
      "outputs": [
        {
          "output_type": "stream",
          "name": "stdout",
          "text": [
            "Overwriting DEMO.txt\n"
          ]
        }
      ]
    },
    {
      "cell_type": "code",
      "source": [
        "data1 = open(\"DEMO.txt\",'w')\n",
        "data1.write(\"Good Morning \")\n",
        "data1.close()"
      ],
      "metadata": {
        "id": "4kwFsRQMpbOt"
      },
      "execution_count": 67,
      "outputs": []
    },
    {
      "cell_type": "code",
      "source": [
        "data1 = open(\"DEMO.txt\",'r')\n",
        "data1.read()"
      ],
      "metadata": {
        "colab": {
          "base_uri": "https://localhost:8080/",
          "height": 36
        },
        "id": "K6_GvJs8jUc0",
        "outputId": "09bef6cc-98b9-41a1-95d7-2ba846c11502"
      },
      "execution_count": 68,
      "outputs": [
        {
          "output_type": "execute_result",
          "data": {
            "text/plain": [
              "'Good Morning '"
            ],
            "application/vnd.google.colaboratory.intrinsic+json": {
              "type": "string"
            }
          },
          "metadata": {},
          "execution_count": 68
        }
      ]
    },
    {
      "cell_type": "code",
      "source": [
        "import os\n",
        "os.remove(\"DEMO.txt\")"
      ],
      "metadata": {
        "id": "5oEoh4MVjgh9"
      },
      "execution_count": 63,
      "outputs": []
    },
    {
      "cell_type": "code",
      "source": [
        "dir(data1)"
      ],
      "metadata": {
        "colab": {
          "base_uri": "https://localhost:8080/"
        },
        "id": "7sl8TFlJjlrZ",
        "outputId": "3f35eb8c-1a24-44ce-a179-a08dc2b5bb36"
      },
      "execution_count": 56,
      "outputs": [
        {
          "output_type": "execute_result",
          "data": {
            "text/plain": [
              "['_CHUNK_SIZE',\n",
              " '__class__',\n",
              " '__del__',\n",
              " '__delattr__',\n",
              " '__dict__',\n",
              " '__dir__',\n",
              " '__doc__',\n",
              " '__enter__',\n",
              " '__eq__',\n",
              " '__exit__',\n",
              " '__format__',\n",
              " '__ge__',\n",
              " '__getattribute__',\n",
              " '__getstate__',\n",
              " '__gt__',\n",
              " '__hash__',\n",
              " '__init__',\n",
              " '__init_subclass__',\n",
              " '__iter__',\n",
              " '__le__',\n",
              " '__lt__',\n",
              " '__ne__',\n",
              " '__new__',\n",
              " '__next__',\n",
              " '__reduce__',\n",
              " '__reduce_ex__',\n",
              " '__repr__',\n",
              " '__setattr__',\n",
              " '__sizeof__',\n",
              " '__str__',\n",
              " '__subclasshook__',\n",
              " '_checkClosed',\n",
              " '_checkReadable',\n",
              " '_checkSeekable',\n",
              " '_checkWritable',\n",
              " '_finalizing',\n",
              " 'buffer',\n",
              " 'close',\n",
              " 'closed',\n",
              " 'detach',\n",
              " 'encoding',\n",
              " 'errors',\n",
              " 'fileno',\n",
              " 'flush',\n",
              " 'isatty',\n",
              " 'line_buffering',\n",
              " 'mode',\n",
              " 'name',\n",
              " 'newlines',\n",
              " 'read',\n",
              " 'readable',\n",
              " 'readline',\n",
              " 'readlines',\n",
              " 'reconfigure',\n",
              " 'seek',\n",
              " 'seekable',\n",
              " 'tell',\n",
              " 'truncate',\n",
              " 'writable',\n",
              " 'write',\n",
              " 'write_through',\n",
              " 'writelines']"
            ]
          },
          "metadata": {},
          "execution_count": 56
        }
      ]
    },
    {
      "cell_type": "code",
      "source": [
        "data1 = open(\"DEMO.txt\",'x')"
      ],
      "metadata": {
        "id": "ntXrFQUcjrAs"
      },
      "execution_count": 64,
      "outputs": []
    },
    {
      "cell_type": "code",
      "source": [
        "def remove_newlines(fname):\n",
        "  dataop = open(fname).readlines()\n",
        "  return[s.rstrip('\\n') for s in dataop]"
      ],
      "metadata": {
        "id": "hXvdmK6m4Juj"
      },
      "execution_count": 75,
      "outputs": []
    },
    {
      "cell_type": "code",
      "source": [
        "res = remove_newlines('DEMO.txt')"
      ],
      "metadata": {
        "id": "PSgjKnBM4m4_"
      },
      "execution_count": 76,
      "outputs": []
    },
    {
      "cell_type": "code",
      "source": [
        "print(res)"
      ],
      "metadata": {
        "colab": {
          "base_uri": "https://localhost:8080/"
        },
        "id": "s8Ed_M3h4stE",
        "outputId": "4b3b7e33-e959-40e6-eefe-9e47345008e8"
      },
      "execution_count": 77,
      "outputs": [
        {
          "output_type": "stream",
          "name": "stdout",
          "text": [
            "['Good Morning ']\n"
          ]
        }
      ]
    },
    {
      "cell_type": "code",
      "source": [
        "%%writefile Sea.jpg\n",
        "f = open(\"Sea.jpg\",\"r+b\")\n",
        "f.read()"
      ],
      "metadata": {
        "colab": {
          "base_uri": "https://localhost:8080/"
        },
        "id": "nUwrLCvQ6N63",
        "outputId": "129cfd6a-e2e1-48b0-ed6f-9ff092fd1859"
      },
      "execution_count": 109,
      "outputs": [
        {
          "output_type": "stream",
          "name": "stdout",
          "text": [
            "Overwriting Sea.jpg\n"
          ]
        }
      ]
    },
    {
      "cell_type": "code",
      "source": [
        "%%writefile SEA.jpg\n",
        "\n",
        "f = open(\"Sea.jpg\",\"r+b\")\n",
        "f1 = open(\"Bird.jpg\",\"w+b\")\n",
        "\n",
        "for i in f:\n",
        "  f1.write(i)"
      ],
      "metadata": {
        "colab": {
          "base_uri": "https://localhost:8080/"
        },
        "id": "kkZKW1bW6amf",
        "outputId": "e96d9375-ce4c-4464-c05c-da3f2d7de5e3"
      },
      "execution_count": 110,
      "outputs": [
        {
          "output_type": "stream",
          "name": "stdout",
          "text": [
            "Writing SEA.jpg\n"
          ]
        }
      ]
    },
    {
      "cell_type": "code",
      "source": [
        "f = open(\"DEMO.txt\",\"w\")\n",
        "f.write(\"Good\")"
      ],
      "metadata": {
        "colab": {
          "base_uri": "https://localhost:8080/"
        },
        "id": "Bc3E_EPX7Tvw",
        "outputId": "e2f645ab-91da-49e6-c40e-142504e2086e"
      },
      "execution_count": 102,
      "outputs": [
        {
          "output_type": "execute_result",
          "data": {
            "text/plain": [
              "4"
            ]
          },
          "metadata": {},
          "execution_count": 102
        }
      ]
    },
    {
      "cell_type": "code",
      "source": [
        "print(f.closed)"
      ],
      "metadata": {
        "colab": {
          "base_uri": "https://localhost:8080/"
        },
        "id": "dub1PEtO7cju",
        "outputId": "a497032c-ef21-474c-d010-dd5d1c33b22b"
      },
      "execution_count": 103,
      "outputs": [
        {
          "output_type": "stream",
          "name": "stdout",
          "text": [
            "False\n"
          ]
        }
      ]
    },
    {
      "cell_type": "code",
      "source": [
        "f.close()"
      ],
      "metadata": {
        "id": "spLcnZqP7f-G"
      },
      "execution_count": 104,
      "outputs": []
    },
    {
      "cell_type": "code",
      "source": [
        "print(f.closed)"
      ],
      "metadata": {
        "colab": {
          "base_uri": "https://localhost:8080/"
        },
        "id": "UNIDfviJ7lK9",
        "outputId": "6621c480-7cda-4b40-aacf-9b04ee7b1596"
      },
      "execution_count": 105,
      "outputs": [
        {
          "output_type": "stream",
          "name": "stdout",
          "text": [
            "True\n"
          ]
        }
      ]
    },
    {
      "cell_type": "code",
      "source": [
        "from shutil import copyfile\n",
        "copyfile(\"DEMO.txt\",\"demo.txt\")"
      ],
      "metadata": {
        "colab": {
          "base_uri": "https://localhost:8080/",
          "height": 36
        },
        "id": "uB0YSP5M7m9X",
        "outputId": "38f7c543-289e-4def-e258-a40dffe44668"
      },
      "execution_count": 112,
      "outputs": [
        {
          "output_type": "execute_result",
          "data": {
            "text/plain": [
              "'demo.txt'"
            ],
            "application/vnd.google.colaboratory.intrinsic+json": {
              "type": "string"
            }
          },
          "metadata": {},
          "execution_count": 112
        }
      ]
    },
    {
      "cell_type": "code",
      "source": [
        "from shutil import copyfile\n",
        "copyfile(\"Sea.jpg\",\"SEA.jpg\")"
      ],
      "metadata": {
        "colab": {
          "base_uri": "https://localhost:8080/",
          "height": 36
        },
        "id": "6_jNqtyX-lE2",
        "outputId": "90866a16-c43b-4920-b8fe-1f9c383f52fb"
      },
      "execution_count": 115,
      "outputs": [
        {
          "output_type": "execute_result",
          "data": {
            "text/plain": [
              "'SEA.jpg'"
            ],
            "application/vnd.google.colaboratory.intrinsic+json": {
              "type": "string"
            }
          },
          "metadata": {},
          "execution_count": 115
        }
      ]
    },
    {
      "cell_type": "code",
      "source": [
        "# 1.Implement a program to write a list into a file\n",
        "%%writefile List.txt\n",
        "\n",
        "names = ['Anusha', 'Arun', 'Bobby']\n",
        "\n"
      ],
      "metadata": {
        "colab": {
          "base_uri": "https://localhost:8080/"
        },
        "id": "ZnmB2cNk-yUa",
        "outputId": "2c21a909-e94d-46ec-8018-3832112de2bc"
      },
      "execution_count": 171,
      "outputs": [
        {
          "output_type": "stream",
          "name": "stdout",
          "text": [
            "Overwriting List.txt\n"
          ]
        }
      ]
    },
    {
      "cell_type": "code",
      "source": [
        "with open('List.txt', 'w') as f:\n",
        "    for n in names:\n",
        "      f.write(\"%s\\n\" %n)"
      ],
      "metadata": {
        "id": "XKj9T3xYAHse"
      },
      "execution_count": 172,
      "outputs": []
    },
    {
      "cell_type": "code",
      "source": [
        "output = open('List.txt')"
      ],
      "metadata": {
        "id": "bexkcktWBef_"
      },
      "execution_count": 173,
      "outputs": []
    },
    {
      "cell_type": "code",
      "source": [
        "print(output.read())"
      ],
      "metadata": {
        "colab": {
          "base_uri": "https://localhost:8080/"
        },
        "id": "gwnoVfwtBlqY",
        "outputId": "3f48058a-0240-45df-8026-ae01842f325e"
      },
      "execution_count": 174,
      "outputs": [
        {
          "output_type": "stream",
          "name": "stdout",
          "text": [
            "Anusha\n",
            "Arun\n",
            "Bobby\n",
            "\n"
          ]
        }
      ]
    },
    {
      "cell_type": "code",
      "source": [
        "# 2.Implement a program to read random line from a file containing lines of data in it(using random library)\n",
        "\n",
        "import random\n",
        "list = open('List.txt').read().splitlines()\n",
        "my_list =random.choice(list)\n",
        "print(my_list)"
      ],
      "metadata": {
        "colab": {
          "base_uri": "https://localhost:8080/"
        },
        "id": "N0CMBtcRAZT-",
        "outputId": "31bfd239-202e-4c4a-c326-d618e1fad28a"
      },
      "execution_count": 175,
      "outputs": [
        {
          "output_type": "stream",
          "name": "stdout",
          "text": [
            "Bobby\n"
          ]
        }
      ]
    }
  ]
}