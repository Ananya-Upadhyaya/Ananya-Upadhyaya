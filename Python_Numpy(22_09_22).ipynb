{
  "nbformat": 4,
  "nbformat_minor": 0,
  "metadata": {
    "colab": {
      "provenance": [],
      "authorship_tag": "ABX9TyMDl9492xYTfMR6WR3iEeNO",
      "include_colab_link": true
    },
    "kernelspec": {
      "name": "python3",
      "display_name": "Python 3"
    },
    "language_info": {
      "name": "python"
    }
  },
  "cells": [
    {
      "cell_type": "markdown",
      "metadata": {
        "id": "view-in-github",
        "colab_type": "text"
      },
      "source": [
        "<a href=\"https://colab.research.google.com/github/Ananya-Upadhyaya/Ananya-Upadhyaya/blob/main/Python_Numpy(22_09_22).ipynb\" target=\"_parent\"><img src=\"https://colab.research.google.com/assets/colab-badge.svg\" alt=\"Open In Colab\"/></a>"
      ]
    },
    {
      "cell_type": "code",
      "execution_count": 1,
      "metadata": {
        "id": "FDSMo9ahHG5A"
      },
      "outputs": [],
      "source": [
        "import numpy as np"
      ]
    },
    {
      "cell_type": "code",
      "source": [
        "#Age of 6 people\n",
        "\n",
        "ages_list = [10, 5, 8, 32, 65, 43]\n",
        "ages_list.sort()\n",
        "print(ages_list)"
      ],
      "metadata": {
        "colab": {
          "base_uri": "https://localhost:8080/"
        },
        "id": "b5ldp6lTUcOO",
        "outputId": "17dc5010-4abf-4ed9-e3b6-0fdd60899a5a"
      },
      "execution_count": 7,
      "outputs": [
        {
          "output_type": "stream",
          "name": "stdout",
          "text": [
            "[5, 8, 10, 32, 43, 65]\n"
          ]
        }
      ]
    },
    {
      "cell_type": "code",
      "source": [
        "# 3 main ways to instantiate a Numpy ndarray object\n",
        "\n",
        "ages = np.array(ages_list)\n",
        "print(type(ages))\n",
        "print(ages)"
      ],
      "metadata": {
        "colab": {
          "base_uri": "https://localhost:8080/"
        },
        "id": "S1sK56oaVb1e",
        "outputId": "698852fe-2840-4a1c-a8d8-a4fcc1dcfec6"
      },
      "execution_count": 8,
      "outputs": [
        {
          "output_type": "stream",
          "name": "stdout",
          "text": [
            "<class 'numpy.ndarray'>\n",
            "[ 5  8 10 32 43 65]\n"
          ]
        }
      ]
    },
    {
      "cell_type": "code",
      "source": [
        "print(ages)\n",
        "print(\"Size:\\t\" , ages.size)\n",
        "print(\"Shape:\\t\", ages.shape)"
      ],
      "metadata": {
        "colab": {
          "base_uri": "https://localhost:8080/"
        },
        "id": "U9JlJBoyUk0F",
        "outputId": "671c4146-e919-4846-9bc7-e4a41277c419"
      },
      "execution_count": 14,
      "outputs": [
        {
          "output_type": "stream",
          "name": "stdout",
          "text": [
            "[ 5  8 10 32 43 65]\n",
            "Size:\t 6\n",
            "Shape:\t (6,)\n"
          ]
        }
      ]
    },
    {
      "cell_type": "code",
      "source": [
        "zeroArr = np.zeros(7)\n",
        "print(zeroArr)"
      ],
      "metadata": {
        "colab": {
          "base_uri": "https://localhost:8080/"
        },
        "id": "O7WpHaeeW0sT",
        "outputId": "4d9b36ef-8fde-442e-a9e7-c5d8ad528df3"
      },
      "execution_count": 16,
      "outputs": [
        {
          "output_type": "stream",
          "name": "stdout",
          "text": [
            "[0. 0. 0. 0. 0. 0. 0.]\n"
          ]
        }
      ]
    },
    {
      "cell_type": "code",
      "source": [
        "# new list containing the weights of these 6 people.\n",
        "\n",
        "weight_list = [32, 18, 26, 60, 55, 65]\n",
        "print(weight_list)"
      ],
      "metadata": {
        "colab": {
          "base_uri": "https://localhost:8080/"
        },
        "id": "LmlIsmWWXPfk",
        "outputId": "f93743cd-9c02-4458-c350-b35f625e482d"
      },
      "execution_count": 17,
      "outputs": [
        {
          "output_type": "stream",
          "name": "stdout",
          "text": [
            "[32, 18, 26, 60, 55, 65]\n"
          ]
        }
      ]
    },
    {
      "cell_type": "code",
      "source": [
        "people = np.array([ages_list, weight_list])\n",
        "\n",
        "print(\"People:\\t\" , people)\n",
        "print(\"Size:\\t\" , people.size)\n",
        "print(\"Shape:\\t\", people.shape)"
      ],
      "metadata": {
        "colab": {
          "base_uri": "https://localhost:8080/"
        },
        "id": "Cc5hR9EHXdpi",
        "outputId": "6ad9a86e-f0f2-4190-8ea8-0faa972047f7"
      },
      "execution_count": 18,
      "outputs": [
        {
          "output_type": "stream",
          "name": "stdout",
          "text": [
            "People:\t [[ 5  8 10 32 43 65]\n",
            " [32 18 26 60 55 65]]\n",
            "Size:\t 12\n",
            "Shape:\t (2, 6)\n"
          ]
        }
      ]
    },
    {
      "cell_type": "code",
      "source": [
        "# 2 X 6 = 1 X 12 = 4 X 3 = 3 X 4 = 12 X 1 \n",
        "\n",
        "people = people.reshape(2,6)\n",
        "print(\"People:\\t\" , people)\n",
        "print(\"Size:\\t\" , people.size)\n",
        "print(\"Shape:\\t\", people.shape)"
      ],
      "metadata": {
        "colab": {
          "base_uri": "https://localhost:8080/"
        },
        "id": "rE77IU-dYPQz",
        "outputId": "f838204d-3a6b-410d-acef-9918b9587d41"
      },
      "execution_count": 26,
      "outputs": [
        {
          "output_type": "stream",
          "name": "stdout",
          "text": [
            "People:\t [[ 5  8 10 32 43 65]\n",
            " [32 18 26 60 55 65]]\n",
            "Size:\t 12\n",
            "Shape:\t (2, 6)\n"
          ]
        }
      ]
    },
    {
      "cell_type": "code",
      "source": [
        "# EXCERCISE\n",
        "\n",
        "# Generate a 1D numpy array with the values [7, 9, 65, 33, 85, 99]\n",
        "\n",
        "import numpy as np\n",
        "\n",
        "arr = np.array([7, 9, 65, 33, 85, 99])\n",
        "print(arr)"
      ],
      "metadata": {
        "colab": {
          "base_uri": "https://localhost:8080/"
        },
        "id": "twG7GquHZePy",
        "outputId": "96abd31d-5e7e-43c9-82c5-6f5e2032ab68"
      },
      "execution_count": 27,
      "outputs": [
        {
          "output_type": "stream",
          "name": "stdout",
          "text": [
            "[ 7  9 65 33 85 99]\n"
          ]
        }
      ]
    },
    {
      "cell_type": "code",
      "source": [
        "# Generate a matrix (2D numpy array) of the values:\n",
        "\n",
        "arr1 = np.array([[1, 2, 4],[2, 3, 0],[0, 5, 1]])\n",
        "print(arr1)"
      ],
      "metadata": {
        "colab": {
          "base_uri": "https://localhost:8080/"
        },
        "id": "hEG2jVE2bKzj",
        "outputId": "d742cece-ee77-448a-8383-6748892986df"
      },
      "execution_count": 32,
      "outputs": [
        {
          "output_type": "stream",
          "name": "stdout",
          "text": [
            "[[1 2 4]\n",
            " [2 3 0]\n",
            " [0 5 1]]\n"
          ]
        }
      ]
    },
    {
      "cell_type": "code",
      "source": [
        "x = np.array([[1, 2, 4],[2, 3, 0],[0, 5, 1]])\n",
        "print(\"changing shape to 2,4\")\n",
        "print(x.shape)"
      ],
      "metadata": {
        "colab": {
          "base_uri": "https://localhost:8080/"
        },
        "id": "zqlGQIRPcWmB",
        "outputId": "944741b8-f4c9-4eaf-f747-87f997007196"
      },
      "execution_count": 37,
      "outputs": [
        {
          "output_type": "stream",
          "name": "stdout",
          "text": [
            "changing shape to 2,4\n",
            "(3, 3)\n"
          ]
        }
      ]
    },
    {
      "cell_type": "code",
      "source": [
        "print('Initialised array')\n",
        "c = np.array([1, 2, 4, 2, 3, 0, 0, 5, 1])\n",
        "print(c)\n",
        "\n",
        "print('current shape of the array')\n",
        "print(c.shape)\n",
        "      \n",
        "# modifying array according to new dimensions\n",
        "print('changing shape to 3, 3')\n",
        "c.shape = (3, 3)\n",
        "print(c)"
      ],
      "metadata": {
        "colab": {
          "base_uri": "https://localhost:8080/"
        },
        "id": "Ku7f-2B1doBG",
        "outputId": "ab857909-b23e-4b14-80e7-51e0bb349c44"
      },
      "execution_count": 50,
      "outputs": [
        {
          "output_type": "stream",
          "name": "stdout",
          "text": [
            "Initialised array\n",
            "[1 2 4 2 3 0 0 5 1]\n",
            "current shape of the array\n",
            "(9,)\n",
            "changing shape to 3, 3\n",
            "[[1 2 4]\n",
            " [2 3 0]\n",
            " [0 5 1]]\n"
          ]
        }
      ]
    },
    {
      "cell_type": "code",
      "source": [
        "# Array Generation\n",
        "\n",
        "# np.arange()\n",
        "times_table = np.arange(1, 55, 5)\n",
        "print(times_table)\n",
        "\n"
      ],
      "metadata": {
        "colab": {
          "base_uri": "https://localhost:8080/"
        },
        "id": "he3XRwJHfgSG",
        "outputId": "c25290e1-8a64-4c21-e434-106852a1a8c4"
      },
      "execution_count": 84,
      "outputs": [
        {
          "output_type": "stream",
          "name": "stdout",
          "text": [
            "[ 1  6 11 16 21 26 31 36 41 46 51]\n"
          ]
        }
      ]
    },
    {
      "cell_type": "code",
      "source": [
        "# np.linspace()\n",
        "\n",
        "#five_spaced = np.linspace(0,50,11)\n",
        "#print(five_spaced)\n",
        "\n",
        "five_spaced = np.linspace(0,50,5)\n",
        "print(five_spaced)"
      ],
      "metadata": {
        "colab": {
          "base_uri": "https://localhost:8080/"
        },
        "id": "C9PmEu7sgqkY",
        "outputId": "1b4ef42f-b216-441b-8b2d-15609708d746"
      },
      "execution_count": 60,
      "outputs": [
        {
          "output_type": "stream",
          "name": "stdout",
          "text": [
            "[ 0.  12.5 25.  37.5 50. ]\n"
          ]
        }
      ]
    },
    {
      "cell_type": "code",
      "source": [
        "# .repeat()\n",
        "\n",
        "Arr = np.repeat(4, 6)\n",
        "print(Arr)\n"
      ],
      "metadata": {
        "colab": {
          "base_uri": "https://localhost:8080/"
        },
        "id": "nnSUrb95heK8",
        "outputId": "bf9dd343-7147-4ccb-e90a-fab6aed76202"
      },
      "execution_count": 65,
      "outputs": [
        {
          "output_type": "stream",
          "name": "stdout",
          "text": [
            "[4 4 4 4 4 4]\n"
          ]
        }
      ]
    },
    {
      "cell_type": "code",
      "source": [
        "# np.eye()\n",
        "\n",
        "identity_matrix = np.eye(2,4)\n",
        "print(identity_matrix)\n",
        "\n",
        "\n"
      ],
      "metadata": {
        "colab": {
          "base_uri": "https://localhost:8080/"
        },
        "id": "K1JwvX9Eh7B2",
        "outputId": "3e7608d3-50db-411e-ae08-6bab98794922"
      },
      "execution_count": 75,
      "outputs": [
        {
          "output_type": "stream",
          "name": "stdout",
          "text": [
            "[[1. 0. 0. 0.]\n",
            " [0. 1. 0. 0.]]\n"
          ]
        }
      ]
    },
    {
      "cell_type": "code",
      "source": [
        "identity_matrix = np.eye(4)\n",
        "print(identity_matrix)"
      ],
      "metadata": {
        "colab": {
          "base_uri": "https://localhost:8080/"
        },
        "id": "DddsUp49iu2M",
        "outputId": "916dd6be-ee83-4bc1-ceb0-51a3af05efa7"
      },
      "execution_count": 76,
      "outputs": [
        {
          "output_type": "stream",
          "name": "stdout",
          "text": [
            "[[1. 0. 0. 0.]\n",
            " [0. 1. 0. 0.]\n",
            " [0. 0. 1. 0.]\n",
            " [0. 0. 0. 1.]]\n"
          ]
        }
      ]
    },
    {
      "cell_type": "markdown",
      "source": [
        "**Operations**"
      ],
      "metadata": {
        "id": "vNxNao9wlrCz"
      }
    },
    {
      "cell_type": "code",
      "source": [
        "times_table"
      ],
      "metadata": {
        "colab": {
          "base_uri": "https://localhost:8080/"
        },
        "id": "NGCNrjPEiwna",
        "outputId": "5c3a7df7-85c2-46c9-c254-bed24e539b8d"
      },
      "execution_count": 89,
      "outputs": [
        {
          "output_type": "execute_result",
          "data": {
            "text/plain": [
              "array([ 0,  5, 10, 15, 20, 25, 30, 35, 40, 45, 50])"
            ]
          },
          "metadata": {},
          "execution_count": 89
        }
      ]
    },
    {
      "cell_type": "code",
      "source": [
        "print(\"1:\", 2 * times_table)\n",
        "print(\"2:\", 10 + times_table)\n",
        "print(\"3:\", times_table - 1)\n",
        "print(\"4:\", times_table/5)\n",
        "print(\"5:\", times_table **2)\n",
        "print(\"6:\", times_table < 20)"
      ],
      "metadata": {
        "colab": {
          "base_uri": "https://localhost:8080/"
        },
        "id": "vkGGV4KEi8Mx",
        "outputId": "151d9ebd-9993-4bce-ffab-f7dbeff6cd7f"
      },
      "execution_count": 90,
      "outputs": [
        {
          "output_type": "stream",
          "name": "stdout",
          "text": [
            "1: [  0  10  20  30  40  50  60  70  80  90 100]\n",
            "2: [10 15 20 25 30 35 40 45 50 55 60]\n",
            "3: [-1  4  9 14 19 24 29 34 39 44 49]\n",
            "4: [ 0.  1.  2.  3.  4.  5.  6.  7.  8.  9. 10.]\n",
            "5: [   0   25  100  225  400  625  900 1225 1600 2025 2500]\n",
            "6: [ True  True  True  True False False False False False False False]\n"
          ]
        }
      ]
    },
    {
      "cell_type": "markdown",
      "source": [
        " **SpeedTest**"
      ],
      "metadata": {
        "id": "z5ieyL2KlWl0"
      }
    },
    {
      "cell_type": "code",
      "source": [
        "List = list(range(0,201,5))\n",
        "List"
      ],
      "metadata": {
        "colab": {
          "base_uri": "https://localhost:8080/"
        },
        "id": "OEeoSuaBljr4",
        "outputId": "fd3e1b06-d446-41f8-8b43-4ec0d99d556e"
      },
      "execution_count": 96,
      "outputs": [
        {
          "output_type": "execute_result",
          "data": {
            "text/plain": [
              "[0,\n",
              " 5,\n",
              " 10,\n",
              " 15,\n",
              " 20,\n",
              " 25,\n",
              " 30,\n",
              " 35,\n",
              " 40,\n",
              " 45,\n",
              " 50,\n",
              " 55,\n",
              " 60,\n",
              " 65,\n",
              " 70,\n",
              " 75,\n",
              " 80,\n",
              " 85,\n",
              " 90,\n",
              " 95,\n",
              " 100,\n",
              " 105,\n",
              " 110,\n",
              " 115,\n",
              " 120,\n",
              " 125,\n",
              " 130,\n",
              " 135,\n",
              " 140,\n",
              " 145,\n",
              " 150,\n",
              " 155,\n",
              " 160,\n",
              " 165,\n",
              " 170,\n",
              " 175,\n",
              " 180,\n",
              " 185,\n",
              " 190,\n",
              " 195,\n",
              " 200]"
            ]
          },
          "metadata": {},
          "execution_count": 96
        }
      ]
    },
    {
      "cell_type": "code",
      "source": [
        "five_times_table_lge = np.arange(0,5001,5)\n",
        "five_times_table_lge"
      ],
      "metadata": {
        "colab": {
          "base_uri": "https://localhost:8080/"
        },
        "id": "bp2nLrtJmlMW",
        "outputId": "5edab80a-a133-42ef-a68b-cdc35b4574f6"
      },
      "execution_count": 98,
      "outputs": [
        {
          "output_type": "execute_result",
          "data": {
            "text/plain": [
              "array([   0,    5,   10, ..., 4990, 4995, 5000])"
            ]
          },
          "metadata": {},
          "execution_count": 98
        }
      ]
    },
    {
      "cell_type": "code",
      "source": [
        "%timeit five_times_table_lge + 5"
      ],
      "metadata": {
        "colab": {
          "base_uri": "https://localhost:8080/"
        },
        "id": "V8cionxgm-cJ",
        "outputId": "d2b43333-b1a0-41b4-8078-8be1f55ad975"
      },
      "execution_count": 99,
      "outputs": [
        {
          "output_type": "stream",
          "name": "stdout",
          "text": [
            "1.34 µs ± 16 ns per loop (mean ± std. dev. of 7 runs, 1000000 loops each)\n"
          ]
        }
      ]
    },
    {
      "cell_type": "code",
      "source": [
        "%timeit [e + 5 for e in fives_list]\n"
      ],
      "metadata": {
        "colab": {
          "base_uri": "https://localhost:8080/"
        },
        "id": "Zeqbdj_inLCM",
        "outputId": "b8a1c3b8-8bf1-4530-a1c2-bba2e4599b74"
      },
      "execution_count": 100,
      "outputs": [
        {
          "output_type": "stream",
          "name": "stdout",
          "text": [
            "59.4 µs ± 763 ns per loop (mean ± std. dev. of 7 runs, 10000 loops each)\n"
          ]
        }
      ]
    },
    {
      "cell_type": "code",
      "source": [
        "words = np.array([\"ten\", \"nine\", \"eight\", \"seven\", \"six\"])\n",
        "\n",
        "print(np.isin(words, 'e'))\n",
        "\n",
        "[\"e\" in word for word in words]"
      ],
      "metadata": {
        "colab": {
          "base_uri": "https://localhost:8080/"
        },
        "id": "pc_TfRvqoD_z",
        "outputId": "7c750774-b467-44c3-cc77-023d6b7728df"
      },
      "execution_count": 102,
      "outputs": [
        {
          "output_type": "stream",
          "name": "stdout",
          "text": [
            "[False False False False False]\n"
          ]
        },
        {
          "output_type": "execute_result",
          "data": {
            "text/plain": [
              "[True, True, True, True, False]"
            ]
          },
          "metadata": {},
          "execution_count": 102
        }
      ]
    },
    {
      "cell_type": "markdown",
      "source": [
        "**Transpose**"
      ],
      "metadata": {
        "id": "4MXrzNFdo78g"
      }
    },
    {
      "cell_type": "code",
      "source": [
        "people.shape = (2, 6)\n",
        "print(people, \"\\n\")\n",
        "print(people.T)"
      ],
      "metadata": {
        "colab": {
          "base_uri": "https://localhost:8080/"
        },
        "id": "2DqEcpb0o-oK",
        "outputId": "ae157386-05fd-414a-8eec-0ddc4cb0a464"
      },
      "execution_count": 105,
      "outputs": [
        {
          "output_type": "stream",
          "name": "stdout",
          "text": [
            "[[ 5  8 10 32 43 65]\n",
            " [32 18 26 60 55 65]] \n",
            "\n",
            "[[ 5 32]\n",
            " [ 8 18]\n",
            " [10 26]\n",
            " [32 60]\n",
            " [43 55]\n",
            " [65 65]]\n"
          ]
        }
      ]
    },
    {
      "cell_type": "markdown",
      "source": [
        " **DataTypes**"
      ],
      "metadata": {
        "id": "owykSNaPqL8A"
      }
    },
    {
      "cell_type": "code",
      "source": [
        "people.dtype"
      ],
      "metadata": {
        "colab": {
          "base_uri": "https://localhost:8080/"
        },
        "id": "t4f6DzmRqQrF",
        "outputId": "adb87a3b-e6ca-42a9-f331-fa300ed9ecce"
      },
      "execution_count": 106,
      "outputs": [
        {
          "output_type": "execute_result",
          "data": {
            "text/plain": [
              "dtype('int64')"
            ]
          },
          "metadata": {},
          "execution_count": 106
        }
      ]
    },
    {
      "cell_type": "code",
      "source": [
        "# What is the data type of the below ndarray?\n",
        "\n",
        "ages_with_strings = np.array([10, 5, 8, '32', '65', '43'])\n",
        "ages_with_strings"
      ],
      "metadata": {
        "colab": {
          "base_uri": "https://localhost:8080/"
        },
        "id": "d9MtUA_fqYEo",
        "outputId": "d8a7f305-ff12-4dd1-d8c3-1d66eef454c5"
      },
      "execution_count": 107,
      "outputs": [
        {
          "output_type": "execute_result",
          "data": {
            "text/plain": [
              "array(['10', '5', '8', '32', '65', '43'], dtype='<U21')"
            ]
          },
          "metadata": {},
          "execution_count": 107
        }
      ]
    },
    {
      "cell_type": "code",
      "source": [
        "# What is the dtype of this array?\n",
        "\n",
        "ages_with_strings = np.array([10, 5, 8, '32', '65', '43'], dtype='int32')\n",
        "ages_with_strings"
      ],
      "metadata": {
        "colab": {
          "base_uri": "https://localhost:8080/"
        },
        "id": "efprHwUBqhHn",
        "outputId": "bfd1318e-35cd-485c-89d8-a6a5b7973244"
      },
      "execution_count": 119,
      "outputs": [
        {
          "output_type": "execute_result",
          "data": {
            "text/plain": [
              "array([10,  5,  8, 32, 65, 43], dtype=int32)"
            ]
          },
          "metadata": {},
          "execution_count": 119
        }
      ]
    },
    {
      "cell_type": "code",
      "source": [
        "ages_with_strings = np.array([10, 5, 8, '32', '65', '43'])\n",
        "print(ages_with_strings)"
      ],
      "metadata": {
        "colab": {
          "base_uri": "https://localhost:8080/"
        },
        "id": "ncrEGEThqqR-",
        "outputId": "93872ad0-c66c-4664-9a79-2cfbd2f2cef6"
      },
      "execution_count": 120,
      "outputs": [
        {
          "output_type": "stream",
          "name": "stdout",
          "text": [
            "['10' '5' '8' '32' '65' '43']\n"
          ]
        }
      ]
    },
    {
      "cell_type": "code",
      "source": [
        "ages_with_strings.dtype = 'int32'\n",
        "print(ages_with_strings)"
      ],
      "metadata": {
        "colab": {
          "base_uri": "https://localhost:8080/"
        },
        "id": "eie0CzXEq0VY",
        "outputId": "abc5db2e-b524-42c4-ad96-15002fd25819"
      },
      "execution_count": 122,
      "outputs": [
        {
          "output_type": "stream",
          "name": "stdout",
          "text": [
            "[49 48  0  0  0  0  0  0  0  0  0  0  0  0  0  0  0  0  0  0  0 53  0  0\n",
            "  0  0  0  0  0  0  0  0  0  0  0  0  0  0  0  0  0  0 56  0  0  0  0  0\n",
            "  0  0  0  0  0  0  0  0  0  0  0  0  0  0  0 51 50  0  0  0  0  0  0  0\n",
            "  0  0  0  0  0  0  0  0  0  0  0  0 54 53  0  0  0  0  0  0  0  0  0  0\n",
            "  0  0  0  0  0  0  0  0  0 52 51  0  0  0  0  0  0  0  0  0  0  0  0  0\n",
            "  0  0  0  0  0  0]\n"
          ]
        }
      ]
    },
    {
      "cell_type": "code",
      "source": [
        "ages_with_strings.size"
      ],
      "metadata": {
        "colab": {
          "base_uri": "https://localhost:8080/"
        },
        "id": "l-vkl7Kvq5-G",
        "outputId": "2fc584ae-72f8-40d1-e03b-bbb80621234a"
      },
      "execution_count": 111,
      "outputs": [
        {
          "output_type": "execute_result",
          "data": {
            "text/plain": [
              "126"
            ]
          },
          "metadata": {},
          "execution_count": 111
        }
      ]
    },
    {
      "cell_type": "code",
      "source": [
        "ages_with_strings.size/21"
      ],
      "metadata": {
        "colab": {
          "base_uri": "https://localhost:8080/"
        },
        "id": "AduIigNwrAA6",
        "outputId": "3a049ff3-efa5-4477-dac4-ac71f76a4497"
      },
      "execution_count": 112,
      "outputs": [
        {
          "output_type": "execute_result",
          "data": {
            "text/plain": [
              "6.0"
            ]
          },
          "metadata": {},
          "execution_count": 112
        }
      ]
    },
    {
      "cell_type": "code",
      "source": [
        "np.array([10, 5, 8, '32', '65', '43']).size"
      ],
      "metadata": {
        "colab": {
          "base_uri": "https://localhost:8080/"
        },
        "id": "d0iH6XndrFJN",
        "outputId": "df3bba00-5e4d-4c0f-a496-1a9e190cec23"
      },
      "execution_count": 113,
      "outputs": [
        {
          "output_type": "execute_result",
          "data": {
            "text/plain": [
              "6"
            ]
          },
          "metadata": {},
          "execution_count": 113
        }
      ]
    },
    {
      "cell_type": "code",
      "source": [
        "#  .astype()\n",
        "\n",
        "ages_with_strings = np.array([10, 5, 8, '32', '65', '43'])\n",
        "print(ages_with_strings)\n",
        "print(ages_with_strings.astype('int32'))"
      ],
      "metadata": {
        "colab": {
          "base_uri": "https://localhost:8080/"
        },
        "id": "hKlv1W_6rKoS",
        "outputId": "0f08ff1f-e93b-45d7-d823-920e1fcdb550"
      },
      "execution_count": 114,
      "outputs": [
        {
          "output_type": "stream",
          "name": "stdout",
          "text": [
            "['10' '5' '8' '32' '65' '43']\n",
            "[10  5  8 32 65 43]\n"
          ]
        }
      ]
    },
    {
      "cell_type": "markdown",
      "source": [
        "**Exercise**"
      ],
      "metadata": {
        "id": "fzsR6EEOrdBy"
      }
    },
    {
      "cell_type": "code",
      "source": [
        "# Create an array of string numbers, but use dtype to make it an array of floats.\n",
        "\n",
        "ages_with_strings = np.array(['10', '5', '8', '32', '65', '43'])\n",
        "print(ages_with_strings.astype('float'))\n"
      ],
      "metadata": {
        "colab": {
          "base_uri": "https://localhost:8080/"
        },
        "id": "cdnVPv0GreqJ",
        "outputId": "d27f7a06-e4b2-43cc-c8b4-1c0b7d92d6e8"
      },
      "execution_count": 115,
      "outputs": [
        {
          "output_type": "stream",
          "name": "stdout",
          "text": [
            "[10.  5.  8. 32. 65. 43.]\n"
          ]
        }
      ]
    },
    {
      "cell_type": "code",
      "source": [
        "#  Transpose the matrix, printing the new size and shape.\n",
        "\n",
        "A = np.array([[1, 2], [3, 4]])\n",
        "A_T = A.transpose()\n",
        "print(A_T)"
      ],
      "metadata": {
        "colab": {
          "base_uri": "https://localhost:8080/"
        },
        "id": "yTLF3X09s_KH",
        "outputId": "e599398e-0895-4a43-ec82-70e44d88cc58"
      },
      "execution_count": 124,
      "outputs": [
        {
          "output_type": "stream",
          "name": "stdout",
          "text": [
            "[[1 3]\n",
            " [2 4]]\n"
          ]
        }
      ]
    },
    {
      "cell_type": "code",
      "source": [
        "# Use the .astype() method to convert the array to boolean.\n",
        "\n",
        "A = np.array([[1, 0], [0, 4]])\n",
        "A.astype(bool)"
      ],
      "metadata": {
        "colab": {
          "base_uri": "https://localhost:8080/"
        },
        "id": "NF1GZ2xTvxUQ",
        "outputId": "5bf6c103-df16-4dda-b19b-9da0384f2470"
      },
      "execution_count": 129,
      "outputs": [
        {
          "output_type": "execute_result",
          "data": {
            "text/plain": [
              "array([[ True, False],\n",
              "       [False,  True]])"
            ]
          },
          "metadata": {},
          "execution_count": 129
        }
      ]
    },
    {
      "cell_type": "markdown",
      "source": [
        "**Array Slicing Operations**"
      ],
      "metadata": {
        "id": "C_IRuPdB0bhI"
      }
    },
    {
      "cell_type": "code",
      "source": [
        "five_times_table"
      ],
      "metadata": {
        "colab": {
          "base_uri": "https://localhost:8080/"
        },
        "id": "zP4_nUjY0dAb",
        "outputId": "127bc6cd-a254-45ec-c014-1fc3fff9f10e"
      },
      "execution_count": 132,
      "outputs": [
        {
          "output_type": "execute_result",
          "data": {
            "text/plain": [
              "array([ 1,  4,  7, 10, 13, 16, 19, 22, 25, 28, 31, 34, 37, 40, 43, 46, 49,\n",
              "       52])"
            ]
          },
          "metadata": {},
          "execution_count": 132
        }
      ]
    },
    {
      "cell_type": "code",
      "source": [
        "five_times_table[0]"
      ],
      "metadata": {
        "colab": {
          "base_uri": "https://localhost:8080/"
        },
        "id": "o_YS-pGT0tpK",
        "outputId": "53bcc176-e238-40b1-e4f5-adfcb9e62629"
      },
      "execution_count": 133,
      "outputs": [
        {
          "output_type": "execute_result",
          "data": {
            "text/plain": [
              "1"
            ]
          },
          "metadata": {},
          "execution_count": 133
        }
      ]
    },
    {
      "cell_type": "code",
      "source": [
        "five_times_table[-1]"
      ],
      "metadata": {
        "colab": {
          "base_uri": "https://localhost:8080/"
        },
        "id": "QliVweVG08nq",
        "outputId": "ee5fb62c-b203-4a21-c936-4b4e29b6da5f"
      },
      "execution_count": 134,
      "outputs": [
        {
          "output_type": "execute_result",
          "data": {
            "text/plain": [
              "52"
            ]
          },
          "metadata": {},
          "execution_count": 134
        }
      ]
    },
    {
      "cell_type": "code",
      "source": [
        "five_times_table[:4]"
      ],
      "metadata": {
        "colab": {
          "base_uri": "https://localhost:8080/"
        },
        "id": "6ixwegCq0-zI",
        "outputId": "b94f9b75-9b1c-4fdd-eb74-ebc441ed922b"
      },
      "execution_count": 135,
      "outputs": [
        {
          "output_type": "execute_result",
          "data": {
            "text/plain": [
              "array([ 1,  4,  7, 10])"
            ]
          },
          "metadata": {},
          "execution_count": 135
        }
      ]
    },
    {
      "cell_type": "code",
      "source": [
        "five_times_table[4:]"
      ],
      "metadata": {
        "colab": {
          "base_uri": "https://localhost:8080/"
        },
        "id": "1CsFhxPK1E09",
        "outputId": "2df8b9ad-2192-45f8-e7f0-c186b3477ef0"
      },
      "execution_count": 137,
      "outputs": [
        {
          "output_type": "execute_result",
          "data": {
            "text/plain": [
              "array([13, 16, 19, 22, 25, 28, 31, 34, 37, 40, 43, 46, 49, 52])"
            ]
          },
          "metadata": {},
          "execution_count": 137
        }
      ]
    },
    {
      "cell_type": "code",
      "source": [
        "# We can also slice an n-dim ndarray., specifying the slice operation accross each axis.\n",
        "\n",
        "print(people)\n",
        "people[:2, :5]"
      ],
      "metadata": {
        "colab": {
          "base_uri": "https://localhost:8080/"
        },
        "id": "MdHLFWqb1J_E",
        "outputId": "1e4aee50-cb31-43da-ee92-8ec0e1bbeaee"
      },
      "execution_count": 152,
      "outputs": [
        {
          "output_type": "stream",
          "name": "stdout",
          "text": [
            "[[ 5  8 10 32 43 65]\n",
            " [32 18 26 60 55 65]]\n"
          ]
        },
        {
          "output_type": "execute_result",
          "data": {
            "text/plain": [
              "array([[ 5,  8, 10, 32, 43],\n",
              "       [32, 18, 26, 60, 55]])"
            ]
          },
          "metadata": {},
          "execution_count": 152
        }
      ]
    },
    {
      "cell_type": "markdown",
      "source": [
        "**Exercise**"
      ],
      "metadata": {
        "id": "ORcFjWjx2APl"
      }
    },
    {
      "cell_type": "code",
      "source": [
        "# Create a numpy array with 50 zeros\n",
        "\n",
        "array = np.zeros(50)\n",
        "print(array)"
      ],
      "metadata": {
        "colab": {
          "base_uri": "https://localhost:8080/"
        },
        "id": "WYNBds5T2B7v",
        "outputId": "a3c764ca-b2d7-4743-84fc-c72ac8a5591c"
      },
      "execution_count": 151,
      "outputs": [
        {
          "output_type": "stream",
          "name": "stdout",
          "text": [
            "[0. 0. 0. 0. 0. 0. 0. 0. 0. 0. 0. 0. 0. 0. 0. 0. 0. 0. 0. 0. 0. 0. 0. 0.\n",
            " 0. 0. 0. 0. 0. 0. 0. 0. 0. 0. 0. 0. 0. 0. 0. 0. 0. 0. 0. 0. 0. 0. 0. 0.\n",
            " 0. 0.]\n"
          ]
        }
      ]
    },
    {
      "cell_type": "code",
      "source": [
        "# Create a np array of 2 repeated 20 times\n",
        "\n",
        "Arr = np.repeat(2,20)\n",
        "print(Arr)\n"
      ],
      "metadata": {
        "colab": {
          "base_uri": "https://localhost:8080/"
        },
        "id": "SclBY5n12b0C",
        "outputId": "3364b5fc-0e80-4bfe-a2b5-e181f13c0011"
      },
      "execution_count": 153,
      "outputs": [
        {
          "output_type": "stream",
          "name": "stdout",
          "text": [
            "[2 2 2 2 2 2 2 2 2 2 2 2 2 2 2 2 2 2 2 2]\n"
          ]
        }
      ]
    },
    {
      "cell_type": "code",
      "source": [
        "# For one of the arrays generated: \n",
        "# Get the first five values\n",
        "\n",
        "arr = np.array([[10, 5, 8], [32, 65, 43],[0, 5, 1],[1, 13, 56],[2, 4, 6],[9, 0, 4],[3, 8, 5]])\n",
        "print(\"Original array: \")\n",
        "print(arr)\n",
        "arr1= arr[:5, :]\n",
        "print(\"First 5 rows of the above array:\")\n",
        "print(arr1)\n"
      ],
      "metadata": {
        "colab": {
          "base_uri": "https://localhost:8080/"
        },
        "id": "fwapl2Vp305K",
        "outputId": "acc2ece5-227a-4267-dce0-c37ef233bdb6"
      },
      "execution_count": 157,
      "outputs": [
        {
          "output_type": "stream",
          "name": "stdout",
          "text": [
            "Original array: \n",
            "[[10  5  8]\n",
            " [32 65 43]\n",
            " [ 0  5  1]\n",
            " [ 1 13 56]\n",
            " [ 2  4  6]\n",
            " [ 9  0  4]\n",
            " [ 3  8  5]]\n",
            "First 5 rows of the above array:\n",
            "[[10  5  8]\n",
            " [32 65 43]\n",
            " [ 0  5  1]\n",
            " [ 1 13 56]\n",
            " [ 2  4  6]]\n"
          ]
        }
      ]
    },
    {
      "cell_type": "code",
      "source": [
        "# Get the last 3 values\n",
        "\n",
        "arr = np.array([[10, 5, 8], [32, 65, 43],[0, 5, 1],[1, 13, 56],[2, 4, 6],[9, 0, 4],[3, 8, 5]])\n",
        "print(\"Original array: \")\n",
        "print(arr)\n",
        "arr1= arr[-3:]\n",
        "print(\"last 3 values from array:\")\n",
        "print(arr1)\n",
        "\n"
      ],
      "metadata": {
        "colab": {
          "base_uri": "https://localhost:8080/"
        },
        "id": "VBKxZgcI5g8f",
        "outputId": "82a96097-0f30-477b-9412-82cffab1b05f"
      },
      "execution_count": 173,
      "outputs": [
        {
          "output_type": "stream",
          "name": "stdout",
          "text": [
            "Original array: \n",
            "[[10  5  8]\n",
            " [32 65 43]\n",
            " [ 0  5  1]\n",
            " [ 1 13 56]\n",
            " [ 2  4  6]\n",
            " [ 9  0  4]\n",
            " [ 3  8  5]]\n",
            "last 3 values from array:\n",
            "[[2 4 6]\n",
            " [9 0 4]\n",
            " [3 8 5]]\n"
          ]
        }
      ]
    },
    {
      "cell_type": "code",
      "source": [
        "# Get the 4th value to the 7th value\n",
        "\n",
        "arr = np.array([[10, 5, 8], [32, 65, 43],[0, 5, 1],[1, 13, 56],[2, 4, 6],[9, 0, 4],[3, 8, 5],[0, 24, 65]])\n",
        "print(\"Original array: \")\n",
        "print(arr)\n",
        "arr1= arr[4],arr[7]\n",
        "print(\"value of 4th and 7th of array:\")\n",
        "print(arr1)"
      ],
      "metadata": {
        "colab": {
          "base_uri": "https://localhost:8080/"
        },
        "id": "tH5lkzaG6RAK",
        "outputId": "6835ff1f-399c-4d99-f9d6-9dee7dcc4c6d"
      },
      "execution_count": 172,
      "outputs": [
        {
          "output_type": "stream",
          "name": "stdout",
          "text": [
            "Original array: \n",
            "[[10  5  8]\n",
            " [32 65 43]\n",
            " [ 0  5  1]\n",
            " [ 1 13 56]\n",
            " [ 2  4  6]\n",
            " [ 9  0  4]\n",
            " [ 3  8  5]\n",
            " [ 0 24 65]]\n",
            "value of 4th and 7th of array:\n",
            "(array([2, 4, 6]), array([ 0, 24, 65]))\n"
          ]
        }
      ]
    },
    {
      "cell_type": "code",
      "source": [
        "# .flip() \n",
        "\n",
        "reverse_five_times_table = np.flip(five_times_table)\n",
        "reverse_five_times_table"
      ],
      "metadata": {
        "colab": {
          "base_uri": "https://localhost:8080/"
        },
        "id": "T2wGZZHa8KrW",
        "outputId": "79b3da77-bb0a-4416-f88a-16e3bb219f8a"
      },
      "execution_count": 174,
      "outputs": [
        {
          "output_type": "execute_result",
          "data": {
            "text/plain": [
              "array([52, 49, 46, 43, 40, 37, 34, 31, 28, 25, 22, 19, 16, 13, 10,  7,  4,\n",
              "        1])"
            ]
          },
          "metadata": {},
          "execution_count": 174
        }
      ]
    },
    {
      "cell_type": "code",
      "source": [
        "reverse_five_times_table = five_times_table[-1::-1]\n",
        "print(reverse_five_times_table)\n",
        "five_times_table"
      ],
      "metadata": {
        "colab": {
          "base_uri": "https://localhost:8080/"
        },
        "id": "Aaoeaxlp8Sm8",
        "outputId": "20d16c4c-06d4-4857-d932-73f922584c7a"
      },
      "execution_count": 177,
      "outputs": [
        {
          "output_type": "stream",
          "name": "stdout",
          "text": [
            "[52 49 46 43 40 37 34 31 28 25 22 19 16 13 10  7  4  1]\n"
          ]
        },
        {
          "output_type": "execute_result",
          "data": {
            "text/plain": [
              "array([ 1,  4,  7, 10, 13, 16, 19, 22, 25, 28, 31, 34, 37, 40, 43, 46, 49,\n",
              "       52])"
            ]
          },
          "metadata": {},
          "execution_count": 177
        }
      ]
    },
    {
      "cell_type": "code",
      "source": [
        "#Every 3rd element starting from 0\n",
        "\n",
        "five_times_table[0::3]"
      ],
      "metadata": {
        "colab": {
          "base_uri": "https://localhost:8080/"
        },
        "id": "W3Am619X8ogJ",
        "outputId": "14852520-034c-4d2c-bc08-ac578681014a"
      },
      "execution_count": 178,
      "outputs": [
        {
          "output_type": "execute_result",
          "data": {
            "text/plain": [
              "array([ 1, 10, 19, 28, 37, 46])"
            ]
          },
          "metadata": {},
          "execution_count": 178
        }
      ]
    },
    {
      "cell_type": "markdown",
      "source": [
        "**Exercise**"
      ],
      "metadata": {
        "id": "ov3lIEIc85Qr"
      }
    },
    {
      "cell_type": "code",
      "source": [
        "# Take one of the arrays you defined and Reverse it\n",
        "\n",
        "reverse_arr2 = np.array([10, 5, 8, 32, 65, 48, 12, 78, 89, 100 ])\n",
        "reverse_arr2 = np.flip(reverse_arr2)\n",
        "print(reverse_arr2)\n"
      ],
      "metadata": {
        "colab": {
          "base_uri": "https://localhost:8080/"
        },
        "id": "jTcfVeLM87Bs",
        "outputId": "5672d9cd-76d5-443d-e9ef-d7eb56fd839b"
      },
      "execution_count": 181,
      "outputs": [
        {
          "output_type": "stream",
          "name": "stdout",
          "text": [
            "[100  89  78  12  48  65  32   8   5  10]\n"
          ]
        }
      ]
    },
    {
      "cell_type": "code",
      "source": [
        "# Only keep every 4th element.\n",
        "\n",
        "arr2 = [10, 5, 8, 32, 65, 48, 12, 78, 89, 100 ]\n",
        "\n",
        "every_4th = arr2[::4]\n",
        "\n",
        "print(every_4th)\n",
        "\n"
      ],
      "metadata": {
        "colab": {
          "base_uri": "https://localhost:8080/"
        },
        "id": "sd_io18c9f3O",
        "outputId": "c60079d6-14a3-4cbc-e557-89e3220b775c"
      },
      "execution_count": 187,
      "outputs": [
        {
          "output_type": "stream",
          "name": "stdout",
          "text": [
            "[10, 65, 89]\n"
          ]
        }
      ]
    },
    {
      "cell_type": "code",
      "source": [
        "# Get every 2nd element, starting from the last and moving backwards.\n",
        "\n",
        "print(arr2[-1::-2])"
      ],
      "metadata": {
        "colab": {
          "base_uri": "https://localhost:8080/"
        },
        "id": "rQcCxFD_-qzM",
        "outputId": "13d5054e-fa22-4e01-ca79-0de8e5883485"
      },
      "execution_count": 191,
      "outputs": [
        {
          "output_type": "stream",
          "name": "stdout",
          "text": [
            "[100, 78, 48, 32, 5]\n"
          ]
        }
      ]
    },
    {
      "cell_type": "markdown",
      "source": [
        "**Stats**"
      ],
      "metadata": {
        "id": "gPOK2Cwm_k1T"
      }
    },
    {
      "cell_type": "code",
      "source": [
        "np.array([1.65432, 5.98765]).round(2)"
      ],
      "metadata": {
        "colab": {
          "base_uri": "https://localhost:8080/"
        },
        "id": "uXpaBnJH_mXf",
        "outputId": "f32bd6ea-bf90-4721-cf44-6c292758b6fd"
      },
      "execution_count": 188,
      "outputs": [
        {
          "output_type": "execute_result",
          "data": {
            "text/plain": [
              "array([1.65, 5.99])"
            ]
          },
          "metadata": {},
          "execution_count": 188
        }
      ]
    },
    {
      "cell_type": "code",
      "source": [
        "nums = np.arange(0, 4, 0.2555)\n",
        "print(nums)"
      ],
      "metadata": {
        "colab": {
          "base_uri": "https://localhost:8080/"
        },
        "id": "2winORg2_rmt",
        "outputId": "eddbd9b8-7330-4726-de8c-ef3640c90690"
      },
      "execution_count": 190,
      "outputs": [
        {
          "output_type": "stream",
          "name": "stdout",
          "text": [
            "[0.     0.2555 0.511  0.7665 1.022  1.2775 1.533  1.7885 2.044  2.2995\n",
            " 2.555  2.8105 3.066  3.3215 3.577  3.8325]\n"
          ]
        }
      ]
    },
    {
      "cell_type": "markdown",
      "source": [
        "**Exercise**"
      ],
      "metadata": {
        "id": "euWeg5xxAOLi"
      }
    },
    {
      "cell_type": "code",
      "source": [
        "# Compute min, max, sum, mean, median, variance, and standard deviation of the above array, all to to 2 decimal places.\n",
        "\n",
        "print(\"min = \", np.min(nums).round(2))\n",
        "print(\"max = \", np.max(nums).round(2))\n",
        "print(\"sum = \", np.sum(nums).round(2))\n",
        "print(\"mean = \", np.mean(nums).round(2))\n",
        "print(\"median = \", np.median(nums).round(2))\n",
        "print(\"var = \", np.var(nums).round(2))\n",
        "print(\"std = \", np.std(nums).round(2))"
      ],
      "metadata": {
        "colab": {
          "base_uri": "https://localhost:8080/"
        },
        "id": "AxRHDTf9APwL",
        "outputId": "a59d3213-bcca-475b-fd5e-d96c3412bb99"
      },
      "execution_count": 192,
      "outputs": [
        {
          "output_type": "stream",
          "name": "stdout",
          "text": [
            "min =  0.0\n",
            "max =  3.83\n",
            "sum =  30.66\n",
            "mean =  1.92\n",
            "median =  1.92\n",
            "var =  1.39\n",
            "std =  1.18\n"
          ]
        }
      ]
    },
    {
      "cell_type": "markdown",
      "source": [
        "**Random**"
      ],
      "metadata": {
        "id": "Hp0CildEBwWi"
      }
    },
    {
      "cell_type": "code",
      "source": [
        "flip = np.random.choice([0,1], 10)\n",
        "flip"
      ],
      "metadata": {
        "colab": {
          "base_uri": "https://localhost:8080/"
        },
        "id": "xEbvoKE0B3W6",
        "outputId": "6a29b96a-205e-4a1b-9a8a-0bf9044b7994"
      },
      "execution_count": 193,
      "outputs": [
        {
          "output_type": "execute_result",
          "data": {
            "text/plain": [
              "array([0, 0, 1, 0, 1, 1, 1, 1, 0, 1])"
            ]
          },
          "metadata": {},
          "execution_count": 193
        }
      ]
    },
    {
      "cell_type": "code",
      "source": [
        "np.random.rand(10,20,9)"
      ],
      "metadata": {
        "colab": {
          "base_uri": "https://localhost:8080/"
        },
        "id": "umYeqzjkB-Xy",
        "outputId": "2d298349-6738-4276-c70a-a31875ec3a80"
      },
      "execution_count": 202,
      "outputs": [
        {
          "output_type": "execute_result",
          "data": {
            "text/plain": [
              "array([[[0.99416425, 0.45717738, 0.32570487, ..., 0.77953842,\n",
              "         0.89394246, 0.50238304],\n",
              "        [0.45658638, 0.95531464, 0.52642635, ..., 0.73610996,\n",
              "         0.86528941, 0.97013098],\n",
              "        [0.29786925, 0.53602749, 0.87503791, ..., 0.62975586,\n",
              "         0.96398632, 0.11712981],\n",
              "        ...,\n",
              "        [0.96742215, 0.39289965, 0.25488368, ..., 0.12690786,\n",
              "         0.21953363, 0.30056252],\n",
              "        [0.61588072, 0.12843666, 0.38120356, ..., 0.53051242,\n",
              "         0.23011888, 0.40167389],\n",
              "        [0.06236419, 0.03040121, 0.03461957, ..., 0.14782518,\n",
              "         0.40080776, 0.49416135]],\n",
              "\n",
              "       [[0.23102457, 0.81566785, 0.94595454, ..., 0.3510616 ,\n",
              "         0.91311873, 0.13053001],\n",
              "        [0.87388124, 0.08398026, 0.96454968, ..., 0.82273952,\n",
              "         0.23059034, 0.99809469],\n",
              "        [0.46167781, 0.63080812, 0.79804878, ..., 0.22852705,\n",
              "         0.05283716, 0.43596113],\n",
              "        ...,\n",
              "        [0.21027299, 0.05398656, 0.95399504, ..., 0.61363148,\n",
              "         0.75056035, 0.14505997],\n",
              "        [0.68762737, 0.48579421, 0.29488772, ..., 0.29640517,\n",
              "         0.24929596, 0.87019229],\n",
              "        [0.70989871, 0.8527987 , 0.58803074, ..., 0.77254295,\n",
              "         0.15223321, 0.50933222]],\n",
              "\n",
              "       [[0.04952261, 0.2077369 , 0.37534324, ..., 0.4006512 ,\n",
              "         0.20300136, 0.15383417],\n",
              "        [0.19868844, 0.42507778, 0.53546628, ..., 0.73805036,\n",
              "         0.85415988, 0.18473656],\n",
              "        [0.24721105, 0.43844224, 0.13272448, ..., 0.27189825,\n",
              "         0.955808  , 0.12863123],\n",
              "        ...,\n",
              "        [0.26685491, 0.79600501, 0.67343348, ..., 0.61874687,\n",
              "         0.37193484, 0.38690618],\n",
              "        [0.63629397, 0.81054924, 0.43578092, ..., 0.19407145,\n",
              "         0.47533974, 0.38417216],\n",
              "        [0.92503272, 0.04614452, 0.6552076 , ..., 0.11825322,\n",
              "         0.35644852, 0.67149851]],\n",
              "\n",
              "       ...,\n",
              "\n",
              "       [[0.49905874, 0.32740799, 0.62918749, ..., 0.0541942 ,\n",
              "         0.92848426, 0.42815842],\n",
              "        [0.32794768, 0.60222633, 0.71815905, ..., 0.24755285,\n",
              "         0.5796222 , 0.89852552],\n",
              "        [0.68365565, 0.3226663 , 0.50608218, ..., 0.34122145,\n",
              "         0.69969025, 0.30095498],\n",
              "        ...,\n",
              "        [0.31871094, 0.6523469 , 0.32593925, ..., 0.82597304,\n",
              "         0.91611185, 0.1963634 ],\n",
              "        [0.00625043, 0.27987428, 0.08758509, ..., 0.47442829,\n",
              "         0.85514576, 0.99358829],\n",
              "        [0.31545606, 0.64000228, 0.68337819, ..., 0.52761538,\n",
              "         0.45611224, 0.4221588 ]],\n",
              "\n",
              "       [[0.23396043, 0.71901779, 0.00110752, ..., 0.67372164,\n",
              "         0.96925434, 0.76845113],\n",
              "        [0.52341073, 0.72761999, 0.44046151, ..., 0.94640645,\n",
              "         0.31656407, 0.74846718],\n",
              "        [0.50941128, 0.30952711, 0.47328674, ..., 0.0269697 ,\n",
              "         0.36056149, 0.32698454],\n",
              "        ...,\n",
              "        [0.49428542, 0.49638075, 0.15766034, ..., 0.32119089,\n",
              "         0.35507001, 0.60823306],\n",
              "        [0.27233851, 0.87276563, 0.28367552, ..., 0.45529493,\n",
              "         0.84728473, 0.26532223],\n",
              "        [0.99981191, 0.03820355, 0.32660974, ..., 0.51804546,\n",
              "         0.86435599, 0.58325482]],\n",
              "\n",
              "       [[0.80755233, 0.8375151 , 0.01355241, ..., 0.51467895,\n",
              "         0.03980525, 0.4906027 ],\n",
              "        [0.73772926, 0.47451772, 0.93285738, ..., 0.04695809,\n",
              "         0.10393272, 0.33595198],\n",
              "        [0.8531548 , 0.92831284, 0.8144594 , ..., 0.09029037,\n",
              "         0.43536114, 0.60288931],\n",
              "        ...,\n",
              "        [0.11150746, 0.07889477, 0.33751037, ..., 0.23455871,\n",
              "         0.02797995, 0.89384207],\n",
              "        [0.95619689, 0.61201704, 0.95822712, ..., 0.31180531,\n",
              "         0.70679622, 0.64778489],\n",
              "        [0.54571788, 0.80163713, 0.69821076, ..., 0.40671038,\n",
              "         0.25375397, 0.13109034]]])"
            ]
          },
          "metadata": {},
          "execution_count": 202
        }
      ]
    },
    {
      "cell_type": "code",
      "source": [
        "# np.random.normal()\n",
        "\n",
        "mu, sigma = 0, 0.1 \n",
        "s = np.random.normal(mu, sigma, 1000)\n",
        "print(s)"
      ],
      "metadata": {
        "colab": {
          "base_uri": "https://localhost:8080/"
        },
        "id": "BUEFrP2hCEGr",
        "outputId": "c51d8440-04fc-442f-8c7a-a7637ef92b50"
      },
      "execution_count": 196,
      "outputs": [
        {
          "output_type": "stream",
          "name": "stdout",
          "text": [
            "[-1.34819228e-01 -1.23307293e-01 -4.68998539e-02 -5.06555129e-02\n",
            " -6.76682616e-02  2.42718132e-02 -8.29925867e-02 -1.30372784e-01\n",
            " -1.39948626e-01  6.46525594e-02 -3.47285268e-03 -5.64376571e-02\n",
            " -6.74511201e-03  6.59529039e-02  6.27624207e-02  3.47141298e-02\n",
            "  5.58942960e-02 -4.06477247e-02 -4.91689106e-02 -3.09240396e-02\n",
            "  8.02891163e-02 -1.38419614e-02 -1.02479899e-02  7.06814325e-02\n",
            " -1.68783372e-01 -7.93103268e-02  2.08571402e-01  7.33433050e-02\n",
            " -1.36278919e-01  8.16960545e-02  1.01414532e-01  1.15411192e-01\n",
            " -1.36070526e-01 -2.05331277e-01  9.11002817e-02 -3.72639506e-02\n",
            " -6.86387627e-02  3.01813429e-02 -1.51246673e-01  5.03304887e-02\n",
            " -6.74472432e-02  8.01134351e-02  8.77363814e-02  9.27576789e-02\n",
            " -1.68688566e-01  2.24156376e-02  2.55574455e-02  6.89763331e-02\n",
            " -1.02025199e-01 -6.51515098e-02 -1.17091514e-01  2.97237938e-02\n",
            "  3.20751332e-02 -6.39159507e-02 -2.26382621e-02  6.29110028e-03\n",
            " -1.30890864e-01  1.42163808e-01 -1.04281606e-01  1.38500622e-01\n",
            "  7.55519839e-02 -7.07993828e-02 -2.18742250e-02  1.49116290e-01\n",
            "  1.70521332e-01  5.19319993e-02  1.27512710e-01  4.89436015e-02\n",
            "  1.58720140e-01  1.59306618e-02 -3.70852428e-03  2.63715175e-02\n",
            "  5.66900815e-02 -1.26273430e-01  7.90258552e-03 -1.12608905e-01\n",
            " -4.17674467e-02  1.58574630e-01 -1.41437485e-01  2.23242194e-01\n",
            " -9.70122243e-03  1.59934700e-01 -3.89379077e-02  6.10906539e-02\n",
            "  1.14630600e-01 -8.06627783e-02  1.26539166e-01  1.54176716e-01\n",
            " -5.84198803e-02  1.83156006e-02  3.07280580e-02 -1.18146992e-02\n",
            " -7.84670405e-02 -8.48778142e-02  2.88984077e-02  1.14080733e-01\n",
            "  2.75522046e-02  1.70369222e-01  1.14545353e-02  2.68419952e-01\n",
            " -2.53124632e-02 -3.67874413e-03 -8.56406836e-02  5.31238859e-02\n",
            " -1.08189983e-01 -1.52828562e-01  1.88926188e-01  2.23075504e-01\n",
            "  6.18597541e-02  4.23736815e-02  1.49044811e-01 -1.82411900e-02\n",
            " -8.76711394e-02  2.22542335e-01 -1.07184868e-03  7.25853615e-02\n",
            " -8.21088049e-02 -1.52876794e-01  1.64679185e-01  9.90077245e-03\n",
            " -1.75125328e-01  4.87741721e-03 -8.42319335e-02 -6.06768244e-02\n",
            "  8.86829487e-02 -4.00406442e-02 -3.67270886e-02 -2.47900971e-01\n",
            "  7.05534134e-02 -4.70233241e-02 -3.34874006e-02  6.23127922e-03\n",
            "  6.37982849e-02  9.11763611e-02  8.57684911e-02  2.14470124e-01\n",
            " -1.31533877e-02  7.30570125e-02  1.99008022e-03  1.38537912e-02\n",
            "  2.30660986e-01  1.04756723e-01 -5.47276392e-02  3.37361470e-02\n",
            " -3.35491367e-02 -2.60201820e-02  1.24979239e-01 -2.99724407e-02\n",
            " -4.66952789e-02  3.71742165e-03  3.67470528e-02 -1.08334339e-01\n",
            " -3.65899985e-02 -2.51525257e-01 -1.49428245e-01  1.74874109e-01\n",
            "  4.46979417e-02 -1.64717951e-02 -1.05975962e-01 -1.25360245e-02\n",
            " -9.31380752e-02 -6.72805604e-02 -4.13394592e-02 -9.79265993e-02\n",
            " -8.10393059e-02  8.17035506e-02 -1.69937328e-02 -1.67795422e-01\n",
            "  6.61116899e-02  5.71936399e-02 -1.11452388e-01  5.66211215e-02\n",
            "  6.45652542e-02 -3.38111403e-02 -1.26983476e-01 -1.41178294e-01\n",
            " -6.02893826e-02 -2.64607435e-02  2.60065675e-02  3.72512486e-03\n",
            "  1.35340528e-02  4.46910689e-02 -3.67606864e-02 -6.42752556e-02\n",
            "  4.84518865e-02  2.81417643e-02 -5.80705751e-02 -1.44980251e-01\n",
            "  5.27941658e-02 -1.20879147e-01  1.04733030e-01 -1.45158047e-01\n",
            "  4.56985995e-02 -1.05600936e-01  3.18132782e-02  2.77786126e-02\n",
            "  3.88354804e-02  8.52758335e-02 -1.19479070e-01 -7.72994684e-02\n",
            "  6.13455309e-03  3.37219346e-02  9.20787575e-02  9.13581953e-02\n",
            " -2.60532979e-01  4.40351921e-03  2.97016914e-02  5.82515982e-02\n",
            "  8.68305628e-03 -3.18038676e-02 -3.67217231e-02  2.38573756e-02\n",
            "  2.81886200e-02 -1.02936989e-01 -1.26459750e-01 -1.28748373e-01\n",
            " -5.11675732e-02 -6.38060003e-02  7.75489869e-02  4.56916984e-02\n",
            " -2.84302975e-03  9.56191572e-02 -9.47220457e-02 -5.36921298e-02\n",
            " -5.45336502e-02 -9.82225014e-03  1.21133655e-01  9.29308843e-02\n",
            "  7.88615817e-02  2.66112805e-01 -1.04434242e-01 -5.83792173e-02\n",
            "  6.94085069e-02 -1.06066620e-01 -1.16677082e-01 -3.09499439e-02\n",
            "  4.46664640e-02  3.49837758e-02 -1.29488955e-02 -2.10884286e-01\n",
            "  5.21441526e-02 -8.55504886e-02 -2.20701722e-02 -1.99752316e-02\n",
            " -1.72649093e-01 -2.77148336e-03  5.84428852e-03  3.11435060e-02\n",
            "  2.29976937e-02  4.45771814e-02 -2.15768448e-01 -1.64785640e-01\n",
            "  1.37910104e-01  4.72960239e-02  5.79033629e-02  1.80342123e-01\n",
            " -1.66643335e-01  2.79753709e-02  2.05984541e-02  1.33813402e-01\n",
            " -1.15747059e-01 -1.40057622e-01  1.11050680e-01 -3.04888542e-02\n",
            " -5.23658695e-02 -5.58309941e-02 -8.92017961e-02  4.97213069e-02\n",
            " -6.66414129e-02 -2.70377618e-02 -2.85055217e-03 -7.42490520e-02\n",
            " -1.18087732e-01 -1.51917586e-01  2.91410823e-01  5.08927425e-03\n",
            " -1.63799487e-02 -2.50600555e-01 -1.30908043e-01 -1.92299440e-02\n",
            "  1.95803228e-01 -5.94501627e-02 -1.65259939e-01  1.32712043e-02\n",
            " -3.49553886e-02 -6.20877233e-02  6.80471143e-02  1.42630637e-02\n",
            "  5.60537403e-02  8.07515942e-02 -1.72669076e-02 -1.24504984e-01\n",
            "  5.29888168e-03  3.17207437e-02  1.70017371e-02  2.40086589e-02\n",
            "  6.08901600e-02  1.00568758e-01  1.89490660e-01  2.12950621e-02\n",
            " -3.12784396e-02 -7.33957099e-02 -9.60021769e-02  1.06409196e-01\n",
            "  8.78169414e-02 -4.44325288e-02  9.11100311e-02 -2.91971962e-02\n",
            " -2.29720958e-02  7.34025729e-02 -1.95220830e-02  2.40078738e-02\n",
            "  1.19545035e-01  2.72069610e-02 -6.82101850e-02  4.88197000e-02\n",
            " -1.47173153e-02  5.71850924e-02 -3.14228794e-03  5.08564323e-02\n",
            " -1.28350939e-01  1.92912057e-01 -1.68757820e-02  6.17982511e-02\n",
            "  4.03645275e-02 -1.10166365e-01 -1.18837975e-01  4.53769644e-02\n",
            "  2.08690269e-01  1.56993636e-02  6.96733991e-02 -8.79545191e-02\n",
            " -3.63686723e-02  1.60000396e-01  2.43414905e-02 -3.30706319e-02\n",
            " -9.98509243e-02 -1.25849168e-01  1.20591782e-01  1.16259037e-01\n",
            "  2.37970411e-02 -4.44887405e-02  1.11195939e-01  6.33870417e-02\n",
            "  3.12097694e-02  3.89919822e-02 -3.80584686e-02 -1.96567768e-01\n",
            " -1.05519834e-01 -5.60565700e-02  8.12023934e-02  1.32897392e-01\n",
            "  1.61154678e-01 -1.36522309e-02  6.91117270e-02 -3.39803043e-03\n",
            "  6.35007797e-02 -3.77545164e-02  1.08998886e-01 -7.19702986e-02\n",
            " -5.42424578e-02  7.23870519e-02 -3.74753468e-02  1.08731025e-01\n",
            "  2.15135815e-02  1.02906743e-01 -2.66183993e-01 -1.94858535e-02\n",
            "  1.10485617e-01  9.74336542e-02 -1.13269150e-01 -2.82708390e-03\n",
            " -1.49737872e-02  7.60396612e-02  1.39024182e-02 -2.00940782e-02\n",
            "  6.25699818e-02  1.58929551e-01 -1.58336263e-01 -3.74785091e-03\n",
            "  6.80058404e-02 -3.07416413e-03  8.35782709e-02  2.08572626e-02\n",
            " -4.46729083e-02 -9.43623519e-02 -1.39111147e-01 -1.05427863e-01\n",
            "  9.30631024e-02 -2.50692635e-02  8.07906884e-02  1.92563319e-01\n",
            " -7.08962065e-02 -1.32557047e-01 -4.30960713e-02  3.23108778e-02\n",
            "  2.00376248e-02  5.06249948e-02 -6.60442683e-02 -3.83365515e-02\n",
            "  6.21795509e-02 -5.60918932e-02  1.26267233e-01  1.12721928e-01\n",
            "  5.43808362e-02  7.38217844e-02  1.76923858e-01 -1.13516850e-02\n",
            "  2.32996449e-03 -8.84240202e-02 -1.19990459e-01 -8.05732232e-02\n",
            "  1.93702752e-01 -9.50863177e-02  2.92999037e-02 -6.71416031e-02\n",
            " -2.99968833e-02  7.78394068e-03 -4.39564119e-02  7.11325499e-02\n",
            " -5.55265988e-02 -1.28193906e-01  8.83739265e-02  1.62084691e-02\n",
            " -3.88821837e-02  5.56852011e-02 -2.88635524e-02  2.63331236e-01\n",
            "  7.14702916e-02  3.67938817e-02 -6.45571189e-02  8.65193156e-03\n",
            "  1.41985174e-01 -6.52267183e-02  2.13238054e-01  7.43441422e-02\n",
            " -2.05558699e-01 -8.95551329e-03  4.60166253e-02 -1.34221173e-01\n",
            " -8.55116482e-02  1.36063328e-01  7.98802930e-03  1.76863635e-02\n",
            " -1.10754980e-01 -6.72981374e-02  9.88846120e-02 -1.95435184e-02\n",
            " -4.87734196e-02  2.00906282e-01  1.03616853e-02 -1.21646669e-01\n",
            "  6.76755823e-02 -4.63063838e-02  1.25940628e-01  1.52435470e-01\n",
            "  5.22715493e-02 -1.00428895e-01 -3.16859957e-03  1.99219880e-02\n",
            "  1.17005718e-01  1.89269493e-01 -9.53961200e-02 -2.37206996e-01\n",
            "  1.44328946e-03 -1.14649822e-01  6.36554625e-02 -5.42222158e-02\n",
            " -1.34502629e-01 -1.44741153e-02 -1.24711155e-01 -3.13662007e-03\n",
            " -2.10670007e-02  8.27354510e-02 -7.78229044e-02 -5.04691265e-02\n",
            " -7.53963609e-02 -1.82086843e-01 -4.47570983e-02 -5.72989157e-02\n",
            " -1.48342935e-01 -2.82428884e-02  6.63844433e-02  1.48692771e-01\n",
            "  4.00259622e-02  1.95802113e-01  1.59567170e-01  5.61806728e-02\n",
            "  1.34831116e-01  5.11520508e-02  6.70910566e-02 -4.35604860e-02\n",
            "  2.57257004e-01  2.76164748e-02  9.94096533e-02  4.34495861e-02\n",
            "  6.97313294e-02 -1.84153675e-01  1.52194272e-01  1.24175627e-01\n",
            " -1.86116664e-01 -6.80625920e-02  7.57987066e-03  2.94289169e-02\n",
            "  4.25919926e-02  1.80030026e-02 -9.26226170e-02  1.15902993e-01\n",
            "  7.93753791e-04 -6.52853344e-02 -6.90532289e-02 -2.62864892e-02\n",
            " -1.74906464e-01 -2.50157036e-02 -6.08137752e-02 -1.80809519e-01\n",
            "  6.40553256e-02 -1.98674177e-01 -1.80066516e-02 -1.20813576e-01\n",
            "  1.18450739e-01 -4.72307016e-02 -9.06789432e-02 -3.14657676e-02\n",
            " -1.06161028e-01 -5.00686267e-02 -6.00694934e-02  1.14299441e-01\n",
            " -5.36431570e-02  1.69288304e-01 -1.74188239e-01 -1.75110381e-02\n",
            "  1.36332194e-02  1.30961837e-01 -1.50652319e-02  4.80499970e-02\n",
            "  1.01838553e-01 -2.03730508e-02  3.09917643e-02  9.91582070e-02\n",
            " -3.52886599e-02  3.70750957e-02  2.69410199e-02  1.38471417e-01\n",
            " -9.66584853e-03  1.11708278e-01  1.39481120e-02 -1.95433512e-02\n",
            " -4.55697481e-02  9.21893811e-02 -1.34247338e-01 -7.06611297e-02\n",
            " -1.20939424e-01  8.41917450e-02 -1.61100385e-01  1.09256825e-02\n",
            " -7.93217038e-02  1.50297698e-01 -8.61995033e-03 -8.77833389e-02\n",
            " -1.04093132e-01  3.86918080e-02  7.66334268e-02  2.40341360e-02\n",
            "  5.70574407e-02 -2.48725004e-02 -1.59473397e-01  1.11049343e-01\n",
            "  7.23830571e-03 -8.61955984e-02  7.62178199e-02  5.75877721e-02\n",
            " -1.21393974e-01  3.28417040e-02 -2.11677244e-02  7.32025482e-04\n",
            "  3.45189828e-02  3.05518175e-02 -4.43889565e-02 -1.15041838e-01\n",
            " -1.36879053e-01 -1.77715114e-01 -3.96335133e-02 -2.43630741e-02\n",
            " -9.68871136e-02  4.05155481e-02 -3.23110824e-02 -9.66707085e-02\n",
            " -5.86759739e-02  1.92140340e-03 -1.05870199e-02  2.17634363e-01\n",
            "  9.78170138e-02 -9.06707607e-02  2.59888277e-02 -5.47003646e-02\n",
            "  1.68196576e-01  5.31267598e-02  7.34235348e-02 -5.84789325e-02\n",
            "  6.51975444e-02  1.07528654e-01 -9.10372093e-02  2.57225761e-02\n",
            "  5.38846713e-02 -1.09169685e-03  1.01355099e-01 -1.27638570e-01\n",
            "  1.00512467e-01  3.36473533e-02  3.82878676e-02  7.03193587e-02\n",
            " -2.83067992e-03 -1.40793044e-01 -1.30841002e-01 -5.97579362e-06\n",
            " -1.10476164e-01  2.95607352e-02  4.28225626e-02 -8.50283225e-02\n",
            "  3.12343334e-02 -4.01542903e-02  2.45682242e-04 -4.56403602e-02\n",
            " -1.42425303e-01  1.29375890e-01  2.39130946e-02 -1.32535994e-01\n",
            " -7.90764388e-02  7.86361375e-02 -7.20698708e-02 -1.55877166e-01\n",
            " -1.70856486e-01  5.24677872e-02 -1.17561132e-01 -1.80117855e-01\n",
            " -1.10689047e-01  1.04864245e-01 -9.58378070e-02  6.34506007e-02\n",
            " -1.59777249e-01  2.79735403e-02  1.24172228e-01 -5.87730133e-02\n",
            "  6.72377369e-03 -1.28166581e-01  1.26869386e-01 -1.75048025e-02\n",
            " -3.50530231e-02 -3.90104174e-02 -1.04513419e-01 -1.05851122e-01\n",
            "  5.99532076e-02 -2.94711360e-01 -5.26452855e-02 -5.26964652e-03\n",
            " -5.93136991e-02  1.41885285e-01  1.43656254e-01  2.43567478e-01\n",
            "  1.89056497e-01  1.14107875e-01  8.47388023e-02  1.84554107e-02\n",
            " -1.62157695e-01 -8.27896004e-02  9.67686040e-02 -9.22193271e-02\n",
            "  1.04247432e-01 -9.31471629e-03 -3.78452833e-02 -5.92059563e-02\n",
            "  4.61916646e-02 -1.57998833e-01  1.90520727e-03  1.32324321e-02\n",
            "  1.21355423e-01 -1.21861909e-02 -1.10422798e-01 -4.79644829e-02\n",
            "  1.48378679e-01  4.07483281e-02 -5.98146562e-02 -1.27030432e-01\n",
            "  3.95535709e-02 -1.55329223e-01  5.20272420e-02  6.67263987e-02\n",
            " -5.03499255e-02 -1.50912668e-01 -6.73947254e-02  8.67557640e-02\n",
            " -4.19442898e-02  2.59963402e-01  5.72044312e-02 -1.09254717e-01\n",
            "  1.02454550e-02  9.95317898e-02 -1.27770407e-02  1.51403059e-02\n",
            " -6.58132744e-02  7.09464781e-02 -6.16140210e-02 -1.30532973e-01\n",
            " -8.53406662e-02  6.45001195e-02  9.40162658e-02 -1.87770091e-02\n",
            "  4.51519882e-02  1.07085893e-01  1.29038263e-01  2.14213803e-01\n",
            "  4.48490582e-03 -4.61322975e-02  1.93260100e-01  2.18599137e-01\n",
            "  1.51523156e-02 -2.06775597e-01 -1.75887987e-01 -2.11459722e-02\n",
            "  2.63704058e-02 -3.07792681e-01 -1.38041297e-01  5.21819430e-02\n",
            " -6.19602366e-02  1.07527748e-01  5.08051060e-03 -1.34109046e-02\n",
            "  1.19928084e-02 -2.50498444e-02  7.52341181e-02  8.94036095e-02\n",
            " -3.56137779e-02  1.41782602e-01  1.46679657e-01  1.64462435e-01\n",
            " -7.64797880e-02  1.28251357e-01  1.31568724e-01 -1.18833448e-01\n",
            "  3.04763154e-02 -1.78489950e-01 -1.42586791e-03  4.21075178e-02\n",
            "  1.01412191e-01 -1.34327641e-02 -5.30734281e-02 -6.37592420e-02\n",
            " -1.43786267e-02 -1.51913786e-01  3.38805614e-02  8.04088375e-02\n",
            "  4.05023141e-02  1.18908826e-01 -1.18912708e-01  1.89482737e-02\n",
            "  3.46982049e-02 -4.18631148e-02 -4.36326348e-02 -8.59634918e-02\n",
            " -1.85906956e-02  1.16486430e-01  5.94824107e-02 -1.15583759e-01\n",
            " -1.17838744e-01 -2.66094648e-02  1.51813166e-01 -1.85031790e-01\n",
            "  1.21429009e-01 -4.95784298e-02  4.43704751e-02  7.70874788e-02\n",
            " -1.58231985e-02  5.07340691e-02  5.93505719e-02  1.43278684e-01\n",
            " -8.35895151e-02 -7.38036646e-02 -1.71814491e-01  2.29549646e-02\n",
            "  2.02865996e-01  7.02063975e-02 -1.94381163e-01 -9.39676692e-02\n",
            "  1.18550843e-01 -7.98049046e-03 -4.52915652e-02 -5.38237536e-03\n",
            " -1.00624181e-01 -2.15459768e-02  1.02132427e-01 -6.77213496e-02\n",
            "  4.26381270e-02 -1.20915349e-01  5.84936738e-02 -1.40185955e-01\n",
            "  1.48606761e-02  6.77509308e-02  1.14937126e-01 -1.13438915e-01\n",
            " -3.83069686e-02  1.84297025e-01 -2.17326987e-02 -2.53862147e-01\n",
            " -1.91681960e-02 -1.44192013e-02  1.06888371e-01  1.13699686e-01\n",
            "  5.88238193e-02 -4.07799255e-02  1.76338887e-01  5.64413206e-04\n",
            "  1.72493561e-01  9.68425313e-02 -7.04384578e-02  7.86050527e-02\n",
            " -6.01623262e-03 -6.12330066e-03 -2.31309319e-02 -1.38322410e-02\n",
            "  6.42286019e-02 -5.98100593e-03 -1.67984238e-01  3.00869596e-02\n",
            "  6.78828769e-03  1.06216866e-03  2.98099062e-02 -2.29132978e-02\n",
            " -3.25656562e-02 -1.00972268e-01 -5.32840832e-02 -7.87800715e-02\n",
            " -1.26383204e-01  6.90507212e-02  8.61685066e-02  1.89643148e-02\n",
            " -6.61025030e-02  7.97472685e-03  8.01058086e-02 -1.09956420e-01\n",
            " -6.24446403e-02 -1.45111590e-01  5.46750210e-03 -1.19189613e-01\n",
            " -3.26278516e-02 -5.03133541e-02 -2.40680037e-02  2.15419241e-02\n",
            " -5.85022547e-02  1.08374588e-02  3.60951401e-03  3.28193762e-02\n",
            " -2.10925455e-02 -8.46212384e-02 -1.20174753e-01 -1.74002899e-01\n",
            " -1.65777888e-02  7.53475710e-02 -9.00189831e-02  4.44611695e-02\n",
            " -1.18777150e-01  1.80161574e-01 -6.55081369e-02  4.03694880e-02\n",
            " -1.02909762e-01 -1.79510975e-01  9.19311716e-03 -3.04667249e-03\n",
            "  6.32457672e-03 -2.32807028e-01  3.57950928e-02  7.03155183e-02\n",
            " -1.62039640e-01 -5.77051549e-02  1.93713678e-02  3.86430196e-02\n",
            "  6.68897394e-04 -4.39416777e-02  8.59040800e-02 -4.46965101e-02\n",
            "  1.07526177e-01  8.09126847e-02  7.04324865e-02 -7.01600279e-02\n",
            " -1.01417441e-01 -3.76125297e-02 -4.68797827e-02  9.37967688e-02\n",
            "  1.54956975e-01  7.69474297e-02 -5.69595726e-02 -9.56801926e-02\n",
            " -5.05511580e-02  3.02680740e-02 -2.72818970e-02  1.28745364e-02\n",
            "  1.23176050e-02 -2.58726179e-02 -5.10282806e-02  1.52968674e-02\n",
            " -1.42344350e-01  6.49802269e-02 -3.27639783e-02  2.55593690e-01\n",
            "  2.08507631e-01  1.57950501e-01 -1.57184529e-01 -2.40170589e-02\n",
            "  1.86848271e-02  1.78533399e-01 -1.52958487e-01 -1.07030748e-01\n",
            "  5.02062860e-03  9.69921633e-02  1.48111265e-01 -1.18599767e-01\n",
            "  4.00669589e-04  1.12367859e-03  5.91313960e-02 -1.21650841e-01\n",
            " -9.30082635e-02 -8.15288841e-02  2.63142495e-02  9.76346736e-02\n",
            "  3.90654003e-02  3.92883154e-02 -8.69541775e-02  2.10501400e-02\n",
            "  2.84938805e-02 -1.23261184e-01  9.00093353e-02  6.16537800e-02\n",
            " -8.14788328e-03 -1.19310354e-01 -1.56258117e-01 -3.94058930e-04\n",
            " -1.15683826e-01 -5.38513490e-02 -4.22170880e-02 -4.39291874e-02\n",
            "  1.25475686e-01 -1.64116673e-02 -1.22857514e-01 -1.10092630e-01\n",
            " -1.68769606e-02 -6.96421345e-02  1.10159385e-01  1.19704537e-01\n",
            " -1.99330329e-01 -1.11921252e-01  6.68100004e-02 -5.53034350e-02\n",
            " -5.39407674e-02 -3.83221831e-02  2.33401104e-02  1.17007319e-01\n",
            "  3.74841042e-04 -9.13644533e-02 -4.89748246e-02 -4.49435346e-02\n",
            " -1.32372731e-01  1.12302774e-01  7.54324439e-02 -1.37221406e-02\n",
            "  1.11268479e-01  1.28029337e-01 -1.52803270e-02  1.53905691e-01\n",
            " -1.65291696e-01 -1.80591747e-02 -2.24545849e-01 -1.20265210e-01\n",
            "  2.52969010e-01 -3.20726381e-02  6.28061533e-02  5.55350456e-02\n",
            " -2.09498436e-01  3.01269144e-02 -2.17643108e-01  2.06156406e-02\n",
            "  2.09223608e-02 -8.09447646e-02  5.97629325e-02  1.80760116e-01\n",
            "  6.97393597e-02  7.41746549e-02  2.73636283e-02 -1.32233122e-02\n",
            "  1.59809500e-01 -6.12812000e-02 -4.01012991e-02  5.32658213e-03\n",
            " -8.46622074e-02 -1.78587800e-02  7.58266207e-02  2.11255598e-02\n",
            " -2.46559437e-01 -1.57322206e-02 -1.47924668e-01 -7.66068889e-03]\n"
          ]
        }
      ]
    },
    {
      "cell_type": "markdown",
      "source": [
        "**EXCERCISE**"
      ],
      "metadata": {
        "id": "Q3H5vfG5Cok5"
      }
    },
    {
      "cell_type": "code",
      "source": [
        "#2.Simulate a two-sided coin toss that is NOT fair: it is twice as likely to have head than tails.\n",
        "coin = np.random.choice(['Head','Head','Tails'], 2)\n",
        "print(coin)"
      ],
      "metadata": {
        "colab": {
          "base_uri": "https://localhost:8080/"
        },
        "id": "0rZDi8YEDEbY",
        "outputId": "79b8c3a6-d7d3-44a7-8079-c69bda78b975"
      },
      "execution_count": 199,
      "outputs": [
        {
          "output_type": "execute_result",
          "data": {
            "text/plain": [
              "array(['Head', 'Head'], dtype='<U5')"
            ]
          },
          "metadata": {},
          "execution_count": 199
        }
      ]
    },
    {
      "cell_type": "code",
      "source": [
        "#Exercise:1.Simulate a six-sided dice using numpy.random.choice(), generate a list of values you would obtain from 10 throws.\n",
        "dice = np.random.choice([1,6], 10)\n",
        "dice"
      ],
      "metadata": {
        "colab": {
          "base_uri": "https://localhost:8080/"
        },
        "id": "rRfWsvLqEscr",
        "outputId": "d9700406-4002-4934-de3a-269fc7f6aa7b"
      },
      "execution_count": 205,
      "outputs": [
        {
          "output_type": "execute_result",
          "data": {
            "text/plain": [
              "array([1, 1, 6, 6, 1, 6, 6, 1, 1, 6])"
            ]
          },
          "metadata": {},
          "execution_count": 205
        }
      ]
    }
  ]
}