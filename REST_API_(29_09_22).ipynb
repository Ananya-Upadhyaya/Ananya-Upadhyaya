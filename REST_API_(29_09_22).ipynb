{
  "nbformat": 4,
  "nbformat_minor": 0,
  "metadata": {
    "colab": {
      "provenance": [],
      "authorship_tag": "ABX9TyNI9XZG7Ghf6wY/cOOSpeWu",
      "include_colab_link": true
    },
    "kernelspec": {
      "name": "python3",
      "display_name": "Python 3"
    },
    "language_info": {
      "name": "python"
    }
  },
  "cells": [
    {
      "cell_type": "markdown",
      "metadata": {
        "id": "view-in-github",
        "colab_type": "text"
      },
      "source": [
        "<a href=\"https://colab.research.google.com/github/Ananya-Upadhyaya/Ananya-Upadhyaya/blob/main/REST_API_(29_09_22).ipynb\" target=\"_parent\"><img src=\"https://colab.research.google.com/assets/colab-badge.svg\" alt=\"Open In Colab\"/></a>"
      ]
    },
    {
      "cell_type": "code",
      "execution_count": null,
      "metadata": {
        "id": "su2FgsxoHtfI"
      },
      "outputs": [],
      "source": [
        "from flask import Flask, Response, request\n",
        "app = Flask(__name__)\n",
        "\n",
        "information = {'name':'Someguy Somewhere','age':'32', 'occupation':'Somejob'}\n",
        "\n",
        "@app.route('/')\n",
        "@app.route('/info', methods=['GET'])\n",
        "def get_text():\n",
        "    # The API request will return text containing the information as a JSON object.\n",
        "    return (information)\n",
        "\n",
        "# Here we will add functionality to add the information dictionary. The new key is defined in the URL, and the value of the key is in the sent data. We also want to add a check for pre-existence, so that we do not update existing entires (we want to save that for PUT requests).\n",
        "@app.route('/info/add/<string:key>', methods=['POST'])\n",
        "def post_text(key):\n",
        "    # adding the new key-value pair\n",
        "    if key not in information:\n",
        "        information[key] = request.data.decode('utf-8')\n",
        "        return Response(key + \" added to information with value: \" + request.data.decode('utf-8'), mimetype='text/plain')\n",
        "    else:\n",
        "        return Response(key + \" already exists.\", mimetype='text/plain')\n",
        "\n",
        "# We will implement update functionality (PUT request) with the same URL as the route for POST requests, but with a PUT method. Similar to before, we want to check the dictionary for pre-existence so that we only implement changes if the key already exists.\n",
        "@app.route('/info/update/<string:key>', methods=['PUT'])\n",
        "def put_text(key):\n",
        "    if key in information:\n",
        "        information[key] = request.data.decode('utf-8')\n",
        "        return Response(key + \" changed to: \" + request.data.decode('utf-8'), mimetype='text/plain')\n",
        "    else:\n",
        "        return Response(key + \" not found.\", mimetype='text/plain')\n",
        "\n",
        "# Finally, we add a function so that if the request is DELETE, we delete that key from the dictionary.\n",
        "@app.route('/info/delete', methods=['DELETE'])\n",
        "def delete_text():\n",
        "    key = request.data.decode('utf-8')\n",
        "    if key in information:\n",
        "        information.pop(key)\n",
        "        return Response(key + \" deleted from information. \", mimetype='text/plain')\n",
        "    else:\n",
        "        return Response(key + \" not found.\", mimetype='text/plain')\n",
        "\n",
        "# Make app callabale from the command line\n",
        "if __name__ == '__main__':\n",
        "    app.run(port=5000, debug=True, host='0.0.0.0')"
      ]
    }
  ]
}