{
  "nbformat": 4,
  "nbformat_minor": 0,
  "metadata": {
    "colab": {
      "provenance": [],
      "authorship_tag": "ABX9TyNz30NZC2xf3tcaZUQ/DbIn",
      "include_colab_link": true
    },
    "kernelspec": {
      "name": "python3",
      "display_name": "Python 3"
    },
    "language_info": {
      "name": "python"
    }
  },
  "cells": [
    {
      "cell_type": "markdown",
      "metadata": {
        "id": "view-in-github",
        "colab_type": "text"
      },
      "source": [
        "<a href=\"https://colab.research.google.com/github/Ananya-Upadhyaya/Ananya-Upadhyaya/blob/main/PySpark(12_10_22).ipynb\" target=\"_parent\"><img src=\"https://colab.research.google.com/assets/colab-badge.svg\" alt=\"Open In Colab\"/></a>"
      ]
    },
    {
      "cell_type": "code",
      "source": [
        "!pip install pyspark"
      ],
      "metadata": {
        "colab": {
          "base_uri": "https://localhost:8080/"
        },
        "id": "8fCloIjj2LPp",
        "outputId": "cdd2d594-e9bf-46b2-e746-f16f0c613133"
      },
      "execution_count": 1,
      "outputs": [
        {
          "output_type": "stream",
          "name": "stdout",
          "text": [
            "Looking in indexes: https://pypi.org/simple, https://us-python.pkg.dev/colab-wheels/public/simple/\n",
            "Collecting pyspark\n",
            "  Downloading pyspark-3.3.0.tar.gz (281.3 MB)\n",
            "\u001b[K     |████████████████████████████████| 281.3 MB 47 kB/s \n",
            "\u001b[?25hCollecting py4j==0.10.9.5\n",
            "  Downloading py4j-0.10.9.5-py2.py3-none-any.whl (199 kB)\n",
            "\u001b[K     |████████████████████████████████| 199 kB 35.4 MB/s \n",
            "\u001b[?25hBuilding wheels for collected packages: pyspark\n",
            "  Building wheel for pyspark (setup.py) ... \u001b[?25l\u001b[?25hdone\n",
            "  Created wheel for pyspark: filename=pyspark-3.3.0-py2.py3-none-any.whl size=281764026 sha256=89671ae4bbfd251664a99722f256303f0502fc5d84f98f5ae5306bf314a2ecf4\n",
            "  Stored in directory: /root/.cache/pip/wheels/7a/8e/1b/f73a52650d2e5f337708d9f6a1750d451a7349a867f928b885\n",
            "Successfully built pyspark\n",
            "Installing collected packages: py4j, pyspark\n",
            "Successfully installed py4j-0.10.9.5 pyspark-3.3.0\n"
          ]
        }
      ]
    },
    {
      "cell_type": "code",
      "source": [
        "import pyspark"
      ],
      "metadata": {
        "id": "0RY4Tevx2fNt"
      },
      "execution_count": 2,
      "outputs": []
    },
    {
      "cell_type": "code",
      "source": [
        "import pandas as pd"
      ],
      "metadata": {
        "id": "q7I9ykyq2ttT"
      },
      "execution_count": 3,
      "outputs": []
    },
    {
      "cell_type": "code",
      "source": [
        "from pyspark.sql import SparkSession"
      ],
      "metadata": {
        "id": "TWmcryQ02u0H"
      },
      "execution_count": 4,
      "outputs": []
    },
    {
      "cell_type": "code",
      "source": [
        "spark = SparkSession.builder.appName('Practice').getOrCreate()"
      ],
      "metadata": {
        "id": "xnXnK9dC2xvx"
      },
      "execution_count": 5,
      "outputs": []
    },
    {
      "cell_type": "code",
      "source": [
        "spark"
      ],
      "metadata": {
        "colab": {
          "base_uri": "https://localhost:8080/",
          "height": 219
        },
        "id": "UbW4oAt_22fU",
        "outputId": "9a831975-5398-4bfc-8321-70d93978e10f"
      },
      "execution_count": 6,
      "outputs": [
        {
          "output_type": "execute_result",
          "data": {
            "text/plain": [
              "<pyspark.sql.session.SparkSession at 0x7f7f06c66450>"
            ],
            "text/html": [
              "\n",
              "            <div>\n",
              "                <p><b>SparkSession - in-memory</b></p>\n",
              "                \n",
              "        <div>\n",
              "            <p><b>SparkContext</b></p>\n",
              "\n",
              "            <p><a href=\"http://9cede772f224:4040\">Spark UI</a></p>\n",
              "\n",
              "            <dl>\n",
              "              <dt>Version</dt>\n",
              "                <dd><code>v3.3.0</code></dd>\n",
              "              <dt>Master</dt>\n",
              "                <dd><code>local[*]</code></dd>\n",
              "              <dt>AppName</dt>\n",
              "                <dd><code>Practice</code></dd>\n",
              "            </dl>\n",
              "        </div>\n",
              "        \n",
              "            </div>\n",
              "        "
            ]
          },
          "metadata": {},
          "execution_count": 6
        }
      ]
    },
    {
      "cell_type": "code",
      "source": [
        "df_pyspark =spark.read.csv('DB.csv')"
      ],
      "metadata": {
        "id": "BhsLyQ3b26Nh"
      },
      "execution_count": 7,
      "outputs": []
    },
    {
      "cell_type": "code",
      "source": [
        "df_pyspark"
      ],
      "metadata": {
        "colab": {
          "base_uri": "https://localhost:8080/"
        },
        "id": "SLD8oHOQ2_4f",
        "outputId": "95aebf2f-58d4-4c74-ff04-cb0f7279d567"
      },
      "execution_count": 8,
      "outputs": [
        {
          "output_type": "execute_result",
          "data": {
            "text/plain": [
              "DataFrame[_c0: string, _c1: string, _c2: string, _c3: string, _c4: string, _c5: string]"
            ]
          },
          "metadata": {},
          "execution_count": 8
        }
      ]
    },
    {
      "cell_type": "code",
      "source": [
        "df_pyspark =spark.read.option('header', 'true').csv('DB.csv')"
      ],
      "metadata": {
        "id": "zGSQoH-63Ct_"
      },
      "execution_count": 9,
      "outputs": []
    },
    {
      "cell_type": "code",
      "source": [
        "df_pyspark"
      ],
      "metadata": {
        "colab": {
          "base_uri": "https://localhost:8080/"
        },
        "id": "JmcpjdCB3HCH",
        "outputId": "849bae47-47b6-4ab5-c6af-c3beced00eab"
      },
      "execution_count": 10,
      "outputs": [
        {
          "output_type": "execute_result",
          "data": {
            "text/plain": [
              "DataFrame[movie: string, title: string, genres: string, year: string, Rating: string, Rotton Tomato: string]"
            ]
          },
          "metadata": {},
          "execution_count": 10
        }
      ]
    },
    {
      "cell_type": "code",
      "source": [
        "df_pyspark =spark.read.option('header', 'true').csv('DB.csv',inferSchema=True)"
      ],
      "metadata": {
        "id": "_fEmqei63Mq4"
      },
      "execution_count": 11,
      "outputs": []
    },
    {
      "cell_type": "code",
      "source": [
        "df_pyspark"
      ],
      "metadata": {
        "colab": {
          "base_uri": "https://localhost:8080/"
        },
        "id": "MLcGuTwJ3QjM",
        "outputId": "4c73f8ec-5ab3-45ab-c131-d35939a4cf68"
      },
      "execution_count": 12,
      "outputs": [
        {
          "output_type": "execute_result",
          "data": {
            "text/plain": [
              "DataFrame[movie: int, title: string, genres: string, year: int, Rating: int, Rotton Tomato: int]"
            ]
          },
          "metadata": {},
          "execution_count": 12
        }
      ]
    },
    {
      "cell_type": "code",
      "source": [
        "type(df_pyspark)"
      ],
      "metadata": {
        "colab": {
          "base_uri": "https://localhost:8080/"
        },
        "id": "zS0FGUZ63VzH",
        "outputId": "2bc27b8d-25ed-4603-ce0d-d748aaead492"
      },
      "execution_count": 13,
      "outputs": [
        {
          "output_type": "execute_result",
          "data": {
            "text/plain": [
              "pyspark.sql.dataframe.DataFrame"
            ]
          },
          "metadata": {},
          "execution_count": 13
        }
      ]
    },
    {
      "cell_type": "code",
      "source": [
        "df_pyspark.printSchema()"
      ],
      "metadata": {
        "colab": {
          "base_uri": "https://localhost:8080/"
        },
        "id": "iXVH_W6r3Xq9",
        "outputId": "ccfacbcf-13d8-4e8f-c379-bbe5fd1b9599"
      },
      "execution_count": 14,
      "outputs": [
        {
          "output_type": "stream",
          "name": "stdout",
          "text": [
            "root\n",
            " |-- movie: integer (nullable = true)\n",
            " |-- title: string (nullable = true)\n",
            " |-- genres: string (nullable = true)\n",
            " |-- year: integer (nullable = true)\n",
            " |-- Rating: integer (nullable = true)\n",
            " |-- Rotton Tomato: integer (nullable = true)\n",
            "\n"
          ]
        }
      ]
    },
    {
      "cell_type": "code",
      "source": [
        "df_pyspark.show()"
      ],
      "metadata": {
        "colab": {
          "base_uri": "https://localhost:8080/"
        },
        "id": "nG2vqF-c3c6I",
        "outputId": "8ceaa68b-ec9c-4bd0-8567-a510f9f926cd"
      },
      "execution_count": 15,
      "outputs": [
        {
          "output_type": "stream",
          "name": "stdout",
          "text": [
            "+------+--------------------+--------------------+-----+------+-------------+\n",
            "| movie|               title|              genres| year|Rating|Rotton Tomato|\n",
            "+------+--------------------+--------------------+-----+------+-------------+\n",
            "|108583| Fawlty Towers (1975|              Comedy|-1980|     1|           54|\n",
            "| 32898|Trip to the Moon,...|Action|Adventure|...| 1902|     7|           80|\n",
            "|  7065|Birth of a Nation...|           Drama|War| 1915|     6|           92|\n",
            "|  7243|Intolerance: Love...|               Drama| 1915|     4|           82|\n",
            "| 62383|20,000 Leagues Un...|Action|Adventure|...| 1915|     9|           92|\n",
            "|  8511|      Immigrant, The|              Comedy| 1917|     4|           59|\n",
            "|  3309|       Dog's Life, A|              Comedy| 1917|     3|           83|\n",
            "| 72626|  Billy Blazes, Esq.|      Comedy|Western| 1918|     2|           63|\n",
            "|  6987|Cabinet of Dr. Ca...|Crime|Fantasy|Horror| 1919|     4|           63|\n",
            "| 25737|Golem, The (Golem...|      Fantasy|Horror| 1919|     8|           50|\n",
            "| 59945|  Mark of Zorro, The|Adventure|Romance...| 1919|     8|           67|\n",
            "|  3310|            Kid, The|        Comedy|Drama| 1921|     8|           57|\n",
            "| 83096|  Haunted House, The|              Comedy| 1920|     9|           61|\n",
            "| 83318|           Goat, The|              Comedy| 1921|     8|           86|\n",
            "| 83322|           Boat, The|              Comedy| 1920|     4|           65|\n",
            "| 83359|     Play House, The|              Comedy| 1921|     6|           53|\n",
            "|  1348|Nosferatu (Nosfer...|              Horror| 1922|     3|           65|\n",
            "|  4768|Dr. Mabuse: The G...|Crime|Mystery|Thr...| 1921|     2|           69|\n",
            "| 25744|Haxan: Witchcraft...|  Documentary|Horror| 1922|     6|           83|\n",
            "| 44587| Nanook of the North|   Documentary|Drama| 1922|     2|           77|\n",
            "+------+--------------------+--------------------+-----+------+-------------+\n",
            "only showing top 20 rows\n",
            "\n"
          ]
        }
      ]
    },
    {
      "cell_type": "code",
      "source": [
        "df_pyspark.head(5)"
      ],
      "metadata": {
        "colab": {
          "base_uri": "https://localhost:8080/"
        },
        "id": "017wlLgu3jIz",
        "outputId": "16717621-28b5-489d-ce1a-17307436d96b"
      },
      "execution_count": 16,
      "outputs": [
        {
          "output_type": "execute_result",
          "data": {
            "text/plain": [
              "[Row(movie=108583, title='Fawlty Towers (1975', genres='Comedy', year=-1980, Rating=1, Rotton Tomato=54),\n",
              " Row(movie=32898, title='Trip to the Moon, A (Voyage dans la lune, Le)', genres='Action|Adventure|Fantasy|Sci-Fi', year=1902, Rating=7, Rotton Tomato=80),\n",
              " Row(movie=7065, title='Birth of a Nation, The', genres='Drama|War', year=1915, Rating=6, Rotton Tomato=92),\n",
              " Row(movie=7243, title=\"Intolerance: Love's Struggle Throughout the Ages\", genres='Drama', year=1915, Rating=4, Rotton Tomato=82),\n",
              " Row(movie=62383, title='20,000 Leagues Under the Sea', genres='Action|Adventure|Sci-Fi', year=1915, Rating=9, Rotton Tomato=92)]"
            ]
          },
          "metadata": {},
          "execution_count": 16
        }
      ]
    },
    {
      "cell_type": "code",
      "source": [
        "df_pyspark.tail(3)"
      ],
      "metadata": {
        "colab": {
          "base_uri": "https://localhost:8080/"
        },
        "id": "YbU5rafG3lJ0",
        "outputId": "3cf69ea8-2f60-4498-d85c-662a093af621"
      },
      "execution_count": 17,
      "outputs": [
        {
          "output_type": "execute_result",
          "data": {
            "text/plain": [
              "[Row(movie=151307, title='The Lovers and the', genres='(no genres listed)', year=1929, Rating=8, Rotton Tomato=97),\n",
              " Row(movie=162376, title='Stranger', genres='Drama', year=1930, Rating=4, Rotton Tomato=76),\n",
              " Row(movie=164979, title=\"Women of '69, U\", genres='Documentary', year=1931, Rating=5, Rotton Tomato=68)]"
            ]
          },
          "metadata": {},
          "execution_count": 17
        }
      ]
    },
    {
      "cell_type": "code",
      "source": [
        "df_pyspark.select(\"movie\",\"title\",\"genres\",\"Rating\").show()"
      ],
      "metadata": {
        "colab": {
          "base_uri": "https://localhost:8080/"
        },
        "id": "5XL6p8jj3p9F",
        "outputId": "b9da88a4-ae13-4844-dd13-073aa57a19f9"
      },
      "execution_count": 18,
      "outputs": [
        {
          "output_type": "stream",
          "name": "stdout",
          "text": [
            "+------+--------------------+--------------------+------+\n",
            "| movie|               title|              genres|Rating|\n",
            "+------+--------------------+--------------------+------+\n",
            "|108583| Fawlty Towers (1975|              Comedy|     1|\n",
            "| 32898|Trip to the Moon,...|Action|Adventure|...|     7|\n",
            "|  7065|Birth of a Nation...|           Drama|War|     6|\n",
            "|  7243|Intolerance: Love...|               Drama|     4|\n",
            "| 62383|20,000 Leagues Un...|Action|Adventure|...|     9|\n",
            "|  8511|      Immigrant, The|              Comedy|     4|\n",
            "|  3309|       Dog's Life, A|              Comedy|     3|\n",
            "| 72626|  Billy Blazes, Esq.|      Comedy|Western|     2|\n",
            "|  6987|Cabinet of Dr. Ca...|Crime|Fantasy|Horror|     4|\n",
            "| 25737|Golem, The (Golem...|      Fantasy|Horror|     8|\n",
            "| 59945|  Mark of Zorro, The|Adventure|Romance...|     8|\n",
            "|  3310|            Kid, The|        Comedy|Drama|     8|\n",
            "| 83096|  Haunted House, The|              Comedy|     9|\n",
            "| 83318|           Goat, The|              Comedy|     8|\n",
            "| 83322|           Boat, The|              Comedy|     4|\n",
            "| 83359|     Play House, The|              Comedy|     6|\n",
            "|  1348|Nosferatu (Nosfer...|              Horror|     3|\n",
            "|  4768|Dr. Mabuse: The G...|Crime|Mystery|Thr...|     2|\n",
            "| 25744|Haxan: Witchcraft...|  Documentary|Horror|     6|\n",
            "| 44587| Nanook of the North|   Documentary|Drama|     2|\n",
            "+------+--------------------+--------------------+------+\n",
            "only showing top 20 rows\n",
            "\n"
          ]
        }
      ]
    },
    {
      "cell_type": "code",
      "source": [
        "df_pyspark = df_pyspark.withColumn(\"Rating + 2\" , df_pyspark[\"Rating\"]+2)\n",
        "df_pyspark"
      ],
      "metadata": {
        "colab": {
          "base_uri": "https://localhost:8080/"
        },
        "id": "Mw6GNuuR6Kl0",
        "outputId": "1dd3926d-ed82-493c-b308-ff51a1feb533"
      },
      "execution_count": 19,
      "outputs": [
        {
          "output_type": "execute_result",
          "data": {
            "text/plain": [
              "DataFrame[movie: int, title: string, genres: string, year: int, Rating: int, Rotton Tomato: int, Rating + 2: int]"
            ]
          },
          "metadata": {},
          "execution_count": 19
        }
      ]
    },
    {
      "cell_type": "code",
      "source": [
        "df_pyspark.show()"
      ],
      "metadata": {
        "colab": {
          "base_uri": "https://localhost:8080/"
        },
        "id": "YX8z2SB56Xui",
        "outputId": "4f603d45-91b6-4cf7-f3e1-a3d6b473e60c"
      },
      "execution_count": 20,
      "outputs": [
        {
          "output_type": "stream",
          "name": "stdout",
          "text": [
            "+------+--------------------+--------------------+-----+------+-------------+----------+\n",
            "| movie|               title|              genres| year|Rating|Rotton Tomato|Rating + 2|\n",
            "+------+--------------------+--------------------+-----+------+-------------+----------+\n",
            "|108583| Fawlty Towers (1975|              Comedy|-1980|     1|           54|         3|\n",
            "| 32898|Trip to the Moon,...|Action|Adventure|...| 1902|     7|           80|         9|\n",
            "|  7065|Birth of a Nation...|           Drama|War| 1915|     6|           92|         8|\n",
            "|  7243|Intolerance: Love...|               Drama| 1915|     4|           82|         6|\n",
            "| 62383|20,000 Leagues Un...|Action|Adventure|...| 1915|     9|           92|        11|\n",
            "|  8511|      Immigrant, The|              Comedy| 1917|     4|           59|         6|\n",
            "|  3309|       Dog's Life, A|              Comedy| 1917|     3|           83|         5|\n",
            "| 72626|  Billy Blazes, Esq.|      Comedy|Western| 1918|     2|           63|         4|\n",
            "|  6987|Cabinet of Dr. Ca...|Crime|Fantasy|Horror| 1919|     4|           63|         6|\n",
            "| 25737|Golem, The (Golem...|      Fantasy|Horror| 1919|     8|           50|        10|\n",
            "| 59945|  Mark of Zorro, The|Adventure|Romance...| 1919|     8|           67|        10|\n",
            "|  3310|            Kid, The|        Comedy|Drama| 1921|     8|           57|        10|\n",
            "| 83096|  Haunted House, The|              Comedy| 1920|     9|           61|        11|\n",
            "| 83318|           Goat, The|              Comedy| 1921|     8|           86|        10|\n",
            "| 83322|           Boat, The|              Comedy| 1920|     4|           65|         6|\n",
            "| 83359|     Play House, The|              Comedy| 1921|     6|           53|         8|\n",
            "|  1348|Nosferatu (Nosfer...|              Horror| 1922|     3|           65|         5|\n",
            "|  4768|Dr. Mabuse: The G...|Crime|Mystery|Thr...| 1921|     2|           69|         4|\n",
            "| 25744|Haxan: Witchcraft...|  Documentary|Horror| 1922|     6|           83|         8|\n",
            "| 44587| Nanook of the North|   Documentary|Drama| 1922|     2|           77|         4|\n",
            "+------+--------------------+--------------------+-----+------+-------------+----------+\n",
            "only showing top 20 rows\n",
            "\n"
          ]
        }
      ]
    },
    {
      "cell_type": "code",
      "source": [
        "df_pyspark = df_pyspark.drop(\"year + 3\")"
      ],
      "metadata": {
        "id": "Ju_ZiZRf6cWG"
      },
      "execution_count": 21,
      "outputs": []
    },
    {
      "cell_type": "code",
      "source": [
        "df_pyspark.show()"
      ],
      "metadata": {
        "colab": {
          "base_uri": "https://localhost:8080/"
        },
        "id": "OkYHTuJC6l6V",
        "outputId": "9798163d-869c-48c8-eac6-1d1ae6335c16"
      },
      "execution_count": 22,
      "outputs": [
        {
          "output_type": "stream",
          "name": "stdout",
          "text": [
            "+------+--------------------+--------------------+-----+------+-------------+----------+\n",
            "| movie|               title|              genres| year|Rating|Rotton Tomato|Rating + 2|\n",
            "+------+--------------------+--------------------+-----+------+-------------+----------+\n",
            "|108583| Fawlty Towers (1975|              Comedy|-1980|     1|           54|         3|\n",
            "| 32898|Trip to the Moon,...|Action|Adventure|...| 1902|     7|           80|         9|\n",
            "|  7065|Birth of a Nation...|           Drama|War| 1915|     6|           92|         8|\n",
            "|  7243|Intolerance: Love...|               Drama| 1915|     4|           82|         6|\n",
            "| 62383|20,000 Leagues Un...|Action|Adventure|...| 1915|     9|           92|        11|\n",
            "|  8511|      Immigrant, The|              Comedy| 1917|     4|           59|         6|\n",
            "|  3309|       Dog's Life, A|              Comedy| 1917|     3|           83|         5|\n",
            "| 72626|  Billy Blazes, Esq.|      Comedy|Western| 1918|     2|           63|         4|\n",
            "|  6987|Cabinet of Dr. Ca...|Crime|Fantasy|Horror| 1919|     4|           63|         6|\n",
            "| 25737|Golem, The (Golem...|      Fantasy|Horror| 1919|     8|           50|        10|\n",
            "| 59945|  Mark of Zorro, The|Adventure|Romance...| 1919|     8|           67|        10|\n",
            "|  3310|            Kid, The|        Comedy|Drama| 1921|     8|           57|        10|\n",
            "| 83096|  Haunted House, The|              Comedy| 1920|     9|           61|        11|\n",
            "| 83318|           Goat, The|              Comedy| 1921|     8|           86|        10|\n",
            "| 83322|           Boat, The|              Comedy| 1920|     4|           65|         6|\n",
            "| 83359|     Play House, The|              Comedy| 1921|     6|           53|         8|\n",
            "|  1348|Nosferatu (Nosfer...|              Horror| 1922|     3|           65|         5|\n",
            "|  4768|Dr. Mabuse: The G...|Crime|Mystery|Thr...| 1921|     2|           69|         4|\n",
            "| 25744|Haxan: Witchcraft...|  Documentary|Horror| 1922|     6|           83|         8|\n",
            "| 44587| Nanook of the North|   Documentary|Drama| 1922|     2|           77|         4|\n",
            "+------+--------------------+--------------------+-----+------+-------------+----------+\n",
            "only showing top 20 rows\n",
            "\n"
          ]
        }
      ]
    },
    {
      "cell_type": "code",
      "source": [
        "df_pyspark = df_pyspark.drop(\"Rating + 3\")\n",
        "df_pyspark.show()"
      ],
      "metadata": {
        "colab": {
          "base_uri": "https://localhost:8080/"
        },
        "id": "CMYCh7qJ6oVH",
        "outputId": "b5148bf4-ad9d-4be5-efa4-6383010aa6f4"
      },
      "execution_count": 23,
      "outputs": [
        {
          "output_type": "stream",
          "name": "stdout",
          "text": [
            "+------+--------------------+--------------------+-----+------+-------------+----------+\n",
            "| movie|               title|              genres| year|Rating|Rotton Tomato|Rating + 2|\n",
            "+------+--------------------+--------------------+-----+------+-------------+----------+\n",
            "|108583| Fawlty Towers (1975|              Comedy|-1980|     1|           54|         3|\n",
            "| 32898|Trip to the Moon,...|Action|Adventure|...| 1902|     7|           80|         9|\n",
            "|  7065|Birth of a Nation...|           Drama|War| 1915|     6|           92|         8|\n",
            "|  7243|Intolerance: Love...|               Drama| 1915|     4|           82|         6|\n",
            "| 62383|20,000 Leagues Un...|Action|Adventure|...| 1915|     9|           92|        11|\n",
            "|  8511|      Immigrant, The|              Comedy| 1917|     4|           59|         6|\n",
            "|  3309|       Dog's Life, A|              Comedy| 1917|     3|           83|         5|\n",
            "| 72626|  Billy Blazes, Esq.|      Comedy|Western| 1918|     2|           63|         4|\n",
            "|  6987|Cabinet of Dr. Ca...|Crime|Fantasy|Horror| 1919|     4|           63|         6|\n",
            "| 25737|Golem, The (Golem...|      Fantasy|Horror| 1919|     8|           50|        10|\n",
            "| 59945|  Mark of Zorro, The|Adventure|Romance...| 1919|     8|           67|        10|\n",
            "|  3310|            Kid, The|        Comedy|Drama| 1921|     8|           57|        10|\n",
            "| 83096|  Haunted House, The|              Comedy| 1920|     9|           61|        11|\n",
            "| 83318|           Goat, The|              Comedy| 1921|     8|           86|        10|\n",
            "| 83322|           Boat, The|              Comedy| 1920|     4|           65|         6|\n",
            "| 83359|     Play House, The|              Comedy| 1921|     6|           53|         8|\n",
            "|  1348|Nosferatu (Nosfer...|              Horror| 1922|     3|           65|         5|\n",
            "|  4768|Dr. Mabuse: The G...|Crime|Mystery|Thr...| 1921|     2|           69|         4|\n",
            "| 25744|Haxan: Witchcraft...|  Documentary|Horror| 1922|     6|           83|         8|\n",
            "| 44587| Nanook of the North|   Documentary|Drama| 1922|     2|           77|         4|\n",
            "+------+--------------------+--------------------+-----+------+-------------+----------+\n",
            "only showing top 20 rows\n",
            "\n"
          ]
        }
      ]
    },
    {
      "cell_type": "code",
      "source": [
        "df_pyspark = df_pyspark.withColumnRenamed('movie' , 'movie name')\n",
        "df_pyspark.show()"
      ],
      "metadata": {
        "colab": {
          "base_uri": "https://localhost:8080/"
        },
        "id": "alTbGh1L6zoJ",
        "outputId": "e8ef8b16-b148-4775-df01-ad87fdd02db3"
      },
      "execution_count": 24,
      "outputs": [
        {
          "output_type": "stream",
          "name": "stdout",
          "text": [
            "+----------+--------------------+--------------------+-----+------+-------------+----------+\n",
            "|movie name|               title|              genres| year|Rating|Rotton Tomato|Rating + 2|\n",
            "+----------+--------------------+--------------------+-----+------+-------------+----------+\n",
            "|    108583| Fawlty Towers (1975|              Comedy|-1980|     1|           54|         3|\n",
            "|     32898|Trip to the Moon,...|Action|Adventure|...| 1902|     7|           80|         9|\n",
            "|      7065|Birth of a Nation...|           Drama|War| 1915|     6|           92|         8|\n",
            "|      7243|Intolerance: Love...|               Drama| 1915|     4|           82|         6|\n",
            "|     62383|20,000 Leagues Un...|Action|Adventure|...| 1915|     9|           92|        11|\n",
            "|      8511|      Immigrant, The|              Comedy| 1917|     4|           59|         6|\n",
            "|      3309|       Dog's Life, A|              Comedy| 1917|     3|           83|         5|\n",
            "|     72626|  Billy Blazes, Esq.|      Comedy|Western| 1918|     2|           63|         4|\n",
            "|      6987|Cabinet of Dr. Ca...|Crime|Fantasy|Horror| 1919|     4|           63|         6|\n",
            "|     25737|Golem, The (Golem...|      Fantasy|Horror| 1919|     8|           50|        10|\n",
            "|     59945|  Mark of Zorro, The|Adventure|Romance...| 1919|     8|           67|        10|\n",
            "|      3310|            Kid, The|        Comedy|Drama| 1921|     8|           57|        10|\n",
            "|     83096|  Haunted House, The|              Comedy| 1920|     9|           61|        11|\n",
            "|     83318|           Goat, The|              Comedy| 1921|     8|           86|        10|\n",
            "|     83322|           Boat, The|              Comedy| 1920|     4|           65|         6|\n",
            "|     83359|     Play House, The|              Comedy| 1921|     6|           53|         8|\n",
            "|      1348|Nosferatu (Nosfer...|              Horror| 1922|     3|           65|         5|\n",
            "|      4768|Dr. Mabuse: The G...|Crime|Mystery|Thr...| 1921|     2|           69|         4|\n",
            "|     25744|Haxan: Witchcraft...|  Documentary|Horror| 1922|     6|           83|         8|\n",
            "|     44587| Nanook of the North|   Documentary|Drama| 1922|     2|           77|         4|\n",
            "+----------+--------------------+--------------------+-----+------+-------------+----------+\n",
            "only showing top 20 rows\n",
            "\n"
          ]
        }
      ]
    },
    {
      "cell_type": "code",
      "source": [
        "df_pyspark.na.drop().show()"
      ],
      "metadata": {
        "colab": {
          "base_uri": "https://localhost:8080/"
        },
        "id": "JEwzzgSFCuvA",
        "outputId": "500d508e-43b3-47de-c8c6-4f77c3a9feb3"
      },
      "execution_count": 25,
      "outputs": [
        {
          "output_type": "stream",
          "name": "stdout",
          "text": [
            "+----------+--------------------+--------------------+-----+------+-------------+----------+\n",
            "|movie name|               title|              genres| year|Rating|Rotton Tomato|Rating + 2|\n",
            "+----------+--------------------+--------------------+-----+------+-------------+----------+\n",
            "|    108583| Fawlty Towers (1975|              Comedy|-1980|     1|           54|         3|\n",
            "|     32898|Trip to the Moon,...|Action|Adventure|...| 1902|     7|           80|         9|\n",
            "|      7065|Birth of a Nation...|           Drama|War| 1915|     6|           92|         8|\n",
            "|      7243|Intolerance: Love...|               Drama| 1915|     4|           82|         6|\n",
            "|     62383|20,000 Leagues Un...|Action|Adventure|...| 1915|     9|           92|        11|\n",
            "|      8511|      Immigrant, The|              Comedy| 1917|     4|           59|         6|\n",
            "|      3309|       Dog's Life, A|              Comedy| 1917|     3|           83|         5|\n",
            "|     72626|  Billy Blazes, Esq.|      Comedy|Western| 1918|     2|           63|         4|\n",
            "|      6987|Cabinet of Dr. Ca...|Crime|Fantasy|Horror| 1919|     4|           63|         6|\n",
            "|     25737|Golem, The (Golem...|      Fantasy|Horror| 1919|     8|           50|        10|\n",
            "|     59945|  Mark of Zorro, The|Adventure|Romance...| 1919|     8|           67|        10|\n",
            "|      3310|            Kid, The|        Comedy|Drama| 1921|     8|           57|        10|\n",
            "|     83096|  Haunted House, The|              Comedy| 1920|     9|           61|        11|\n",
            "|     83318|           Goat, The|              Comedy| 1921|     8|           86|        10|\n",
            "|     83322|           Boat, The|              Comedy| 1920|     4|           65|         6|\n",
            "|     83359|     Play House, The|              Comedy| 1921|     6|           53|         8|\n",
            "|      1348|Nosferatu (Nosfer...|              Horror| 1922|     3|           65|         5|\n",
            "|      4768|Dr. Mabuse: The G...|Crime|Mystery|Thr...| 1921|     2|           69|         4|\n",
            "|     25744|Haxan: Witchcraft...|  Documentary|Horror| 1922|     6|           83|         8|\n",
            "|     44587| Nanook of the North|   Documentary|Drama| 1922|     2|           77|         4|\n",
            "+----------+--------------------+--------------------+-----+------+-------------+----------+\n",
            "only showing top 20 rows\n",
            "\n"
          ]
        }
      ]
    },
    {
      "cell_type": "code",
      "source": [
        "##how = any\n",
        "\n",
        "df_pyspark.na.drop(how=\"any\").show()"
      ],
      "metadata": {
        "colab": {
          "base_uri": "https://localhost:8080/"
        },
        "id": "_jhb__TSDDbE",
        "outputId": "ffa373e6-1d74-4da6-d863-1c7bfbce8aa9"
      },
      "execution_count": 26,
      "outputs": [
        {
          "output_type": "stream",
          "name": "stdout",
          "text": [
            "+----------+--------------------+--------------------+-----+------+-------------+----------+\n",
            "|movie name|               title|              genres| year|Rating|Rotton Tomato|Rating + 2|\n",
            "+----------+--------------------+--------------------+-----+------+-------------+----------+\n",
            "|    108583| Fawlty Towers (1975|              Comedy|-1980|     1|           54|         3|\n",
            "|     32898|Trip to the Moon,...|Action|Adventure|...| 1902|     7|           80|         9|\n",
            "|      7065|Birth of a Nation...|           Drama|War| 1915|     6|           92|         8|\n",
            "|      7243|Intolerance: Love...|               Drama| 1915|     4|           82|         6|\n",
            "|     62383|20,000 Leagues Un...|Action|Adventure|...| 1915|     9|           92|        11|\n",
            "|      8511|      Immigrant, The|              Comedy| 1917|     4|           59|         6|\n",
            "|      3309|       Dog's Life, A|              Comedy| 1917|     3|           83|         5|\n",
            "|     72626|  Billy Blazes, Esq.|      Comedy|Western| 1918|     2|           63|         4|\n",
            "|      6987|Cabinet of Dr. Ca...|Crime|Fantasy|Horror| 1919|     4|           63|         6|\n",
            "|     25737|Golem, The (Golem...|      Fantasy|Horror| 1919|     8|           50|        10|\n",
            "|     59945|  Mark of Zorro, The|Adventure|Romance...| 1919|     8|           67|        10|\n",
            "|      3310|            Kid, The|        Comedy|Drama| 1921|     8|           57|        10|\n",
            "|     83096|  Haunted House, The|              Comedy| 1920|     9|           61|        11|\n",
            "|     83318|           Goat, The|              Comedy| 1921|     8|           86|        10|\n",
            "|     83322|           Boat, The|              Comedy| 1920|     4|           65|         6|\n",
            "|     83359|     Play House, The|              Comedy| 1921|     6|           53|         8|\n",
            "|      1348|Nosferatu (Nosfer...|              Horror| 1922|     3|           65|         5|\n",
            "|      4768|Dr. Mabuse: The G...|Crime|Mystery|Thr...| 1921|     2|           69|         4|\n",
            "|     25744|Haxan: Witchcraft...|  Documentary|Horror| 1922|     6|           83|         8|\n",
            "|     44587| Nanook of the North|   Documentary|Drama| 1922|     2|           77|         4|\n",
            "+----------+--------------------+--------------------+-----+------+-------------+----------+\n",
            "only showing top 20 rows\n",
            "\n"
          ]
        }
      ]
    },
    {
      "cell_type": "code",
      "source": [
        "df_pyspark.na.drop(how='any', thresh=3).show()"
      ],
      "metadata": {
        "colab": {
          "base_uri": "https://localhost:8080/"
        },
        "id": "fjwuerXADLRO",
        "outputId": "b985ce74-ac5d-4d02-c3da-c13db1645fbc"
      },
      "execution_count": 27,
      "outputs": [
        {
          "output_type": "stream",
          "name": "stdout",
          "text": [
            "+----------+--------------------+--------------------+-----+------+-------------+----------+\n",
            "|movie name|               title|              genres| year|Rating|Rotton Tomato|Rating + 2|\n",
            "+----------+--------------------+--------------------+-----+------+-------------+----------+\n",
            "|    108583| Fawlty Towers (1975|              Comedy|-1980|     1|           54|         3|\n",
            "|     32898|Trip to the Moon,...|Action|Adventure|...| 1902|     7|           80|         9|\n",
            "|      7065|Birth of a Nation...|           Drama|War| 1915|     6|           92|         8|\n",
            "|      7243|Intolerance: Love...|               Drama| 1915|     4|           82|         6|\n",
            "|     62383|20,000 Leagues Un...|Action|Adventure|...| 1915|     9|           92|        11|\n",
            "|      8511|      Immigrant, The|              Comedy| 1917|     4|           59|         6|\n",
            "|      3309|       Dog's Life, A|              Comedy| 1917|     3|           83|         5|\n",
            "|     72626|  Billy Blazes, Esq.|      Comedy|Western| 1918|     2|           63|         4|\n",
            "|      6987|Cabinet of Dr. Ca...|Crime|Fantasy|Horror| 1919|     4|           63|         6|\n",
            "|     25737|Golem, The (Golem...|      Fantasy|Horror| 1919|     8|           50|        10|\n",
            "|     59945|  Mark of Zorro, The|Adventure|Romance...| 1919|     8|           67|        10|\n",
            "|      3310|            Kid, The|        Comedy|Drama| 1921|     8|           57|        10|\n",
            "|     83096|  Haunted House, The|              Comedy| 1920|     9|           61|        11|\n",
            "|     83318|           Goat, The|              Comedy| 1921|     8|           86|        10|\n",
            "|     83322|           Boat, The|              Comedy| 1920|     4|           65|         6|\n",
            "|     83359|     Play House, The|              Comedy| 1921|     6|           53|         8|\n",
            "|      1348|Nosferatu (Nosfer...|              Horror| 1922|     3|           65|         5|\n",
            "|      4768|Dr. Mabuse: The G...|Crime|Mystery|Thr...| 1921|     2|           69|         4|\n",
            "|     25744|Haxan: Witchcraft...|  Documentary|Horror| 1922|     6|           83|         8|\n",
            "|     44587| Nanook of the North|   Documentary|Drama| 1922|     2|           77|         4|\n",
            "+----------+--------------------+--------------------+-----+------+-------------+----------+\n",
            "only showing top 20 rows\n",
            "\n"
          ]
        }
      ]
    },
    {
      "cell_type": "code",
      "source": [
        "df_pyspark.na.drop(subset=['year']).show()"
      ],
      "metadata": {
        "colab": {
          "base_uri": "https://localhost:8080/"
        },
        "id": "YXDXwB47DwYU",
        "outputId": "7adf3390-7309-4f1a-a15a-b4127b0e205c"
      },
      "execution_count": 28,
      "outputs": [
        {
          "output_type": "stream",
          "name": "stdout",
          "text": [
            "+----------+--------------------+--------------------+-----+------+-------------+----------+\n",
            "|movie name|               title|              genres| year|Rating|Rotton Tomato|Rating + 2|\n",
            "+----------+--------------------+--------------------+-----+------+-------------+----------+\n",
            "|    108583| Fawlty Towers (1975|              Comedy|-1980|     1|           54|         3|\n",
            "|     32898|Trip to the Moon,...|Action|Adventure|...| 1902|     7|           80|         9|\n",
            "|      7065|Birth of a Nation...|           Drama|War| 1915|     6|           92|         8|\n",
            "|      7243|Intolerance: Love...|               Drama| 1915|     4|           82|         6|\n",
            "|     62383|20,000 Leagues Un...|Action|Adventure|...| 1915|     9|           92|        11|\n",
            "|      8511|      Immigrant, The|              Comedy| 1917|     4|           59|         6|\n",
            "|      3309|       Dog's Life, A|              Comedy| 1917|     3|           83|         5|\n",
            "|     72626|  Billy Blazes, Esq.|      Comedy|Western| 1918|     2|           63|         4|\n",
            "|      6987|Cabinet of Dr. Ca...|Crime|Fantasy|Horror| 1919|     4|           63|         6|\n",
            "|     25737|Golem, The (Golem...|      Fantasy|Horror| 1919|     8|           50|        10|\n",
            "|     59945|  Mark of Zorro, The|Adventure|Romance...| 1919|     8|           67|        10|\n",
            "|      3310|            Kid, The|        Comedy|Drama| 1921|     8|           57|        10|\n",
            "|     83096|  Haunted House, The|              Comedy| 1920|     9|           61|        11|\n",
            "|     83318|           Goat, The|              Comedy| 1921|     8|           86|        10|\n",
            "|     83322|           Boat, The|              Comedy| 1920|     4|           65|         6|\n",
            "|     83359|     Play House, The|              Comedy| 1921|     6|           53|         8|\n",
            "|      1348|Nosferatu (Nosfer...|              Horror| 1922|     3|           65|         5|\n",
            "|      4768|Dr. Mabuse: The G...|Crime|Mystery|Thr...| 1921|     2|           69|         4|\n",
            "|     25744|Haxan: Witchcraft...|  Documentary|Horror| 1922|     6|           83|         8|\n",
            "|     44587| Nanook of the North|   Documentary|Drama| 1922|     2|           77|         4|\n",
            "+----------+--------------------+--------------------+-----+------+-------------+----------+\n",
            "only showing top 20 rows\n",
            "\n"
          ]
        }
      ]
    },
    {
      "cell_type": "code",
      "source": [
        "##Filling the Missing Values\n",
        "x=df_pyspark.na.fill('Missing Values',['Rating'])\n",
        "x.show()"
      ],
      "metadata": {
        "colab": {
          "base_uri": "https://localhost:8080/"
        },
        "id": "j_xpLQngEWnZ",
        "outputId": "11611a86-c85e-487e-ce68-5cd7cb854d6a"
      },
      "execution_count": 29,
      "outputs": [
        {
          "output_type": "stream",
          "name": "stdout",
          "text": [
            "+----------+--------------------+--------------------+-----+------+-------------+----------+\n",
            "|movie name|               title|              genres| year|Rating|Rotton Tomato|Rating + 2|\n",
            "+----------+--------------------+--------------------+-----+------+-------------+----------+\n",
            "|    108583| Fawlty Towers (1975|              Comedy|-1980|     1|           54|         3|\n",
            "|     32898|Trip to the Moon,...|Action|Adventure|...| 1902|     7|           80|         9|\n",
            "|      7065|Birth of a Nation...|           Drama|War| 1915|     6|           92|         8|\n",
            "|      7243|Intolerance: Love...|               Drama| 1915|     4|           82|         6|\n",
            "|     62383|20,000 Leagues Un...|Action|Adventure|...| 1915|     9|           92|        11|\n",
            "|      8511|      Immigrant, The|              Comedy| 1917|     4|           59|         6|\n",
            "|      3309|       Dog's Life, A|              Comedy| 1917|     3|           83|         5|\n",
            "|     72626|  Billy Blazes, Esq.|      Comedy|Western| 1918|     2|           63|         4|\n",
            "|      6987|Cabinet of Dr. Ca...|Crime|Fantasy|Horror| 1919|     4|           63|         6|\n",
            "|     25737|Golem, The (Golem...|      Fantasy|Horror| 1919|     8|           50|        10|\n",
            "|     59945|  Mark of Zorro, The|Adventure|Romance...| 1919|     8|           67|        10|\n",
            "|      3310|            Kid, The|        Comedy|Drama| 1921|     8|           57|        10|\n",
            "|     83096|  Haunted House, The|              Comedy| 1920|     9|           61|        11|\n",
            "|     83318|           Goat, The|              Comedy| 1921|     8|           86|        10|\n",
            "|     83322|           Boat, The|              Comedy| 1920|     4|           65|         6|\n",
            "|     83359|     Play House, The|              Comedy| 1921|     6|           53|         8|\n",
            "|      1348|Nosferatu (Nosfer...|              Horror| 1922|     3|           65|         5|\n",
            "|      4768|Dr. Mabuse: The G...|Crime|Mystery|Thr...| 1921|     2|           69|         4|\n",
            "|     25744|Haxan: Witchcraft...|  Documentary|Horror| 1922|     6|           83|         8|\n",
            "|     44587| Nanook of the North|   Documentary|Drama| 1922|     2|           77|         4|\n",
            "+----------+--------------------+--------------------+-----+------+-------------+----------+\n",
            "only showing top 20 rows\n",
            "\n"
          ]
        }
      ]
    },
    {
      "cell_type": "code",
      "source": [
        "from pyspark.ml.feature import Imputer"
      ],
      "metadata": {
        "id": "vGAKrj1IEpw0"
      },
      "execution_count": 30,
      "outputs": []
    },
    {
      "cell_type": "code",
      "source": [
        "impute =Imputer(inputCols=['year','Rating'],\n",
        "                outputCols=[\"{}_imputed\".format(c) for c in ['year','Rating'] ]).setStrategy('mean')"
      ],
      "metadata": {
        "id": "3LaFoWQ6Ethp"
      },
      "execution_count": 31,
      "outputs": []
    },
    {
      "cell_type": "code",
      "source": [
        "print(impute)"
      ],
      "metadata": {
        "colab": {
          "base_uri": "https://localhost:8080/"
        },
        "id": "h9bCQyTUE6ms",
        "outputId": "2c6b923d-bdf5-42e9-987d-78fe3b4f9595"
      },
      "execution_count": 32,
      "outputs": [
        {
          "output_type": "stream",
          "name": "stdout",
          "text": [
            "Imputer_a697daf44e97\n"
          ]
        }
      ]
    },
    {
      "cell_type": "code",
      "source": [
        "#adding the imputation cols to df\n",
        "\n",
        "x=impute.fit(df_pyspark).transform(df_pyspark)\n",
        "x.show()"
      ],
      "metadata": {
        "colab": {
          "base_uri": "https://localhost:8080/"
        },
        "id": "lmyeVLljE9pf",
        "outputId": "6d1bf5a3-f503-4c1a-d03a-9f000f865436"
      },
      "execution_count": 33,
      "outputs": [
        {
          "output_type": "stream",
          "name": "stdout",
          "text": [
            "+----------+--------------------+--------------------+-----+------+-------------+----------+------------+--------------+\n",
            "|movie name|               title|              genres| year|Rating|Rotton Tomato|Rating + 2|year_imputed|Rating_imputed|\n",
            "+----------+--------------------+--------------------+-----+------+-------------+----------+------------+--------------+\n",
            "|    108583| Fawlty Towers (1975|              Comedy|-1980|     1|           54|         3|       -1980|             1|\n",
            "|     32898|Trip to the Moon,...|Action|Adventure|...| 1902|     7|           80|         9|        1902|             7|\n",
            "|      7065|Birth of a Nation...|           Drama|War| 1915|     6|           92|         8|        1915|             6|\n",
            "|      7243|Intolerance: Love...|               Drama| 1915|     4|           82|         6|        1915|             4|\n",
            "|     62383|20,000 Leagues Un...|Action|Adventure|...| 1915|     9|           92|        11|        1915|             9|\n",
            "|      8511|      Immigrant, The|              Comedy| 1917|     4|           59|         6|        1917|             4|\n",
            "|      3309|       Dog's Life, A|              Comedy| 1917|     3|           83|         5|        1917|             3|\n",
            "|     72626|  Billy Blazes, Esq.|      Comedy|Western| 1918|     2|           63|         4|        1918|             2|\n",
            "|      6987|Cabinet of Dr. Ca...|Crime|Fantasy|Horror| 1919|     4|           63|         6|        1919|             4|\n",
            "|     25737|Golem, The (Golem...|      Fantasy|Horror| 1919|     8|           50|        10|        1919|             8|\n",
            "|     59945|  Mark of Zorro, The|Adventure|Romance...| 1919|     8|           67|        10|        1919|             8|\n",
            "|      3310|            Kid, The|        Comedy|Drama| 1921|     8|           57|        10|        1921|             8|\n",
            "|     83096|  Haunted House, The|              Comedy| 1920|     9|           61|        11|        1920|             9|\n",
            "|     83318|           Goat, The|              Comedy| 1921|     8|           86|        10|        1921|             8|\n",
            "|     83322|           Boat, The|              Comedy| 1920|     4|           65|         6|        1920|             4|\n",
            "|     83359|     Play House, The|              Comedy| 1921|     6|           53|         8|        1921|             6|\n",
            "|      1348|Nosferatu (Nosfer...|              Horror| 1922|     3|           65|         5|        1922|             3|\n",
            "|      4768|Dr. Mabuse: The G...|Crime|Mystery|Thr...| 1921|     2|           69|         4|        1921|             2|\n",
            "|     25744|Haxan: Witchcraft...|  Documentary|Horror| 1922|     6|           83|         8|        1922|             6|\n",
            "|     44587| Nanook of the North|   Documentary|Drama| 1922|     2|           77|         4|        1922|             2|\n",
            "+----------+--------------------+--------------------+-----+------+-------------+----------+------------+--------------+\n",
            "only showing top 20 rows\n",
            "\n"
          ]
        }
      ]
    },
    {
      "cell_type": "code",
      "source": [
        "from pyspark.sql import SparkSession\n",
        "\n"
      ],
      "metadata": {
        "id": "jEey8YhAj1AH"
      },
      "execution_count": 35,
      "outputs": []
    },
    {
      "cell_type": "code",
      "source": [
        "# filter operations\n",
        "\n",
        "df_pyspark.filter('year>1980').show()"
      ],
      "metadata": {
        "colab": {
          "base_uri": "https://localhost:8080/"
        },
        "id": "vVajJlzem8D5",
        "outputId": "ca8f2e35-8bae-4fd6-8d62-35516aa2244b"
      },
      "execution_count": 51,
      "outputs": [
        {
          "output_type": "stream",
          "name": "stdout",
          "text": [
            "+----------+--------------------+--------------------+----+------+-------------+----------+\n",
            "|movie name|               title|              genres|year|Rating|Rotton Tomato|Rating + 2|\n",
            "+----------+--------------------+--------------------+----+------+-------------+----------+\n",
            "|      1033|Fox and the Hound...|Animation|Childre...|1981|     6|           81|         8|\n",
            "|      1124|      On Golden Pond|               Drama|1981|     2|           97|         4|\n",
            "|      1198|Raiders of the Lo...|    Action|Adventure|1981|     6|           88|         8|\n",
            "|      1335|         Blood Beach|      Horror|Mystery|1981|     9|           61|        11|\n",
            "|      1663|             Stripes|          Comedy|War|1981|     9|           54|        11|\n",
            "|      1983|        Halloween II|              Horror|1981|     7|           93|         9|\n",
            "|      2044|Devil and Max Dev...|      Comedy|Fantasy|1981|     1|           88|         3|\n",
            "|      2254|             Choices|               Drama|1981|     5|           56|         7|\n",
            "|      2639|      Mommie Dearest|               Drama|1981|     9|           52|        11|\n",
            "|      2790|Final Conflict, T...|     Horror|Thriller|1981|     2|           90|         4|\n",
            "|      2872|           Excalibur|   Adventure|Fantasy|1981|     6|           63|         8|\n",
            "|      2878|          Hell Night|              Horror|1981|     4|           57|         6|\n",
            "|      2917|           Body Heat|      Crime|Thriller|1981|     2|           63|         4|\n",
            "|      2929|                Reds|       Drama|Romance|1981|     2|           83|         4|\n",
            "|      2989|  For Your Eyes Only|Action|Adventure|...|1981|     7|           57|         9|\n",
            "|      3029|          Nighthawks|        Action|Drama|1981|     3|           73|         5|\n",
            "|      3036|Quest for Fire (G...|     Adventure|Drama|1981|     9|           95|        11|\n",
            "|      3048|   Under the Rainbow|              Comedy|1981|     3|           97|         5|\n",
            "|      3397|Great Muppet Cape...|     Children|Comedy|1981|     6|           74|         8|\n",
            "|      3524|              Arthur|      Comedy|Romance|1981|     7|           98|         9|\n",
            "+----------+--------------------+--------------------+----+------+-------------+----------+\n",
            "only showing top 20 rows\n",
            "\n"
          ]
        }
      ]
    },
    {
      "cell_type": "code",
      "source": [
        "df_pyspark.filter('Rating<7').select(['year','title']).show()"
      ],
      "metadata": {
        "colab": {
          "base_uri": "https://localhost:8080/"
        },
        "id": "jyGf4fg2og-M",
        "outputId": "939cb745-8b70-4172-ffac-59ff30202ce5"
      },
      "execution_count": 42,
      "outputs": [
        {
          "output_type": "stream",
          "name": "stdout",
          "text": [
            "+-----+--------------------+\n",
            "| year|               title|\n",
            "+-----+--------------------+\n",
            "|-1980| Fawlty Towers (1975|\n",
            "| 1915|Birth of a Nation...|\n",
            "| 1915|Intolerance: Love...|\n",
            "| 1917|      Immigrant, The|\n",
            "| 1917|       Dog's Life, A|\n",
            "| 1918|  Billy Blazes, Esq.|\n",
            "| 1919|Cabinet of Dr. Ca...|\n",
            "| 1920|           Boat, The|\n",
            "| 1921|     Play House, The|\n",
            "| 1922|Nosferatu (Nosfer...|\n",
            "| 1921|Dr. Mabuse: The G...|\n",
            "| 1922|Haxan: Witchcraft...|\n",
            "| 1922| Nanook of the North|\n",
            "| 1922|       Paleface, The|\n",
            "| 1921|                Cops|\n",
            "| 1923|          Three Ages|\n",
            "| 1924|      Navigator, The|\n",
            "| 1924|Thief of Bagdad, The|\n",
            "| 1923|        Sherlock Jr.|\n",
            "| 1923|               Greed|\n",
            "+-----+--------------------+\n",
            "only showing top 20 rows\n",
            "\n"
          ]
        }
      ]
    },
    {
      "cell_type": "code",
      "source": [
        "df_pyspark.filter(df_pyspark[\"Rating\"]<=5).show()"
      ],
      "metadata": {
        "colab": {
          "base_uri": "https://localhost:8080/"
        },
        "id": "gJOuhmIrou5Y",
        "outputId": "098d9803-656c-4735-f1d6-ad7a05733277"
      },
      "execution_count": 44,
      "outputs": [
        {
          "output_type": "stream",
          "name": "stdout",
          "text": [
            "+----------+--------------------+--------------------+-----+------+-------------+----------+\n",
            "|movie name|               title|              genres| year|Rating|Rotton Tomato|Rating + 2|\n",
            "+----------+--------------------+--------------------+-----+------+-------------+----------+\n",
            "|    108583| Fawlty Towers (1975|              Comedy|-1980|     1|           54|         3|\n",
            "|      7243|Intolerance: Love...|               Drama| 1915|     4|           82|         6|\n",
            "|      8511|      Immigrant, The|              Comedy| 1917|     4|           59|         6|\n",
            "|      3309|       Dog's Life, A|              Comedy| 1917|     3|           83|         5|\n",
            "|     72626|  Billy Blazes, Esq.|      Comedy|Western| 1918|     2|           63|         4|\n",
            "|      6987|Cabinet of Dr. Ca...|Crime|Fantasy|Horror| 1919|     4|           63|         6|\n",
            "|     83322|           Boat, The|              Comedy| 1920|     4|           65|         6|\n",
            "|      1348|Nosferatu (Nosfer...|              Horror| 1922|     3|           65|         5|\n",
            "|      4768|Dr. Mabuse: The G...|Crime|Mystery|Thr...| 1921|     2|           69|         4|\n",
            "|     44587| Nanook of the North|   Documentary|Drama| 1922|     2|           77|         4|\n",
            "|     83361|       Paleface, The|              Comedy| 1922|     1|           81|         3|\n",
            "|     83411|                Cops|              Comedy| 1921|     4|           85|         6|\n",
            "|      7074|      Navigator, The|              Comedy| 1924|     2|           68|         4|\n",
            "|     25750|        Sherlock Jr.|Comedy|Fantasy|Ro...| 1923|     2|           59|         4|\n",
            "|      3629|      Gold Rush, The|Adventure|Comedy|...| 1925|     5|           90|         7|\n",
            "|      3742| Battleship Potemkin|           Drama|War| 1925|     1|           97|         3|\n",
            "|      4277|     Lost World, The|    Adventure|Sci-Fi| 1925|     5|           86|         7|\n",
            "|      6986|Ben-Hur: A Tale o...|Adventure|Drama|R...| 1924|     4|           64|         6|\n",
            "|     25755|Phantom of the Op...|        Drama|Horror| 1925|     1|           97|         3|\n",
            "|      4404|               Faust|Drama|Fantasy|Horror| 1926|     1|           73|         3|\n",
            "+----------+--------------------+--------------------+-----+------+-------------+----------+\n",
            "only showing top 20 rows\n",
            "\n"
          ]
        }
      ]
    },
    {
      "cell_type": "code",
      "source": [
        "df_pyspark.filter(df_pyspark[\"Rating\"]<=5).select(['year','title']).show()"
      ],
      "metadata": {
        "colab": {
          "base_uri": "https://localhost:8080/"
        },
        "id": "GKo4DFiBo9kx",
        "outputId": "1514fa50-d27d-45f7-964e-a5da269dffea"
      },
      "execution_count": 45,
      "outputs": [
        {
          "output_type": "stream",
          "name": "stdout",
          "text": [
            "+-----+--------------------+\n",
            "| year|               title|\n",
            "+-----+--------------------+\n",
            "|-1980| Fawlty Towers (1975|\n",
            "| 1915|Intolerance: Love...|\n",
            "| 1917|      Immigrant, The|\n",
            "| 1917|       Dog's Life, A|\n",
            "| 1918|  Billy Blazes, Esq.|\n",
            "| 1919|Cabinet of Dr. Ca...|\n",
            "| 1920|           Boat, The|\n",
            "| 1922|Nosferatu (Nosfer...|\n",
            "| 1921|Dr. Mabuse: The G...|\n",
            "| 1922| Nanook of the North|\n",
            "| 1922|       Paleface, The|\n",
            "| 1921|                Cops|\n",
            "| 1924|      Navigator, The|\n",
            "| 1923|        Sherlock Jr.|\n",
            "| 1925|      Gold Rush, The|\n",
            "| 1925| Battleship Potemkin|\n",
            "| 1925|     Lost World, The|\n",
            "| 1924|Ben-Hur: A Tale o...|\n",
            "| 1925|Phantom of the Op...|\n",
            "| 1926|               Faust|\n",
            "+-----+--------------------+\n",
            "only showing top 20 rows\n",
            "\n"
          ]
        }
      ]
    },
    {
      "cell_type": "code",
      "source": [
        "df_pyspark.filter((df_pyspark['Rating']<=7) & (df_pyspark['Rating']>=2)).show(5)"
      ],
      "metadata": {
        "colab": {
          "base_uri": "https://localhost:8080/"
        },
        "id": "ByfW6hpzpdq8",
        "outputId": "2924672a-ef2f-4289-de22-7e004ce686e4"
      },
      "execution_count": 55,
      "outputs": [
        {
          "output_type": "stream",
          "name": "stdout",
          "text": [
            "+----------+--------------------+--------------------+----+------+-------------+----------+\n",
            "|movie name|               title|              genres|year|Rating|Rotton Tomato|Rating + 2|\n",
            "+----------+--------------------+--------------------+----+------+-------------+----------+\n",
            "|     32898|Trip to the Moon,...|Action|Adventure|...|1902|     7|           80|         9|\n",
            "|      7065|Birth of a Nation...|           Drama|War|1915|     6|           92|         8|\n",
            "|      7243|Intolerance: Love...|               Drama|1915|     4|           82|         6|\n",
            "|      8511|      Immigrant, The|              Comedy|1917|     4|           59|         6|\n",
            "|      3309|       Dog's Life, A|              Comedy|1917|     3|           83|         5|\n",
            "+----------+--------------------+--------------------+----+------+-------------+----------+\n",
            "only showing top 5 rows\n",
            "\n"
          ]
        }
      ]
    },
    {
      "cell_type": "code",
      "source": [
        "df_pyspark.filter(~(df_pyspark[\"year\"]<=1950)| (df_pyspark[\"year\"] > 1980)).show(5)"
      ],
      "metadata": {
        "colab": {
          "base_uri": "https://localhost:8080/"
        },
        "id": "C_T-0JFiq2qM",
        "outputId": "117cff50-90f2-41cc-fabc-62ff95f8c644"
      },
      "execution_count": 56,
      "outputs": [
        {
          "output_type": "stream",
          "name": "stdout",
          "text": [
            "+----------+--------------------+--------------------+----+------+-------------+----------+\n",
            "|movie name|               title|              genres|year|Rating|Rotton Tomato|Rating + 2|\n",
            "+----------+--------------------+--------------------+----+------+-------------+----------+\n",
            "|       969|  African Queen, The|Adventure|Comedy|...|1951|     2|           71|         4|\n",
            "|      1032| Alice in Wonderland|Adventure|Animati...|1951|     4|           84|         6|\n",
            "|      3475| Place in the Sun, A|       Drama|Romance|1951|    10|           98|        12|\n",
            "|      3657|Pandora and the F...|               Drama|1951|     1|           96|         3|\n",
            "|      3736|Ace in the Hole (...|               Drama|1951|     7|           79|         9|\n",
            "+----------+--------------------+--------------------+----+------+-------------+----------+\n",
            "only showing top 5 rows\n",
            "\n"
          ]
        }
      ]
    },
    {
      "cell_type": "code",
      "source": [
        "df_pyspark.filter((df_pyspark['Rotton Tomato']<=70) & (df_pyspark['Rotton Tomato']>=65)).show(5)"
      ],
      "metadata": {
        "colab": {
          "base_uri": "https://localhost:8080/"
        },
        "id": "0imSOi7As0Tp",
        "outputId": "3babed5a-70ba-4ec1-d8f2-7f596a818e3f"
      },
      "execution_count": 58,
      "outputs": [
        {
          "output_type": "stream",
          "name": "stdout",
          "text": [
            "+----------+--------------------+--------------------+----+------+-------------+----------+\n",
            "|movie name|               title|              genres|year|Rating|Rotton Tomato|Rating + 2|\n",
            "+----------+--------------------+--------------------+----+------+-------------+----------+\n",
            "|     59945|  Mark of Zorro, The|Adventure|Romance...|1919|     8|           67|        10|\n",
            "|     83322|           Boat, The|              Comedy|1920|     4|           65|         6|\n",
            "|      1348|Nosferatu (Nosfer...|              Horror|1922|     3|           65|         5|\n",
            "|      4768|Dr. Mabuse: The G...|Crime|Mystery|Thr...|1921|     2|           69|         4|\n",
            "|      4405|Last Laugh, The (...|               Drama|1924|     9|           65|        11|\n",
            "+----------+--------------------+--------------------+----+------+-------------+----------+\n",
            "only showing top 5 rows\n",
            "\n"
          ]
        }
      ]
    },
    {
      "cell_type": "markdown",
      "source": [
        "**pyspark Groupby and aggregate functions**"
      ],
      "metadata": {
        "id": "qfqpsaa6xD6X"
      }
    },
    {
      "cell_type": "code",
      "source": [
        "from pyspark.sql import SparkSession"
      ],
      "metadata": {
        "id": "mCahnXB6xKwF"
      },
      "execution_count": 59,
      "outputs": []
    },
    {
      "cell_type": "code",
      "source": [
        "spark = SparkSession.builder.appName('Aggregation').getOrCreate()"
      ],
      "metadata": {
        "id": "Wx7-UamyyX2Q"
      },
      "execution_count": 60,
      "outputs": []
    },
    {
      "cell_type": "code",
      "source": [
        "df1 =spark.read.csv('newtest.csv',header=True,inferSchema=True)"
      ],
      "metadata": {
        "id": "quXo9zOyykC4"
      },
      "execution_count": 79,
      "outputs": []
    },
    {
      "cell_type": "code",
      "source": [
        "df1.show(5)\n"
      ],
      "metadata": {
        "colab": {
          "base_uri": "https://localhost:8080/"
        },
        "id": "R_-S77EFyqa3",
        "outputId": "3dc5a8bc-522f-4329-ce80-3454f65192a6"
      },
      "execution_count": 80,
      "outputs": [
        {
          "output_type": "stream",
          "name": "stdout",
          "text": [
            "+------+------------+------+\n",
            "|  Name| Departments|salary|\n",
            "+------+------------+------+\n",
            "| Krish|Data Science| 10000|\n",
            "| Krish|         IOT|  5000|\n",
            "|Mahesh|    Big Data|  4000|\n",
            "| Krish|    Big Data|  4000|\n",
            "|Mahesh|Data Science|  3000|\n",
            "+------+------------+------+\n",
            "only showing top 5 rows\n",
            "\n"
          ]
        }
      ]
    },
    {
      "cell_type": "code",
      "source": [
        "# groupby\n",
        "\n",
        "df1.groupby('Name').sum().show(5)"
      ],
      "metadata": {
        "colab": {
          "base_uri": "https://localhost:8080/"
        },
        "id": "h_JPfmYSzE5f",
        "outputId": "a8321297-0296-48ed-b181-f64352571a18"
      },
      "execution_count": 81,
      "outputs": [
        {
          "output_type": "stream",
          "name": "stdout",
          "text": [
            "+---------+-----------+\n",
            "|     Name|sum(salary)|\n",
            "+---------+-----------+\n",
            "|Sudhanshu|      35000|\n",
            "|    Sunny|      12000|\n",
            "|    Krish|      19000|\n",
            "|   Mahesh|       7000|\n",
            "+---------+-----------+\n",
            "\n"
          ]
        }
      ]
    },
    {
      "cell_type": "code",
      "source": [
        "df1.groupby('Departments').avg().show(5)"
      ],
      "metadata": {
        "colab": {
          "base_uri": "https://localhost:8080/"
        },
        "id": "4-0tje9C0XRT",
        "outputId": "dca8145a-d577-4eeb-a820-be91e3bc1508"
      },
      "execution_count": 82,
      "outputs": [
        {
          "output_type": "stream",
          "name": "stdout",
          "text": [
            "+------------+-----------+\n",
            "| Departments|avg(salary)|\n",
            "+------------+-----------+\n",
            "|         IOT|     7500.0|\n",
            "|    Big Data|     3750.0|\n",
            "|Data Science|    10750.0|\n",
            "+------------+-----------+\n",
            "\n"
          ]
        }
      ]
    },
    {
      "cell_type": "code",
      "source": [
        "df1.groupby('Name').avg().show()"
      ],
      "metadata": {
        "colab": {
          "base_uri": "https://localhost:8080/"
        },
        "id": "za0TuO3p2Ztm",
        "outputId": "6776f43a-7f18-4d4a-df50-be71365c1813"
      },
      "execution_count": 83,
      "outputs": [
        {
          "output_type": "stream",
          "name": "stdout",
          "text": [
            "+---------+------------------+\n",
            "|     Name|       avg(salary)|\n",
            "+---------+------------------+\n",
            "|Sudhanshu|11666.666666666666|\n",
            "|    Sunny|            6000.0|\n",
            "|    Krish| 6333.333333333333|\n",
            "|   Mahesh|            3500.0|\n",
            "+---------+------------------+\n",
            "\n"
          ]
        }
      ]
    },
    {
      "cell_type": "code",
      "source": [
        "df1.groupby('Name').mean().show()"
      ],
      "metadata": {
        "colab": {
          "base_uri": "https://localhost:8080/"
        },
        "id": "RFH6XzTM2j0b",
        "outputId": "2c72eea7-f45c-42cc-892c-5b77febd2ef3"
      },
      "execution_count": 84,
      "outputs": [
        {
          "output_type": "stream",
          "name": "stdout",
          "text": [
            "+---------+------------------+\n",
            "|     Name|       avg(salary)|\n",
            "+---------+------------------+\n",
            "|Sudhanshu|11666.666666666666|\n",
            "|    Sunny|            6000.0|\n",
            "|    Krish| 6333.333333333333|\n",
            "|   Mahesh|            3500.0|\n",
            "+---------+------------------+\n",
            "\n"
          ]
        }
      ]
    },
    {
      "cell_type": "code",
      "source": [
        "df1.groupby('Departments').max().show()"
      ],
      "metadata": {
        "colab": {
          "base_uri": "https://localhost:8080/"
        },
        "id": "rEa7yByp2pZK",
        "outputId": "89055c8a-5a0a-4d34-955c-6a8fd932e090"
      },
      "execution_count": 85,
      "outputs": [
        {
          "output_type": "stream",
          "name": "stdout",
          "text": [
            "+------------+-----------+\n",
            "| Departments|max(salary)|\n",
            "+------------+-----------+\n",
            "|         IOT|      10000|\n",
            "|    Big Data|       5000|\n",
            "|Data Science|      20000|\n",
            "+------------+-----------+\n",
            "\n"
          ]
        }
      ]
    },
    {
      "cell_type": "code",
      "source": [
        "# preparing the data\n",
        "\n",
        "data = [('James',\"Sales\",3000),\\\n",
        "        ('Micheal',\"Sales\",4600),\\\n",
        "        ('Maria',\"Sales\",4100),\\\n",
        "        ('Robert',\"Finance\",3000),\\\n",
        "        ('James',\"Sales\",3000),\\\n",
        "        ('Scott',\"Finance\",3900),\\\n",
        "        ('Jen',\"Finance\",3900),\\\n",
        "        ('Jeff',\"Marketing\",3000),\\\n",
        "        ('Kumar',\"Marketing\",2000),\\\n",
        "        ('Saif',\"Sale\",4100)]\n",
        "\n",
        "columns= ['Employee_Name','Department','Salary']\n",
        "dataframe=spark.createDataFrame(data=data,schema=columns)"
      ],
      "metadata": {
        "id": "PtMX3_uIDVZD"
      },
      "execution_count": 86,
      "outputs": []
    },
    {
      "cell_type": "code",
      "source": [
        "dataframe.printSchema()"
      ],
      "metadata": {
        "colab": {
          "base_uri": "https://localhost:8080/"
        },
        "id": "seP3gPYVFGyi",
        "outputId": "d24f6008-b10e-410a-c6d3-c1863b3c122b"
      },
      "execution_count": 87,
      "outputs": [
        {
          "output_type": "stream",
          "name": "stdout",
          "text": [
            "root\n",
            " |-- Employee_Name: string (nullable = true)\n",
            " |-- Department: string (nullable = true)\n",
            " |-- Salary: long (nullable = true)\n",
            "\n"
          ]
        }
      ]
    },
    {
      "cell_type": "code",
      "source": [
        "dataframe.show()"
      ],
      "metadata": {
        "colab": {
          "base_uri": "https://localhost:8080/"
        },
        "id": "r8UQAvwuFNMS",
        "outputId": "9d0ddd08-8ea7-49fc-f3fd-7438856c71c2"
      },
      "execution_count": 88,
      "outputs": [
        {
          "output_type": "stream",
          "name": "stdout",
          "text": [
            "+-------------+----------+------+\n",
            "|Employee_Name|Department|Salary|\n",
            "+-------------+----------+------+\n",
            "|        James|     Sales|  3000|\n",
            "|      Micheal|     Sales|  4600|\n",
            "|        Maria|     Sales|  4100|\n",
            "|       Robert|   Finance|  3000|\n",
            "|        James|     Sales|  3000|\n",
            "|        Scott|   Finance|  3900|\n",
            "|          Jen|   Finance|  3900|\n",
            "|         Jeff| Marketing|  3000|\n",
            "|        Kumar| Marketing|  2000|\n",
            "|         Saif|      Sale|  4100|\n",
            "+-------------+----------+------+\n",
            "\n"
          ]
        }
      ]
    },
    {
      "cell_type": "code",
      "source": [
        "dataframe.show(truncate=False)"
      ],
      "metadata": {
        "colab": {
          "base_uri": "https://localhost:8080/"
        },
        "id": "nB4us78RFQwB",
        "outputId": "9ed76dc1-c336-445d-8fe5-0109132aa7e0"
      },
      "execution_count": 89,
      "outputs": [
        {
          "output_type": "stream",
          "name": "stdout",
          "text": [
            "+-------------+----------+------+\n",
            "|Employee_Name|Department|Salary|\n",
            "+-------------+----------+------+\n",
            "|James        |Sales     |3000  |\n",
            "|Micheal      |Sales     |4600  |\n",
            "|Maria        |Sales     |4100  |\n",
            "|Robert       |Finance   |3000  |\n",
            "|James        |Sales     |3000  |\n",
            "|Scott        |Finance   |3900  |\n",
            "|Jen          |Finance   |3900  |\n",
            "|Jeff         |Marketing |3000  |\n",
            "|Kumar        |Marketing |2000  |\n",
            "|Saif         |Sale      |4100  |\n",
            "+-------------+----------+------+\n",
            "\n"
          ]
        }
      ]
    },
    {
      "cell_type": "code",
      "source": [
        "x=dataframe.distinct()\n",
        "x=dataframe.show(truncate=False)"
      ],
      "metadata": {
        "colab": {
          "base_uri": "https://localhost:8080/"
        },
        "id": "Pliam1uIFbtj",
        "outputId": "362a9660-9a92-44d5-a246-fe8926017c2a"
      },
      "execution_count": 90,
      "outputs": [
        {
          "output_type": "stream",
          "name": "stdout",
          "text": [
            "+-------------+----------+------+\n",
            "|Employee_Name|Department|Salary|\n",
            "+-------------+----------+------+\n",
            "|James        |Sales     |3000  |\n",
            "|Micheal      |Sales     |4600  |\n",
            "|Maria        |Sales     |4100  |\n",
            "|Robert       |Finance   |3000  |\n",
            "|James        |Sales     |3000  |\n",
            "|Scott        |Finance   |3900  |\n",
            "|Jen          |Finance   |3900  |\n",
            "|Jeff         |Marketing |3000  |\n",
            "|Kumar        |Marketing |2000  |\n",
            "|Saif         |Sale      |4100  |\n",
            "+-------------+----------+------+\n",
            "\n"
          ]
        }
      ]
    },
    {
      "cell_type": "code",
      "source": [
        "y=dataframe.dropDuplicates()"
      ],
      "metadata": {
        "id": "LTFIpdv2FoGB"
      },
      "execution_count": 91,
      "outputs": []
    },
    {
      "cell_type": "code",
      "source": [
        "y.show(truncate=False)"
      ],
      "metadata": {
        "colab": {
          "base_uri": "https://localhost:8080/"
        },
        "id": "YhaQkcb4Ft6n",
        "outputId": "ef83b288-a1d1-489a-8ad3-be25723d1801"
      },
      "execution_count": 92,
      "outputs": [
        {
          "output_type": "stream",
          "name": "stdout",
          "text": [
            "+-------------+----------+------+\n",
            "|Employee_Name|Department|Salary|\n",
            "+-------------+----------+------+\n",
            "|Micheal      |Sales     |4600  |\n",
            "|Maria        |Sales     |4100  |\n",
            "|Robert       |Finance   |3000  |\n",
            "|James        |Sales     |3000  |\n",
            "|Jen          |Finance   |3900  |\n",
            "|Kumar        |Marketing |2000  |\n",
            "|Saif         |Sale      |4100  |\n",
            "|Jeff         |Marketing |3000  |\n",
            "|Scott        |Finance   |3900  |\n",
            "+-------------+----------+------+\n",
            "\n"
          ]
        }
      ]
    },
    {
      "cell_type": "code",
      "source": [
        "z=dataframe.dropDuplicates([\"Department\",\"Salary\"])"
      ],
      "metadata": {
        "id": "ZapIPiNyGQaz"
      },
      "execution_count": 94,
      "outputs": []
    },
    {
      "cell_type": "code",
      "source": [
        "z.show(truncate=False)"
      ],
      "metadata": {
        "colab": {
          "base_uri": "https://localhost:8080/"
        },
        "id": "XNLD3XpPGipK",
        "outputId": "7743ea10-2f2c-4b41-de93-8e94847cc037"
      },
      "execution_count": 95,
      "outputs": [
        {
          "output_type": "stream",
          "name": "stdout",
          "text": [
            "+-------------+----------+------+\n",
            "|Employee_Name|Department|Salary|\n",
            "+-------------+----------+------+\n",
            "|Robert       |Finance   |3000  |\n",
            "|Scott        |Finance   |3900  |\n",
            "|Kumar        |Marketing |2000  |\n",
            "|Jeff         |Marketing |3000  |\n",
            "|Saif         |Sale      |4100  |\n",
            "|James        |Sales     |3000  |\n",
            "|Maria        |Sales     |4100  |\n",
            "|Micheal      |Sales     |4600  |\n",
            "+-------------+----------+------+\n",
            "\n"
          ]
        }
      ]
    },
    {
      "cell_type": "code",
      "source": [
        "df1=spark.createDataFrame(data=data,schema=columns)"
      ],
      "metadata": {
        "id": "ozaoT9a7Gd3C"
      },
      "execution_count": 96,
      "outputs": []
    },
    {
      "cell_type": "code",
      "source": [
        "df1.show(truncate=False)"
      ],
      "metadata": {
        "colab": {
          "base_uri": "https://localhost:8080/"
        },
        "id": "gdqSlAy1IUI3",
        "outputId": "1d97d2f8-1207-4b16-bb5f-c9eceb5a07f2"
      },
      "execution_count": 97,
      "outputs": [
        {
          "output_type": "stream",
          "name": "stdout",
          "text": [
            "+-------------+----------+------+\n",
            "|Employee_Name|Department|Salary|\n",
            "+-------------+----------+------+\n",
            "|James        |Sales     |3000  |\n",
            "|Micheal      |Sales     |4600  |\n",
            "|Maria        |Sales     |4100  |\n",
            "|Robert       |Finance   |3000  |\n",
            "|James        |Sales     |3000  |\n",
            "|Scott        |Finance   |3900  |\n",
            "|Jen          |Finance   |3900  |\n",
            "|Jeff         |Marketing |3000  |\n",
            "|Kumar        |Marketing |2000  |\n",
            "|Saif         |Sale      |4100  |\n",
            "+-------------+----------+------+\n",
            "\n"
          ]
        }
      ]
    },
    {
      "cell_type": "code",
      "source": [
        "#merging 2 df\n",
        "unified=dataframe.union(df1)"
      ],
      "metadata": {
        "id": "hAZXF6TIIcbX"
      },
      "execution_count": 99,
      "outputs": []
    },
    {
      "cell_type": "code",
      "source": [
        "unified.show(truncate=False)"
      ],
      "metadata": {
        "colab": {
          "base_uri": "https://localhost:8080/"
        },
        "id": "Kv5MNx5CIncH",
        "outputId": "860996bf-5251-4a4b-cd32-533f1340e895"
      },
      "execution_count": 100,
      "outputs": [
        {
          "output_type": "stream",
          "name": "stdout",
          "text": [
            "+-------------+----------+------+\n",
            "|Employee_Name|Department|Salary|\n",
            "+-------------+----------+------+\n",
            "|James        |Sales     |3000  |\n",
            "|Micheal      |Sales     |4600  |\n",
            "|Maria        |Sales     |4100  |\n",
            "|Robert       |Finance   |3000  |\n",
            "|James        |Sales     |3000  |\n",
            "|Scott        |Finance   |3900  |\n",
            "|Jen          |Finance   |3900  |\n",
            "|Jeff         |Marketing |3000  |\n",
            "|Kumar        |Marketing |2000  |\n",
            "|Saif         |Sale      |4100  |\n",
            "|James        |Sales     |3000  |\n",
            "|Micheal      |Sales     |4600  |\n",
            "|Maria        |Sales     |4100  |\n",
            "|Robert       |Finance   |3000  |\n",
            "|James        |Sales     |3000  |\n",
            "|Scott        |Finance   |3900  |\n",
            "|Jen          |Finance   |3900  |\n",
            "|Jeff         |Marketing |3000  |\n",
            "|Kumar        |Marketing |2000  |\n",
            "|Saif         |Sale      |4100  |\n",
            "+-------------+----------+------+\n",
            "\n"
          ]
        }
      ]
    },
    {
      "cell_type": "code",
      "source": [
        "unified1=dataframe.unionAll(df1)"
      ],
      "metadata": {
        "id": "swV_0We0Jp5D"
      },
      "execution_count": 101,
      "outputs": []
    },
    {
      "cell_type": "code",
      "source": [
        "unified1.show(truncate=False)"
      ],
      "metadata": {
        "colab": {
          "base_uri": "https://localhost:8080/"
        },
        "id": "AVr_ucJWKAp1",
        "outputId": "db10fcee-c987-4e37-c081-017de8d08640"
      },
      "execution_count": 102,
      "outputs": [
        {
          "output_type": "stream",
          "name": "stdout",
          "text": [
            "+-------------+----------+------+\n",
            "|Employee_Name|Department|Salary|\n",
            "+-------------+----------+------+\n",
            "|James        |Sales     |3000  |\n",
            "|Micheal      |Sales     |4600  |\n",
            "|Maria        |Sales     |4100  |\n",
            "|Robert       |Finance   |3000  |\n",
            "|James        |Sales     |3000  |\n",
            "|Scott        |Finance   |3900  |\n",
            "|Jen          |Finance   |3900  |\n",
            "|Jeff         |Marketing |3000  |\n",
            "|Kumar        |Marketing |2000  |\n",
            "|Saif         |Sale      |4100  |\n",
            "|James        |Sales     |3000  |\n",
            "|Micheal      |Sales     |4600  |\n",
            "|Maria        |Sales     |4100  |\n",
            "|Robert       |Finance   |3000  |\n",
            "|James        |Sales     |3000  |\n",
            "|Scott        |Finance   |3900  |\n",
            "|Jen          |Finance   |3900  |\n",
            "|Jeff         |Marketing |3000  |\n",
            "|Kumar        |Marketing |2000  |\n",
            "|Saif         |Sale      |4100  |\n",
            "+-------------+----------+------+\n",
            "\n"
          ]
        }
      ]
    },
    {
      "cell_type": "code",
      "source": [
        "disDF=dataframe.union(df1).distinct()"
      ],
      "metadata": {
        "id": "H-nuy-m5KIkq"
      },
      "execution_count": 103,
      "outputs": []
    },
    {
      "cell_type": "code",
      "source": [
        "disDF.show(truncate=False)"
      ],
      "metadata": {
        "colab": {
          "base_uri": "https://localhost:8080/"
        },
        "id": "1K9pxF_9KTCj",
        "outputId": "6281fd66-989a-43c2-f03b-c516059d2262"
      },
      "execution_count": 104,
      "outputs": [
        {
          "output_type": "stream",
          "name": "stdout",
          "text": [
            "+-------------+----------+------+\n",
            "|Employee_Name|Department|Salary|\n",
            "+-------------+----------+------+\n",
            "|Micheal      |Sales     |4600  |\n",
            "|Maria        |Sales     |4100  |\n",
            "|Robert       |Finance   |3000  |\n",
            "|James        |Sales     |3000  |\n",
            "|Jen          |Finance   |3900  |\n",
            "|Kumar        |Marketing |2000  |\n",
            "|Saif         |Sale      |4100  |\n",
            "|Jeff         |Marketing |3000  |\n",
            "|Scott        |Finance   |3900  |\n",
            "+-------------+----------+------+\n",
            "\n"
          ]
        }
      ]
    },
    {
      "cell_type": "code",
      "source": [
        "dataframe.union(df1).distinct().count()"
      ],
      "metadata": {
        "colab": {
          "base_uri": "https://localhost:8080/"
        },
        "id": "3gbvMiQkKZJ3",
        "outputId": "f2d79293-a597-4407-9c2b-401519243768"
      },
      "execution_count": 105,
      "outputs": [
        {
          "output_type": "execute_result",
          "data": {
            "text/plain": [
              "9"
            ]
          },
          "metadata": {},
          "execution_count": 105
        }
      ]
    },
    {
      "cell_type": "code",
      "source": [
        "#converting the pyspark dataframe to pandas\n",
        "\n",
        "pandasDF=dataframe.toPandas()"
      ],
      "metadata": {
        "id": "UB66bvXEKjZT"
      },
      "execution_count": 108,
      "outputs": []
    },
    {
      "cell_type": "code",
      "source": [
        "type(dataframe)"
      ],
      "metadata": {
        "colab": {
          "base_uri": "https://localhost:8080/"
        },
        "id": "WgA9IN1MKzy_",
        "outputId": "b0bde32e-2b56-4f88-af2a-6edd535d0a93"
      },
      "execution_count": 109,
      "outputs": [
        {
          "output_type": "execute_result",
          "data": {
            "text/plain": [
              "pyspark.sql.dataframe.DataFrame"
            ]
          },
          "metadata": {},
          "execution_count": 109
        }
      ]
    },
    {
      "cell_type": "code",
      "source": [
        "type(pandasDF)"
      ],
      "metadata": {
        "colab": {
          "base_uri": "https://localhost:8080/"
        },
        "id": "FS9u41SGK3up",
        "outputId": "6d9b0d13-fcac-40be-8e59-98453714882e"
      },
      "execution_count": 111,
      "outputs": [
        {
          "output_type": "execute_result",
          "data": {
            "text/plain": [
              "pandas.core.frame.DataFrame"
            ]
          },
          "metadata": {},
          "execution_count": 111
        }
      ]
    }
  ]
}