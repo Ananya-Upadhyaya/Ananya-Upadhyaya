{
  "nbformat": 4,
  "nbformat_minor": 0,
  "metadata": {
    "colab": {
      "provenance": [],
      "collapsed_sections": [],
      "authorship_tag": "ABX9TyOgfz1OWGaWkW91WpSyslAB",
      "include_colab_link": true
    },
    "kernelspec": {
      "name": "python3",
      "display_name": "Python 3"
    },
    "language_info": {
      "name": "python"
    }
  },
  "cells": [
    {
      "cell_type": "markdown",
      "metadata": {
        "id": "view-in-github",
        "colab_type": "text"
      },
      "source": [
        "<a href=\"https://colab.research.google.com/github/Ananya-Upadhyaya/Ananya-Upadhyaya/blob/main/OOPS(23_09_22).ipynb\" target=\"_parent\"><img src=\"https://colab.research.google.com/assets/colab-badge.svg\" alt=\"Open In Colab\"/></a>"
      ]
    },
    {
      "cell_type": "markdown",
      "source": [
        "**# Write a Python class named Student with two attributes student_id, student_name. Add a new attribute student_class and display the entire attribute and their values of the said class.Now remove the student_name attribute and display the entire attribute with values**"
      ],
      "metadata": {
        "id": "RDRdlQY3ueXB"
      }
    },
    {
      "cell_type": "code",
      "source": [
        "class Student:\n",
        "    student_id = 25\n",
        "    student_name = \"Nikhil\"\n",
        "print(Student.student_id)\n",
        "print(Student.student_name)\n",
        "\n",
        "#add attributes to student_class\n",
        "Student.student_class = \"Good Morning\"\n",
        "print(Student.student_class)\n",
        "\n",
        "#remove the attribute student_name\n",
        "\n",
        "del Student.student_name\n",
        "#print(Student.student_name):-- error because student_name is deleted\n",
        "\n",
        "print(\"ID\",Student.student_id,\"Hello\",Student.student_class)\n",
        "\n",
        "\n",
        "\n",
        "\n"
      ],
      "metadata": {
        "colab": {
          "base_uri": "https://localhost:8080/"
        },
        "id": "o_yY7v-0x_8u",
        "outputId": "76a12279-f711-4e4a-8c52-c0ec14e04eec"
      },
      "execution_count": 41,
      "outputs": [
        {
          "output_type": "stream",
          "name": "stdout",
          "text": [
            "25\n",
            "Nikhil\n",
            "Good Morning\n",
            "ID 25 Hello Good Morning\n"
          ]
        }
      ]
    },
    {
      "cell_type": "markdown",
      "source": [
        "**2.write a python class to implement pow(x,n)**"
      ],
      "metadata": {
        "id": "AUxEKx3k6JYI"
      }
    },
    {
      "cell_type": "code",
      "source": [
        "class power:\n",
        "  def __init__(self, x, n):\n",
        "    self.x = x\n",
        "    self.n = n\n",
        "    print(self.x ** self.n)\n",
        "print(pow(3,2))\n",
        "   \n",
        "\n",
        "\n",
        "\n"
      ],
      "metadata": {
        "colab": {
          "base_uri": "https://localhost:8080/"
        },
        "id": "q6ClQBxb6LEJ",
        "outputId": "84c62494-0e7c-4759-b48f-3dd2b93d227e"
      },
      "execution_count": 69,
      "outputs": [
        {
          "output_type": "stream",
          "name": "stdout",
          "text": [
            "9\n"
          ]
        }
      ]
    },
    {
      "cell_type": "code",
      "source": [
        "class power:\n",
        "   def pow(self, x, n):\n",
        "        \n",
        "        if n==0:\n",
        "            return 1\n",
        "        if n<0:\n",
        "            return 1/self.pow(x,-n)\n",
        "        pow = 1\n",
        "        for i in range(n):\n",
        "          pow = pow * x\n",
        "        return pow\n",
        "       \n",
        "\n",
        "print(power().pow(1, 100));"
      ],
      "metadata": {
        "colab": {
          "base_uri": "https://localhost:8080/"
        },
        "id": "h6RZmYexh6Zl",
        "outputId": "23b86103-2b34-4075-e318-26a8d1bcca0d"
      },
      "execution_count": 73,
      "outputs": [
        {
          "output_type": "stream",
          "name": "stdout",
          "text": [
            "1\n"
          ]
        }
      ]
    },
    {
      "cell_type": "markdown",
      "source": [
        "**3.write a program to create a python class to reverse a string word by word**"
      ],
      "metadata": {
        "id": "9vCUPKxPunX4"
      }
    },
    {
      "cell_type": "code",
      "source": [
        "class Reverse:\n",
        "    def reverse_words(self, s):\n",
        "        return ' '.join(reversed(s.split()))\n",
        "\n",
        "\n",
        "print(Reverse().reverse_words('Hello Good Afternoon'))"
      ],
      "metadata": {
        "colab": {
          "base_uri": "https://localhost:8080/"
        },
        "id": "2xeSph3kvXnu",
        "outputId": "1542470b-2630-4ee9-f577-dc10645edebc"
      },
      "execution_count": 49,
      "outputs": [
        {
          "output_type": "stream",
          "name": "stdout",
          "text": [
            "Afternoon Good Hello\n"
          ]
        }
      ]
    },
    {
      "cell_type": "code",
      "source": [
        "\n",
        "\n",
        "class reverse:\n",
        "   def revr(self, str):\n",
        "       s =str.split()[::1]\n",
        "       s.reverse()\n",
        "       res=\" \".join(s)\n",
        "       return res\n",
        "\n",
        "str1=input(\"Enter a string : \")\n",
        "print(\"Reverse of string word by word: \\n\",reverse().revr(str1));"
      ],
      "metadata": {
        "colab": {
          "base_uri": "https://localhost:8080/"
        },
        "id": "wkepeu8rxb9x",
        "outputId": "486aada9-24fb-48ab-c9fb-1d579429e58a"
      },
      "execution_count": 54,
      "outputs": [
        {
          "output_type": "stream",
          "name": "stdout",
          "text": [
            "Enter a string : Hello My Name Is Anu\n",
            "Reverse of string word by word: \n",
            " Anu Is Name My Hello\n"
          ]
        }
      ]
    },
    {
      "cell_type": "markdown",
      "source": [
        "**4.Write a Python class named Circle constructed by a radius and two methods which will compute the area and the perimeter of a circle**"
      ],
      "metadata": {
        "id": "k9Jg1RfX3lbp"
      }
    },
    {
      "cell_type": "code",
      "source": [
        "class Circle():\n",
        "    def __init__(self, r):\n",
        "        self.radius = r\n",
        "\n",
        "    def area(self):\n",
        "        return self.radius**2*3.14\n",
        "    \n",
        "    def perimeter(self):\n",
        "        return 2*self.radius*3.14\n",
        "\n",
        "Circle = Circle(5)\n",
        "print(Circle.area())\n",
        "print(Circle.perimeter())"
      ],
      "metadata": {
        "colab": {
          "base_uri": "https://localhost:8080/"
        },
        "id": "e9ZcS2ScGDn6",
        "outputId": "792f73aa-eeae-4f25-cec5-892e7ec5804b"
      },
      "execution_count": 83,
      "outputs": [
        {
          "output_type": "stream",
          "name": "stdout",
          "text": [
            "78.5\n",
            "31.400000000000002\n"
          ]
        }
      ]
    },
    {
      "cell_type": "markdown",
      "source": [
        "**5. Write a Python class to convert a roman numeral to an integer**"
      ],
      "metadata": {
        "id": "T_UWRx2xE3X7"
      }
    },
    {
      "cell_type": "code",
      "source": [
        "class roman:\n",
        "    def roman_to_int(self, s):\n",
        "        roman_val = {'I': 1, 'V': 5, 'X': 10, 'L': 50, 'C': 100, 'D': 500, 'M': 1000}\n",
        "        int_val = 0\n",
        "        for i in range(len(s)):\n",
        "           if i+1<len(s) and s[i:i+2] in roman_val:\n",
        "             int_val += roman_val [s[i:i+2]]\n",
        "             i+=2\n",
        "           else:\n",
        "             #print(i)\n",
        "             int_val += roman_val[s[i]]\n",
        "             i+=1\n",
        "        return int_val\n",
        "\n",
        "print(roman().roman_to_int('MMMM'))\n",
        "print(roman().roman_to_int('C'))\n",
        "\n",
        "\n"
      ],
      "metadata": {
        "colab": {
          "base_uri": "https://localhost:8080/"
        },
        "id": "Eujqs0RsE5Vd",
        "outputId": "2cd39d6e-3a7d-4cea-a788-faa484a97331"
      },
      "execution_count": 106,
      "outputs": [
        {
          "output_type": "stream",
          "name": "stdout",
          "text": [
            "4000\n",
            "100\n"
          ]
        }
      ]
    },
    {
      "cell_type": "code",
      "source": [],
      "metadata": {
        "id": "1Vni1meoJz1W"
      },
      "execution_count": null,
      "outputs": []
    }
  ]
}