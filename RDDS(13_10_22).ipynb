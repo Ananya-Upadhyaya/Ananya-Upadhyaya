{
  "nbformat": 4,
  "nbformat_minor": 0,
  "metadata": {
    "colab": {
      "provenance": [],
      "authorship_tag": "ABX9TyOzy2129MBMgJy/CXLC00Ss",
      "include_colab_link": true
    },
    "kernelspec": {
      "name": "python3",
      "display_name": "Python 3"
    },
    "language_info": {
      "name": "python"
    }
  },
  "cells": [
    {
      "cell_type": "markdown",
      "metadata": {
        "id": "view-in-github",
        "colab_type": "text"
      },
      "source": [
        "<a href=\"https://colab.research.google.com/github/Ananya-Upadhyaya/Ananya-Upadhyaya/blob/main/RDDS(13_10_22).ipynb\" target=\"_parent\"><img src=\"https://colab.research.google.com/assets/colab-badge.svg\" alt=\"Open In Colab\"/></a>"
      ]
    },
    {
      "cell_type": "code",
      "execution_count": 1,
      "metadata": {
        "colab": {
          "base_uri": "https://localhost:8080/"
        },
        "id": "K2_FGE85sUfm",
        "outputId": "7ff6ee0f-57d3-4b0d-aa25-c749a192a542"
      },
      "outputs": [
        {
          "output_type": "stream",
          "name": "stdout",
          "text": [
            "Looking in indexes: https://pypi.org/simple, https://us-python.pkg.dev/colab-wheels/public/simple/\n",
            "Collecting pyspark\n",
            "  Downloading pyspark-3.3.0.tar.gz (281.3 MB)\n",
            "\u001b[K     |████████████████████████████████| 281.3 MB 44 kB/s \n",
            "\u001b[?25hCollecting py4j==0.10.9.5\n",
            "  Downloading py4j-0.10.9.5-py2.py3-none-any.whl (199 kB)\n",
            "\u001b[K     |████████████████████████████████| 199 kB 46.3 MB/s \n",
            "\u001b[?25hBuilding wheels for collected packages: pyspark\n",
            "  Building wheel for pyspark (setup.py) ... \u001b[?25l\u001b[?25hdone\n",
            "  Created wheel for pyspark: filename=pyspark-3.3.0-py2.py3-none-any.whl size=281764026 sha256=d937e22c90167f968b682c8ba667c1d79b8ed57959860b8d0bea98672e8e882b\n",
            "  Stored in directory: /root/.cache/pip/wheels/7a/8e/1b/f73a52650d2e5f337708d9f6a1750d451a7349a867f928b885\n",
            "Successfully built pyspark\n",
            "Installing collected packages: py4j, pyspark\n",
            "Successfully installed py4j-0.10.9.5 pyspark-3.3.0\n"
          ]
        }
      ],
      "source": [
        "!pip install pyspark\n",
        "import pyspark\n",
        "from pyspark.sql import SparkSession"
      ]
    },
    {
      "cell_type": "code",
      "source": [
        "spark = SparkSession.builder.appName('RDDs').getOrCreate()\n",
        "spark"
      ],
      "metadata": {
        "colab": {
          "base_uri": "https://localhost:8080/",
          "height": 219
        },
        "id": "bSQJUojss3Io",
        "outputId": "0403d65a-40be-456c-e7ab-5256fc2e4247"
      },
      "execution_count": 3,
      "outputs": [
        {
          "output_type": "execute_result",
          "data": {
            "text/plain": [
              "<pyspark.sql.session.SparkSession at 0x7f7800e93dd0>"
            ],
            "text/html": [
              "\n",
              "            <div>\n",
              "                <p><b>SparkSession - in-memory</b></p>\n",
              "                \n",
              "        <div>\n",
              "            <p><b>SparkContext</b></p>\n",
              "\n",
              "            <p><a href=\"http://7f59cf9e47fd:4040\">Spark UI</a></p>\n",
              "\n",
              "            <dl>\n",
              "              <dt>Version</dt>\n",
              "                <dd><code>v3.3.0</code></dd>\n",
              "              <dt>Master</dt>\n",
              "                <dd><code>local[*]</code></dd>\n",
              "              <dt>AppName</dt>\n",
              "                <dd><code>RDDs</code></dd>\n",
              "            </dl>\n",
              "        </div>\n",
              "        \n",
              "            </div>\n",
              "        "
            ]
          },
          "metadata": {},
          "execution_count": 3
        }
      ]
    },
    {
      "cell_type": "code",
      "source": [
        "df = spark.sparkContext.parallelize([(12,20,35,'abc'),(41,58,64,'def'),(70,85,90,'ghi')]).toDF(['col1','col2','col3','col4'])"
      ],
      "metadata": {
        "id": "reMH2ty2tPkl"
      },
      "execution_count": 4,
      "outputs": []
    },
    {
      "cell_type": "code",
      "source": [
        "df.show()"
      ],
      "metadata": {
        "colab": {
          "base_uri": "https://localhost:8080/"
        },
        "id": "rfQ-Tk3ZtWjJ",
        "outputId": "9eb754d4-cd24-4b86-c16a-b15e8e135752"
      },
      "execution_count": 5,
      "outputs": [
        {
          "output_type": "stream",
          "name": "stdout",
          "text": [
            "+----+----+----+----+\n",
            "|col1|col2|col3|col4|\n",
            "+----+----+----+----+\n",
            "|  12|  20|  35| abc|\n",
            "|  41|  58|  64| def|\n",
            "|  70|  85|  90| ghi|\n",
            "+----+----+----+----+\n",
            "\n"
          ]
        }
      ]
    },
    {
      "cell_type": "code",
      "source": [
        "#create an empty RDD\n",
        "rdd= spark.sparkContext.parallelize([],10)"
      ],
      "metadata": {
        "id": "SfajW17ItbaS"
      },
      "execution_count": 6,
      "outputs": []
    },
    {
      "cell_type": "code",
      "source": [
        "type(rdd)"
      ],
      "metadata": {
        "colab": {
          "base_uri": "https://localhost:8080/"
        },
        "id": "kdVUgEjete41",
        "outputId": "9631fd51-31d7-4ac5-f024-f8c4ab1bad29"
      },
      "execution_count": 7,
      "outputs": [
        {
          "output_type": "execute_result",
          "data": {
            "text/plain": [
              "pyspark.rdd.RDD"
            ]
          },
          "metadata": {},
          "execution_count": 7
        }
      ]
    },
    {
      "cell_type": "code",
      "source": [
        "#to find the total number of partitions of rdd\n",
        "x=rdd.getNumPartitions()\n",
        "x"
      ],
      "metadata": {
        "colab": {
          "base_uri": "https://localhost:8080/"
        },
        "id": "BlJDe4B_tiNG",
        "outputId": "c6ae8366-1800-4c48-90e9-2c073cc295ba"
      },
      "execution_count": 9,
      "outputs": [
        {
          "output_type": "execute_result",
          "data": {
            "text/plain": [
              "10"
            ]
          },
          "metadata": {},
          "execution_count": 9
        }
      ]
    },
    {
      "cell_type": "code",
      "source": [
        "id(rdd)"
      ],
      "metadata": {
        "colab": {
          "base_uri": "https://localhost:8080/"
        },
        "id": "42oJYYSctmj6",
        "outputId": "42dd8b88-d431-4d44-d7af-ffe1f18bba72"
      },
      "execution_count": 10,
      "outputs": [
        {
          "output_type": "execute_result",
          "data": {
            "text/plain": [
              "140153149539024"
            ]
          },
          "metadata": {},
          "execution_count": 10
        }
      ]
    },
    {
      "cell_type": "code",
      "source": [
        "#Repartition\n",
        "reparRdd=rdd.repartition(5)"
      ],
      "metadata": {
        "id": "SUAMoJjOtx-p"
      },
      "execution_count": 11,
      "outputs": []
    },
    {
      "cell_type": "code",
      "source": [
        "type(reparRdd)"
      ],
      "metadata": {
        "colab": {
          "base_uri": "https://localhost:8080/"
        },
        "id": "msAt5BLJt2C8",
        "outputId": "c749aafb-f5be-4f21-c5c5-080f2f7b9353"
      },
      "execution_count": 12,
      "outputs": [
        {
          "output_type": "execute_result",
          "data": {
            "text/plain": [
              "pyspark.rdd.RDD"
            ]
          },
          "metadata": {},
          "execution_count": 12
        }
      ]
    },
    {
      "cell_type": "code",
      "source": [
        "id(reparRdd)"
      ],
      "metadata": {
        "colab": {
          "base_uri": "https://localhost:8080/"
        },
        "id": "UVnG8y--t5bD",
        "outputId": "16c23f70-331d-4bca-acdd-20eae005252f"
      },
      "execution_count": 13,
      "outputs": [
        {
          "output_type": "execute_result",
          "data": {
            "text/plain": [
              "140153149101264"
            ]
          },
          "metadata": {},
          "execution_count": 13
        }
      ]
    },
    {
      "cell_type": "code",
      "source": [
        "y=reparRdd.getNumPartitions()\n",
        "y"
      ],
      "metadata": {
        "colab": {
          "base_uri": "https://localhost:8080/"
        },
        "id": "-k5MVMXUt8aO",
        "outputId": "0a91df83-4440-4534-b0b4-71e43ce16d46"
      },
      "execution_count": 14,
      "outputs": [
        {
          "output_type": "execute_result",
          "data": {
            "text/plain": [
              "5"
            ]
          },
          "metadata": {},
          "execution_count": 14
        }
      ]
    },
    {
      "cell_type": "code",
      "source": [
        "# Creating an RDD using spartcontext\n",
        "\n",
        "RDD = spark.sparkContext.textFile('text1.txt')"
      ],
      "metadata": {
        "id": "SJ4YoNg-t_2b"
      },
      "execution_count": 20,
      "outputs": []
    },
    {
      "cell_type": "code",
      "source": [
        "RDD.getNumPartitions()"
      ],
      "metadata": {
        "colab": {
          "base_uri": "https://localhost:8080/"
        },
        "id": "NNU07Cc8us8r",
        "outputId": "b2e45343-3e69-4688-c25f-868194f9db4f"
      },
      "execution_count": 21,
      "outputs": [
        {
          "output_type": "execute_result",
          "data": {
            "text/plain": [
              "2"
            ]
          },
          "metadata": {},
          "execution_count": 21
        }
      ]
    },
    {
      "cell_type": "code",
      "source": [
        "#creating an RDD using sparkcontext.wholeTextFiles()\n",
        "\n",
        "RDD1 =spark.sparkContext.wholeTextFiles('text1.txt')"
      ],
      "metadata": {
        "id": "n2jjxnFpu1gh"
      },
      "execution_count": 22,
      "outputs": []
    },
    {
      "cell_type": "code",
      "source": [
        "RDD1.getNumPartitions()"
      ],
      "metadata": {
        "colab": {
          "base_uri": "https://localhost:8080/"
        },
        "id": "lMFZYLX8vAGy",
        "outputId": "13dbb9b9-a03c-4a03-90e2-91e6944faa2c"
      },
      "execution_count": 23,
      "outputs": [
        {
          "output_type": "execute_result",
          "data": {
            "text/plain": [
              "1"
            ]
          },
          "metadata": {},
          "execution_count": 23
        }
      ]
    },
    {
      "cell_type": "code",
      "source": [
        "rdd3= spark.sparkContext.emptyRDD"
      ],
      "metadata": {
        "id": "md6YvbZmvBfv"
      },
      "execution_count": 24,
      "outputs": []
    },
    {
      "cell_type": "code",
      "source": [
        "type(rdd3)"
      ],
      "metadata": {
        "colab": {
          "base_uri": "https://localhost:8080/"
        },
        "id": "-YfG1D_8vE83",
        "outputId": "c40f3e8c-c3b5-4750-ecfd-21dc6bd557ac"
      },
      "execution_count": 25,
      "outputs": [
        {
          "output_type": "execute_result",
          "data": {
            "text/plain": [
              "method"
            ]
          },
          "metadata": {},
          "execution_count": 25
        }
      ]
    },
    {
      "cell_type": "code",
      "source": [
        "l1=['A','B',\"c\",\"D\",'ABC']"
      ],
      "metadata": {
        "id": "DUQpkirLvJTg"
      },
      "execution_count": 26,
      "outputs": []
    },
    {
      "cell_type": "code",
      "source": [
        "RDD3 = spark.sparkContext.parallelize(l1)"
      ],
      "metadata": {
        "id": "wqJsIBKEvSl-"
      },
      "execution_count": 27,
      "outputs": []
    },
    {
      "cell_type": "code",
      "source": [
        "type(RDD3)"
      ],
      "metadata": {
        "colab": {
          "base_uri": "https://localhost:8080/"
        },
        "id": "IXTOiimOvWIp",
        "outputId": "88bad75b-cead-4dd3-dc5f-0c56e4ca6643"
      },
      "execution_count": 28,
      "outputs": [
        {
          "output_type": "execute_result",
          "data": {
            "text/plain": [
              "pyspark.rdd.RDD"
            ]
          },
          "metadata": {},
          "execution_count": 28
        }
      ]
    },
    {
      "cell_type": "code",
      "source": [
        "words = spark.sparkContext.parallelize(['python','Scala','Hadoop',\"C\",\"C++\",'pyspark',\"spark\",\"pyspark and Hadoop\"])"
      ],
      "metadata": {
        "id": "MAZYkI5OvatV"
      },
      "execution_count": 29,
      "outputs": []
    },
    {
      "cell_type": "code",
      "source": [
        "type(words)"
      ],
      "metadata": {
        "colab": {
          "base_uri": "https://localhost:8080/"
        },
        "id": "8Ztp8lYIvd3m",
        "outputId": "91201a63-7bfd-4611-d6c7-0c02c092d42f"
      },
      "execution_count": 30,
      "outputs": [
        {
          "output_type": "execute_result",
          "data": {
            "text/plain": [
              "pyspark.rdd.RDD"
            ]
          },
          "metadata": {},
          "execution_count": 30
        }
      ]
    },
    {
      "cell_type": "code",
      "source": [
        "counts= words.count()"
      ],
      "metadata": {
        "id": "qlCgdXOhvguQ"
      },
      "execution_count": 31,
      "outputs": []
    },
    {
      "cell_type": "code",
      "source": [
        "#No of elements in RDD\n",
        "counts"
      ],
      "metadata": {
        "colab": {
          "base_uri": "https://localhost:8080/"
        },
        "id": "WyWbuh8rvl4E",
        "outputId": "31614241-d369-4c31-d25d-dd5d890a0298"
      },
      "execution_count": 32,
      "outputs": [
        {
          "output_type": "execute_result",
          "data": {
            "text/plain": [
              "8"
            ]
          },
          "metadata": {},
          "execution_count": 32
        }
      ]
    },
    {
      "cell_type": "code",
      "source": [
        "#collect\n",
        "\n",
        "collect = words.collect()\n",
        "collect"
      ],
      "metadata": {
        "colab": {
          "base_uri": "https://localhost:8080/"
        },
        "id": "McJbZVIWvuz0",
        "outputId": "80ce74d0-3d15-4f69-b327-9fff1962a81d"
      },
      "execution_count": 34,
      "outputs": [
        {
          "output_type": "execute_result",
          "data": {
            "text/plain": [
              "['python',\n",
              " 'Scala',\n",
              " 'Hadoop',\n",
              " 'C',\n",
              " 'C++',\n",
              " 'pyspark',\n",
              " 'spark',\n",
              " 'pyspark and Hadoop']"
            ]
          },
          "metadata": {},
          "execution_count": 34
        }
      ]
    },
    {
      "cell_type": "code",
      "source": [
        "#Foreach\n",
        "def f(x):\n",
        "  print(x)"
      ],
      "metadata": {
        "id": "xt2pD0b4wBuX"
      },
      "execution_count": 35,
      "outputs": []
    },
    {
      "cell_type": "code",
      "source": [
        "fore=words.foreach(f)\n",
        "fore"
      ],
      "metadata": {
        "id": "3J36SYhvwJd2"
      },
      "execution_count": 36,
      "outputs": []
    },
    {
      "cell_type": "code",
      "source": [
        "type(fore)"
      ],
      "metadata": {
        "colab": {
          "base_uri": "https://localhost:8080/"
        },
        "id": "JkLMtYiSwNMN",
        "outputId": "8974f312-a8b1-4280-c28f-8835ae82d2be"
      },
      "execution_count": 37,
      "outputs": [
        {
          "output_type": "execute_result",
          "data": {
            "text/plain": [
              "NoneType"
            ]
          },
          "metadata": {},
          "execution_count": 37
        }
      ]
    },
    {
      "cell_type": "code",
      "source": [
        "#filter\n",
        "\n",
        "words_filter = words.filter(lambda x: 'py' in x)\n",
        "filtered= words_filter.collect()"
      ],
      "metadata": {
        "id": "8OTDhoM4wP7F"
      },
      "execution_count": 39,
      "outputs": []
    },
    {
      "cell_type": "code",
      "source": [
        "filtered"
      ],
      "metadata": {
        "colab": {
          "base_uri": "https://localhost:8080/"
        },
        "id": "YN5Xz92Wwre1",
        "outputId": "2251c6cb-23f1-4660-92aa-9c578095c319"
      },
      "execution_count": 40,
      "outputs": [
        {
          "output_type": "execute_result",
          "data": {
            "text/plain": [
              "['python', 'pyspark', 'pyspark and Hadoop']"
            ]
          },
          "metadata": {},
          "execution_count": 40
        }
      ]
    },
    {
      "cell_type": "code",
      "source": [
        "#map()\n",
        "\n",
        "words_map = words.map(lambda x: (x,1))\n",
        "mapped = words_map.collect()\n",
        "mapped"
      ],
      "metadata": {
        "colab": {
          "base_uri": "https://localhost:8080/"
        },
        "id": "c-CjlnUPwubp",
        "outputId": "e3143f73-55a5-484d-c52f-cf28f0634856"
      },
      "execution_count": 42,
      "outputs": [
        {
          "output_type": "execute_result",
          "data": {
            "text/plain": [
              "[('python', 1),\n",
              " ('Scala', 1),\n",
              " ('Hadoop', 1),\n",
              " ('C', 1),\n",
              " ('C++', 1),\n",
              " ('pyspark', 1),\n",
              " ('spark', 1),\n",
              " ('pyspark and Hadoop', 1)]"
            ]
          },
          "metadata": {},
          "execution_count": 42
        }
      ]
    },
    {
      "cell_type": "code",
      "source": [
        "summ = spark.sparkContext.parallelize([1,2,3,4,5])"
      ],
      "metadata": {
        "id": "SJ_gVI14w8oR"
      },
      "execution_count": 43,
      "outputs": []
    },
    {
      "cell_type": "code",
      "source": [
        "#reduce\n",
        "import operator\n",
        "from operator import add,mul\n",
        "\n",
        "\n",
        "adding = summ.reduce(add)"
      ],
      "metadata": {
        "id": "KX4D5mHNw41f"
      },
      "execution_count": 44,
      "outputs": []
    },
    {
      "cell_type": "code",
      "source": [
        "print(\"Adding all the elements:\",adding)"
      ],
      "metadata": {
        "colab": {
          "base_uri": "https://localhost:8080/"
        },
        "id": "ACu9tPnExEFL",
        "outputId": "41dba9e7-40a7-48a9-e03c-9e5672c250a0"
      },
      "execution_count": 45,
      "outputs": [
        {
          "output_type": "stream",
          "name": "stdout",
          "text": [
            "Adding all the elements: 15\n"
          ]
        }
      ]
    },
    {
      "cell_type": "code",
      "source": [
        "first_element =words.first()"
      ],
      "metadata": {
        "id": "3fipE82ExJAZ"
      },
      "execution_count": 46,
      "outputs": []
    },
    {
      "cell_type": "code",
      "source": [
        "first_element"
      ],
      "metadata": {
        "colab": {
          "base_uri": "https://localhost:8080/",
          "height": 36
        },
        "id": "pULqkcScxLth",
        "outputId": "2c27b039-8c42-435b-f002-bd1b6730fc15"
      },
      "execution_count": 47,
      "outputs": [
        {
          "output_type": "execute_result",
          "data": {
            "text/plain": [
              "'python'"
            ],
            "application/vnd.google.colaboratory.intrinsic+json": {
              "type": "string"
            }
          },
          "metadata": {},
          "execution_count": 47
        }
      ]
    },
    {
      "cell_type": "code",
      "source": [
        "type(first_element)"
      ],
      "metadata": {
        "colab": {
          "base_uri": "https://localhost:8080/"
        },
        "id": "fmwu1bsFxQM0",
        "outputId": "57a1d0b7-edb8-4711-97ab-34b1e56ec645"
      },
      "execution_count": 48,
      "outputs": [
        {
          "output_type": "execute_result",
          "data": {
            "text/plain": [
              "str"
            ]
          },
          "metadata": {},
          "execution_count": 48
        }
      ]
    },
    {
      "cell_type": "code",
      "source": [
        "#cache()\n",
        "\n",
        "words.cache()"
      ],
      "metadata": {
        "colab": {
          "base_uri": "https://localhost:8080/"
        },
        "id": "lk8W8Ju6xRba",
        "outputId": "553e13fc-dc25-41c1-deb2-74397f589ae3"
      },
      "execution_count": 49,
      "outputs": [
        {
          "output_type": "execute_result",
          "data": {
            "text/plain": [
              "ParallelCollectionRDD[23] at readRDDFromFile at PythonRDD.scala:274"
            ]
          },
          "metadata": {},
          "execution_count": 49
        }
      ]
    },
    {
      "cell_type": "code",
      "source": [
        "caching = words.persist().is_cached"
      ],
      "metadata": {
        "id": "20HxT5LgxZL_"
      },
      "execution_count": 50,
      "outputs": []
    },
    {
      "cell_type": "code",
      "source": [
        "print(\"Words got cached\",caching)"
      ],
      "metadata": {
        "colab": {
          "base_uri": "https://localhost:8080/"
        },
        "id": "5PL_82b7xcLg",
        "outputId": "5c58f90d-524a-4a90-c18f-8889563ebda7"
      },
      "execution_count": 51,
      "outputs": [
        {
          "output_type": "stream",
          "name": "stdout",
          "text": [
            "Words got cached True\n"
          ]
        }
      ]
    },
    {
      "cell_type": "code",
      "source": [
        "word = spark.sparkContext.parallelize([1,2,3,4,5])"
      ],
      "metadata": {
        "id": "1mD6PGC3xeuE"
      },
      "execution_count": 52,
      "outputs": []
    },
    {
      "cell_type": "code",
      "source": [
        "caching = word.persist().is_cached\n",
        "caching\n"
      ],
      "metadata": {
        "colab": {
          "base_uri": "https://localhost:8080/"
        },
        "id": "uldhWoTDxhjz",
        "outputId": "5f8edf2f-78c5-4d4c-ca47-bc0fa712b61c"
      },
      "execution_count": 53,
      "outputs": [
        {
          "output_type": "execute_result",
          "data": {
            "text/plain": [
              "True"
            ]
          },
          "metadata": {},
          "execution_count": 53
        }
      ]
    },
    {
      "cell_type": "code",
      "source": [
        "words.saveAsTextFile('words.txt')"
      ],
      "metadata": {
        "id": "2CW3rKvsxnRF"
      },
      "execution_count": 54,
      "outputs": []
    },
    {
      "cell_type": "code",
      "source": [
        "unionn=words.union(words).distinct()"
      ],
      "metadata": {
        "id": "lZ3Ur50Wxp8Z"
      },
      "execution_count": 55,
      "outputs": []
    },
    {
      "cell_type": "code",
      "source": [
        "type(unionn)"
      ],
      "metadata": {
        "colab": {
          "base_uri": "https://localhost:8080/"
        },
        "id": "xWYk0Nggxs6b",
        "outputId": "417f8e03-d9d8-406d-e21f-c1f99673567c"
      },
      "execution_count": 56,
      "outputs": [
        {
          "output_type": "execute_result",
          "data": {
            "text/plain": [
              "pyspark.rdd.PipelinedRDD"
            ]
          },
          "metadata": {},
          "execution_count": 56
        }
      ]
    },
    {
      "cell_type": "code",
      "source": [
        "unionn.collect()"
      ],
      "metadata": {
        "colab": {
          "base_uri": "https://localhost:8080/"
        },
        "id": "YuhFPg7bxvkT",
        "outputId": "6b0baa8d-1147-40e4-c10b-4bcf245370cc"
      },
      "execution_count": 57,
      "outputs": [
        {
          "output_type": "execute_result",
          "data": {
            "text/plain": [
              "['python',\n",
              " 'Hadoop',\n",
              " 'pyspark',\n",
              " 'spark',\n",
              " 'C',\n",
              " 'C++',\n",
              " 'Scala',\n",
              " 'pyspark and Hadoop']"
            ]
          },
          "metadata": {},
          "execution_count": 57
        }
      ]
    },
    {
      "cell_type": "code",
      "source": [
        "words.collect()"
      ],
      "metadata": {
        "colab": {
          "base_uri": "https://localhost:8080/"
        },
        "id": "kRuJjgM8x16u",
        "outputId": "05836be8-43e9-4962-f173-e02eced8e03d"
      },
      "execution_count": 58,
      "outputs": [
        {
          "output_type": "execute_result",
          "data": {
            "text/plain": [
              "['python',\n",
              " 'Scala',\n",
              " 'Hadoop',\n",
              " 'C',\n",
              " 'C++',\n",
              " 'pyspark',\n",
              " 'spark',\n",
              " 'pyspark and Hadoop']"
            ]
          },
          "metadata": {},
          "execution_count": 58
        }
      ]
    },
    {
      "cell_type": "code",
      "source": [
        "word.collect()"
      ],
      "metadata": {
        "colab": {
          "base_uri": "https://localhost:8080/"
        },
        "id": "k8Vr7kXWx3ci",
        "outputId": "687660c3-7eda-46c9-e0b8-10c29ae9dc56"
      },
      "execution_count": 59,
      "outputs": [
        {
          "output_type": "execute_result",
          "data": {
            "text/plain": [
              "[1, 2, 3, 4, 5]"
            ]
          },
          "metadata": {},
          "execution_count": 59
        }
      ]
    },
    {
      "cell_type": "code",
      "source": [
        "intersectionn=  words.intersection(word)"
      ],
      "metadata": {
        "id": "3eqYedeNx6Gy"
      },
      "execution_count": 60,
      "outputs": []
    },
    {
      "cell_type": "code",
      "source": [
        "type(intersectionn)"
      ],
      "metadata": {
        "colab": {
          "base_uri": "https://localhost:8080/"
        },
        "id": "Dz5bLhUhx-HU",
        "outputId": "dbbfbddb-efea-40ba-d57d-70eb863c36a4"
      },
      "execution_count": 61,
      "outputs": [
        {
          "output_type": "execute_result",
          "data": {
            "text/plain": [
              "pyspark.rdd.PipelinedRDD"
            ]
          },
          "metadata": {},
          "execution_count": 61
        }
      ]
    },
    {
      "cell_type": "code",
      "source": [
        "intersectionn.collect()"
      ],
      "metadata": {
        "colab": {
          "base_uri": "https://localhost:8080/"
        },
        "id": "_gD9OObLx_TE",
        "outputId": "7f3e9ed9-39d8-4e8b-ea14-bee728d37d06"
      },
      "execution_count": 62,
      "outputs": [
        {
          "output_type": "execute_result",
          "data": {
            "text/plain": [
              "[]"
            ]
          },
          "metadata": {},
          "execution_count": 62
        }
      ]
    },
    {
      "cell_type": "code",
      "source": [
        "words.collect()"
      ],
      "metadata": {
        "colab": {
          "base_uri": "https://localhost:8080/"
        },
        "id": "h7AHiXwdyCkk",
        "outputId": "68e10cbc-c0d2-4b9d-c95a-19880f87ee32"
      },
      "execution_count": 63,
      "outputs": [
        {
          "output_type": "execute_result",
          "data": {
            "text/plain": [
              "['python',\n",
              " 'Scala',\n",
              " 'Hadoop',\n",
              " 'C',\n",
              " 'C++',\n",
              " 'pyspark',\n",
              " 'spark',\n",
              " 'pyspark and Hadoop']"
            ]
          },
          "metadata": {},
          "execution_count": 63
        }
      ]
    },
    {
      "cell_type": "code",
      "source": [
        "worddd= spark.sparkContext.parallelize(['C',\n",
        " 'C++',\n",
        " 'Scala',\n",
        " 'pyspark and Hadoop'])"
      ],
      "metadata": {
        "id": "GcFT0KinyHC4"
      },
      "execution_count": 65,
      "outputs": []
    },
    {
      "cell_type": "code",
      "source": [
        "#substract()\n",
        "\n",
        "subb= worddd.subtract(words)\n",
        "subb.collect()"
      ],
      "metadata": {
        "colab": {
          "base_uri": "https://localhost:8080/"
        },
        "id": "LYkqTwUhyNEM",
        "outputId": "92046f68-a839-41f4-b050-2d38018b43cf"
      },
      "execution_count": 67,
      "outputs": [
        {
          "output_type": "execute_result",
          "data": {
            "text/plain": [
              "[]"
            ]
          },
          "metadata": {},
          "execution_count": 67
        }
      ]
    },
    {
      "cell_type": "code",
      "source": [],
      "metadata": {
        "id": "fc_HJHq5yQN7"
      },
      "execution_count": null,
      "outputs": []
    }
  ]
}