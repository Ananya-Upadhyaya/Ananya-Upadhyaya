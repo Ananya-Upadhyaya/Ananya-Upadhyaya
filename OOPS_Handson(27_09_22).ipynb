{
  "nbformat": 4,
  "nbformat_minor": 0,
  "metadata": {
    "colab": {
      "provenance": [],
      "authorship_tag": "ABX9TyOu/XS7dc5i5221ggCpnRqi",
      "include_colab_link": true
    },
    "kernelspec": {
      "name": "python3",
      "display_name": "Python 3"
    },
    "language_info": {
      "name": "python"
    }
  },
  "cells": [
    {
      "cell_type": "markdown",
      "metadata": {
        "id": "view-in-github",
        "colab_type": "text"
      },
      "source": [
        "<a href=\"https://colab.research.google.com/github/Ananya-Upadhyaya/Ananya-Upadhyaya/blob/main/OOPS_Handson(27_09_22).ipynb\" target=\"_parent\"><img src=\"https://colab.research.google.com/assets/colab-badge.svg\" alt=\"Open In Colab\"/></a>"
      ]
    },
    {
      "cell_type": "code",
      "execution_count": 8,
      "metadata": {
        "colab": {
          "base_uri": "https://localhost:8080/"
        },
        "id": "sc8W-8_MJOr2",
        "outputId": "dbadfd56-2dcf-4be9-dec1-47b54c722a2d"
      },
      "outputs": [
        {
          "output_type": "stream",
          "name": "stdout",
          "text": [
            "Car 240 18km\n"
          ]
        }
      ],
      "source": [
        "# 1.Write a Python program to create a Vehicle class with name, max_speed and mileage instance attributes.\n",
        "\n",
        "class Vehicle:\n",
        "    def __init__(self, name, max_speed, mileage):\n",
        "        self.name = name\n",
        "        self.max_speed = max_speed\n",
        "        self.mileage = mileage\n",
        "\n",
        "model = Vehicle(\"Car\",240, \"18km\")\n",
        "print(model.name, model.max_speed, model.mileage)"
      ]
    },
    {
      "cell_type": "code",
      "source": [
        "# 2.For the same problem statement 1, Define a property that must have the same value for every class instance (object)\n",
        "\n",
        "class Vehicle:\n",
        "    color = 'white'\n",
        "    def __init__(self, name, max_speed, mileage):\n",
        "        self.name = name\n",
        "        self.max_speed = max_speed\n",
        "        self.mileage = mileage\n",
        "\n",
        "class Car(Vehicle):\n",
        "    pass\n",
        "\n",
        "class Bus(Vehicle):\n",
        "    pass\n",
        "    \n",
        "Bus('VOLVO', 150, \"12km\")\n",
        "Bus.color\n",
        "Car('BMW', 120, \"200km\")\n",
        "Car.color"
      ],
      "metadata": {
        "colab": {
          "base_uri": "https://localhost:8080/",
          "height": 36
        },
        "id": "9iZKTabzKj3L",
        "outputId": "be544b26-03d2-48ee-8384-8251f7abc7d1"
      },
      "execution_count": 26,
      "outputs": [
        {
          "output_type": "execute_result",
          "data": {
            "text/plain": [
              "'white'"
            ],
            "application/vnd.google.colaboratory.intrinsic+json": {
              "type": "string"
            }
          },
          "metadata": {},
          "execution_count": 26
        }
      ]
    },
    {
      "cell_type": "code",
      "source": [
        "# 3.Create a child class 'Bus' that will inherit all of the variables and methods of the Vehicle class\n",
        "\n",
        "\n",
        "class Bus(Vehicle):\n",
        "    pass\n",
        "\n",
        "\n",
        "bus_val = Bus(\"Volvo\", 180, \"12km\")\n",
        "print(\"Vehicle Name:\", bus_val.name, \"Speed:\", bus_val.max_speed, \"Mileage:\", bus_val.mileage)\n"
      ],
      "metadata": {
        "colab": {
          "base_uri": "https://localhost:8080/"
        },
        "id": "CVIv-Yp-MqaM",
        "outputId": "d6f2ebfd-9b3a-4f94-ac0e-49d72e51b2da"
      },
      "execution_count": 38,
      "outputs": [
        {
          "output_type": "stream",
          "name": "stdout",
          "text": [
            "Vehicle Name: Volvo Speed: 180 Mileage: 12km\n"
          ]
        }
      ]
    },
    {
      "cell_type": "code",
      "source": [
        "# 4.create an object for child class i.e Bus and check whether the object is an instance of the Vehicle Class\n",
        "\n",
        "b = Bus(\"ola\", 200,\"120km\")\n",
        "print( isinstance(b,Vehicle))"
      ],
      "metadata": {
        "colab": {
          "base_uri": "https://localhost:8080/"
        },
        "id": "zphxUCxROMbK",
        "outputId": "b0976901-6f25-4f2f-8600-2c87dac14333"
      },
      "execution_count": 32,
      "outputs": [
        {
          "output_type": "stream",
          "name": "stdout",
          "text": [
            "True\n"
          ]
        }
      ]
    },
    {
      "cell_type": "code",
      "source": [
        "# 5. Check whether Bus class is a subclass of Vehicle class\n",
        "\n",
        "issubclass(Bus,Vehicle)"
      ],
      "metadata": {
        "colab": {
          "base_uri": "https://localhost:8080/"
        },
        "id": "h_eECkaQPrcF",
        "outputId": "e9e7c9c4-0e40-4538-dd14-ccf7472d8203"
      },
      "execution_count": 33,
      "outputs": [
        {
          "output_type": "execute_result",
          "data": {
            "text/plain": [
              "True"
            ]
          },
          "metadata": {},
          "execution_count": 33
        }
      ]
    },
    {
      "cell_type": "code",
      "source": [
        "# Create an empty class called Car, check whether Car is a sub class of Vehicle Class\n",
        "\n",
        "class Car:\n",
        "  pass\n",
        "print(issubclass(Car,Vehicle))\n",
        "   \n",
        "  "
      ],
      "metadata": {
        "colab": {
          "base_uri": "https://localhost:8080/"
        },
        "id": "4hk-eg8eSRzo",
        "outputId": "1cf4798e-320c-469d-e43f-2be4581b401c"
      },
      "execution_count": 39,
      "outputs": [
        {
          "output_type": "stream",
          "name": "stdout",
          "text": [
            "False\n"
          ]
        }
      ]
    },
    {
      "cell_type": "code",
      "source": [],
      "metadata": {
        "id": "LnXgdRn1UVtU"
      },
      "execution_count": null,
      "outputs": []
    }
  ]
}