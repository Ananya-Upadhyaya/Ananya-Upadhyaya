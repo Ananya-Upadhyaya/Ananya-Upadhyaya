{
  "nbformat": 4,
  "nbformat_minor": 0,
  "metadata": {
    "colab": {
      "provenance": [],
      "authorship_tag": "ABX9TyOotsDDRde/DmRGq8Nm38Od",
      "include_colab_link": true
    },
    "kernelspec": {
      "name": "python3",
      "display_name": "Python 3"
    },
    "language_info": {
      "name": "python"
    }
  },
  "cells": [
    {
      "cell_type": "markdown",
      "metadata": {
        "id": "view-in-github",
        "colab_type": "text"
      },
      "source": [
        "<a href=\"https://colab.research.google.com/github/Ananya-Upadhyaya/Ananya-Upadhyaya/blob/main/Function_Excercise1_(20_09_22).ipynb\" target=\"_parent\"><img src=\"https://colab.research.google.com/assets/colab-badge.svg\" alt=\"Open In Colab\"/></a>"
      ]
    },
    {
      "cell_type": "code",
      "execution_count": 18,
      "metadata": {
        "colab": {
          "base_uri": "https://localhost:8080/"
        },
        "id": "IEqTm43U_NCn",
        "outputId": "bcd45cf3-8a56-43b2-8b84-6bb3e207d282"
      },
      "outputs": [
        {
          "output_type": "stream",
          "name": "stdout",
          "text": [
            "Ananya Upadhyaya 22\n"
          ]
        }
      ],
      "source": [
        "#1 Create a function in such a way that we can pass any number of arguments to this function, and the function should process them and display each argument’s value \n",
        "\n",
        "def display(argument1, argument2, argument3):\n",
        "          print(argument1+\" \"+argument2+\" \"+argument3)\n",
        " \n",
        "# function call\n",
        "display(\"Ananya\", \"Upadhyaya\", \"22\")\n",
        "\n",
        "\n",
        "\n",
        "  "
      ]
    },
    {
      "cell_type": "code",
      "source": [
        "# 2.Write a program to create function calculation() such that it can accept two variables and calculate addition and subtraction. Also, it must return both addition and subtraction in a single return call. \n",
        "\n",
        "def calculation(a, b):\n",
        "    add = a + b\n",
        "    sub = a - b\n",
        "    return add, sub\n",
        "\n",
        "result = calculation(40, 10)\n",
        "print(result)"
      ],
      "metadata": {
        "colab": {
          "base_uri": "https://localhost:8080/"
        },
        "id": "92OxziG0N_CN",
        "outputId": "23dd6daf-5770-4866-bfe2-fe55c61da224"
      },
      "execution_count": 20,
      "outputs": [
        {
          "output_type": "stream",
          "name": "stdout",
          "text": [
            "(50, 30)\n"
          ]
        }
      ]
    },
    {
      "cell_type": "code",
      "source": [
        "# 3.Write a program to create a function show_employee() using the following conditions. \n",
        "#A)It should accept the employee’s name and salary and display both. \n",
        "#B)If the salary is missing in the function call then assign default value 9000 to salary \n",
        "\n",
        "\n",
        "\n",
        "def show_emp(employee, salary=9000):\n",
        "    print('employee: ', employee )\n",
        "    print('Salary: ', salary)\n",
        "\n",
        "show_emp('Ananya', 5500)\n",
        "# no value assigned ,it take default value as 9000 to salary\n",
        "show_emp('Vaish')\n",
        "\n"
      ],
      "metadata": {
        "colab": {
          "base_uri": "https://localhost:8080/"
        },
        "id": "NLjFqcKRO6BO",
        "outputId": "cf27ef7a-c7da-44ae-e63c-96ebc5a7ce86"
      },
      "execution_count": 29,
      "outputs": [
        {
          "output_type": "stream",
          "name": "stdout",
          "text": [
            "employee:  Ananya\n",
            "Salary:  5500\n",
            "employee:  Vaish\n",
            "Salary:  9000\n"
          ]
        }
      ]
    },
    {
      "cell_type": "code",
      "source": [
        "#4.Create an outer function that will accept two parameters, a and b.\n",
        "#Create an inner function inside an outer function that will calculate the addition of a and b,  At last, an outer function will add 5 into addition and return it \n",
        "\n",
        "def func(a, b):\n",
        "    def cal(a,b):\n",
        "        return a+b\n",
        "    result = cal(a,b) + 5\n",
        "    return result\n",
        "\n",
        "# calling outer function to add the numbers with 5\n",
        "func(6,3)\n",
        "   \n",
        "\n"
      ],
      "metadata": {
        "colab": {
          "base_uri": "https://localhost:8080/"
        },
        "id": "0tpvsohJQL15",
        "outputId": "46629fcf-c8b7-48ee-d2ab-dd7ed8a3cbc1"
      },
      "execution_count": 28,
      "outputs": [
        {
          "output_type": "execute_result",
          "data": {
            "text/plain": [
              "14"
            ]
          },
          "metadata": {},
          "execution_count": 28
        }
      ]
    }
  ]
}