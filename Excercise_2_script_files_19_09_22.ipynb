{
  "nbformat": 4,
  "nbformat_minor": 0,
  "metadata": {
    "colab": {
      "provenance": [],
      "authorship_tag": "ABX9TyOxKKKB6p1Y90Lj1JJX1Ae+",
      "include_colab_link": true
    },
    "kernelspec": {
      "name": "python3",
      "display_name": "Python 3"
    },
    "language_info": {
      "name": "python"
    }
  },
  "cells": [
    {
      "cell_type": "markdown",
      "metadata": {
        "id": "view-in-github",
        "colab_type": "text"
      },
      "source": [
        "<a href=\"https://colab.research.google.com/github/Ananya-Upadhyaya/Ananya-Upadhyaya/blob/main/Excercise_2_script_files_19_09_22.ipynb\" target=\"_parent\"><img src=\"https://colab.research.google.com/assets/colab-badge.svg\" alt=\"Open In Colab\"/></a>"
      ]
    },
    {
      "cell_type": "code",
      "execution_count": 3,
      "metadata": {
        "colab": {
          "base_uri": "https://localhost:8080/"
        },
        "id": "gtXtnAmqbmfj",
        "outputId": "a1fb2df5-8f94-4983-b76c-eefdded8808c"
      },
      "outputs": [
        {
          "output_type": "stream",
          "name": "stdout",
          "text": [
            "Enter three values: Ananya Upadhyaya 22\n",
            "Enter Your First Name:  Ananya\n",
            "Enter Your Last Name:  Upadhyaya\n",
            "Enter Your Age:  22\n",
            "\n"
          ]
        }
      ],
      "source": [
        "#1 Write a program to take three names as input from a user in the single input() function call.\n",
        "\n",
        "a, b, c = input(\"Enter three values: \").split()  \n",
        "print(\"Enter Your First Name: \", a)  \n",
        "print(\"Enter Your Last Name: \", b)  \n",
        "print(\"Enter Your Age: \", c)  \n",
        "print()  "
      ]
    },
    {
      "cell_type": "code",
      "source": [
        "#2. Write a program to print the following number pattern using a loop. \n",
        "\n",
        "#\t1  \n",
        "\n",
        "#\t1 2 \n",
        "\n",
        "#\t1 2 3 \n",
        "\n",
        "# 1 2 3 4 \n",
        "\n",
        "#\t1 2 3 4 5 \n",
        "\n",
        "rows = 5\n",
        "for i in range(1, rows + 1):\n",
        "    for j in range(1, i + 1):\n",
        "        print(j, end=' ')\n",
        "    print('')"
      ],
      "metadata": {
        "colab": {
          "base_uri": "https://localhost:8080/"
        },
        "id": "F0__KL8mcy-l",
        "outputId": "ca6a63fd-258a-438d-a8cc-fb8982ec6266"
      },
      "execution_count": 5,
      "outputs": [
        {
          "output_type": "stream",
          "name": "stdout",
          "text": [
            "1 \n",
            "1 2 \n",
            "1 2 3 \n",
            "1 2 3 4 \n",
            "1 2 3 4 5 \n"
          ]
        }
      ]
    },
    {
      "cell_type": "code",
      "source": [
        "#3. Write a program to accept a number from a user and calculate the sum of all numbers from 1 to a given number \n",
        "\n",
        "\n",
        "n = int(input(\"Enter a number: \"))\n",
        "\n",
        "sum = 0\n",
        "\n",
        "for i in range(n + 1):\n",
        "\n",
        "   sum += i\n",
        "\n",
        "print(\"The sum of all numbers from 1 to the given number is: \", sum)"
      ],
      "metadata": {
        "colab": {
          "base_uri": "https://localhost:8080/"
        },
        "id": "MdYX6CTHdhNk",
        "outputId": "8e6b87e5-6b20-4846-89c2-d7e03a37381b"
      },
      "execution_count": 9,
      "outputs": [
        {
          "output_type": "stream",
          "name": "stdout",
          "text": [
            "Enter a number: 3\n",
            "The sum of all numbers from 1 to the given number is:  6\n"
          ]
        }
      ]
    },
    {
      "cell_type": "code",
      "source": [
        "#4. Print list in reverse order using a loop \n",
        "\n",
        "def Reverse(lst):\n",
        "\tnew_lst = lst[::-1]\n",
        "\treturn new_lst\n",
        "\n",
        "\n",
        "lst = [10, 11, 12, 13, 14, 15]\n",
        "print(Reverse(lst))\n",
        "\n"
      ],
      "metadata": {
        "colab": {
          "base_uri": "https://localhost:8080/"
        },
        "id": "WuuSh-gqe3gY",
        "outputId": "a7c7aabf-9754-4dcc-d923-5a85b864f38e"
      },
      "execution_count": 14,
      "outputs": [
        {
          "output_type": "stream",
          "name": "stdout",
          "text": [
            "[15, 14, 13, 12, 11, 10]\n"
          ]
        }
      ]
    },
    {
      "cell_type": "code",
      "source": [
        "#5. Write a program to display all prime numbers within a range \n",
        "\n",
        "lower_num = int(input (\" Enter the Lowest Range num: \"))  \n",
        "upper_num = int(input (\" Enter the Upper Range num: \"))  \n",
        "  \n",
        "print (\"The Prime Numbers in the range are: \")  \n",
        "for number in range (lower_num, upper_num + 1):  \n",
        "    if number > 1:  \n",
        "        for i in range (2, number):  \n",
        "            if (number % i) == 0:  \n",
        "                break  \n",
        "        else:  \n",
        "            print (number)  "
      ],
      "metadata": {
        "colab": {
          "base_uri": "https://localhost:8080/"
        },
        "id": "o1ggGieigehR",
        "outputId": "28b68c1e-f69a-4553-fd11-60d49950d4c9"
      },
      "execution_count": 16,
      "outputs": [
        {
          "output_type": "stream",
          "name": "stdout",
          "text": [
            " Enter the Lowest Range num: 1\n",
            " Enter the Upper Range num: 10\n",
            "The Prime Numbers in the range are: \n",
            "2\n",
            "3\n",
            "5\n",
            "7\n"
          ]
        }
      ]
    },
    {
      "cell_type": "code",
      "source": [
        "#6. Find the factorial of a given number without using math module \n",
        "\n",
        "\n",
        "num = int(input(\"Enter a number: \"))\n",
        "\n",
        "factorial = 1\n",
        "\n",
        "if num < 0:\n",
        "   print(\"Sorry, factorial does not exist for negative numbers\")\n",
        "elif num == 0:\n",
        "   print(\"The factorial of 0 is 1\")\n",
        "else:\n",
        "   for i in range(1,num + 1):\n",
        "       factorial = factorial*i\n",
        "   print(\"The factorial of\",num,\"is\",factorial)"
      ],
      "metadata": {
        "colab": {
          "base_uri": "https://localhost:8080/"
        },
        "id": "ZGAOt-z9hHXC",
        "outputId": "feeafad5-174f-4f99-9c3a-7034b5d1750a"
      },
      "execution_count": 17,
      "outputs": [
        {
          "output_type": "stream",
          "name": "stdout",
          "text": [
            "Enter a number: 6\n",
            "The factorial of 6 is 720\n"
          ]
        }
      ]
    },
    {
      "cell_type": "code",
      "source": [
        "#7. Print the following pattern \n",
        "\n",
        "#\t* \n",
        "\n",
        "#\t* *  \n",
        "\n",
        "#\t* * * \n",
        "\n",
        "#\t* * * * \n",
        "\n",
        "#\t* * * * * \n",
        "\n",
        "#\t* * * * \n",
        "\n",
        "#\t* * * \n",
        "\n",
        "#\t* * \n",
        "\n",
        "#\t* \n",
        "\n",
        "rows = 5\n",
        "for i in range(0, rows):\n",
        "    for j in range(0, i + 1):\n",
        "        print(\"*\", end=' ')\n",
        "    print(\"\\r\")\n",
        "\n",
        "for i in range(rows, 0, -1):\n",
        "    for j in range(0, i - 1):\n",
        "        print(\"*\", end=' ')\n",
        "    print(\"\\r\")"
      ],
      "metadata": {
        "colab": {
          "base_uri": "https://localhost:8080/"
        },
        "id": "iHCYEPXaiGqx",
        "outputId": "d43d6be0-72ab-4c94-99f7-c3f243dded50"
      },
      "execution_count": 18,
      "outputs": [
        {
          "output_type": "stream",
          "name": "stdout",
          "text": [
            "* \r\n",
            "* * \r\n",
            "* * * \r\n",
            "* * * * \r\n",
            "* * * * * \r\n",
            "* * * * \r\n",
            "* * * \r\n",
            "* * \r\n",
            "* \r\n",
            "\r\n"
          ]
        }
      ]
    }
  ]
}