{
  "nbformat": 4,
  "nbformat_minor": 0,
  "metadata": {
    "colab": {
      "provenance": [],
      "authorship_tag": "ABX9TyOO4ROkwOPyZtHwYh/ros1g",
      "include_colab_link": true
    },
    "kernelspec": {
      "name": "python3",
      "display_name": "Python 3"
    },
    "language_info": {
      "name": "python"
    }
  },
  "cells": [
    {
      "cell_type": "markdown",
      "metadata": {
        "id": "view-in-github",
        "colab_type": "text"
      },
      "source": [
        "<a href=\"https://colab.research.google.com/github/Ananya-Upadhyaya/Ananya-Upadhyaya/blob/main/Scripting_file_practice_19_09_22.ipynb\" target=\"_parent\"><img src=\"https://colab.research.google.com/assets/colab-badge.svg\" alt=\"Open In Colab\"/></a>"
      ]
    },
    {
      "cell_type": "code",
      "execution_count": 32,
      "metadata": {
        "colab": {
          "base_uri": "https://localhost:8080/"
        },
        "id": "yaJIYpQJ9-tr",
        "outputId": "8ba46169-3b5c-4480-b18e-c68a8bc09264"
      },
      "outputs": [
        {
          "output_type": "stream",
          "name": "stdout",
          "text": [
            "Overwriting script.py\n"
          ]
        }
      ],
      "source": [
        "#1. Write a program to iterate the first 10 numbers and in each iteration, print the sum of the current and previous number.\n",
        "\n",
        "%%writefile script.py\n",
        "numbers = list(range(10))\n",
        "PreviousNum = 0\n",
        "for i in numbers:\n",
        "  sum = PreviousNum +i\n",
        "  print(\" Current number \" +str(i) + \" Previous number \" +str(PreviousNum) + \" is \" +str(sum))\n",
        "  PreviousNum=i\n",
        "\n",
        "\n",
        "\n"
      ]
    },
    {
      "cell_type": "code",
      "source": [
        "numbers = list(range(10))\n",
        "PreviousNum = 0\n",
        "for i in numbers:\n",
        "  sum = PreviousNum +i\n",
        "  print(\" Current number \" +str(i) + \" Previous number \" +str(PreviousNum) + \" is \" +str(sum))\n",
        "  PreviousNum=i"
      ],
      "metadata": {
        "colab": {
          "base_uri": "https://localhost:8080/"
        },
        "id": "F-YP05oXFA0a",
        "outputId": "1ed5e647-4033-4a86-daec-88245cc3cf69"
      },
      "execution_count": 6,
      "outputs": [
        {
          "output_type": "stream",
          "name": "stdout",
          "text": [
            " Current number 0 Previous number 0 is 0\n",
            " Current number 1 Previous number 0 is 1\n",
            " Current number 2 Previous number 1 is 3\n",
            " Current number 3 Previous number 2 is 5\n",
            " Current number 4 Previous number 3 is 7\n",
            " Current number 5 Previous number 4 is 9\n",
            " Current number 6 Previous number 5 is 11\n",
            " Current number 7 Previous number 6 is 13\n",
            " Current number 8 Previous number 7 is 15\n",
            " Current number 9 Previous number 8 is 17\n"
          ]
        }
      ]
    },
    {
      "cell_type": "code",
      "source": [
        "#2. Write a program to accept a string from the user and display characters \n",
        "#that are present at an even index number. \n",
        "\n",
        "%%writefile script1.py\n",
        "\n",
        "str = input(\"Enter a string\\n\")\n",
        "# create a string with characters at multiples of 2\n",
        "even_string = str[::2]\n",
        "print(even_string)\n",
        "\n"
      ],
      "metadata": {
        "colab": {
          "base_uri": "https://localhost:8080/"
        },
        "id": "UhUVh6ecH5vW",
        "outputId": "b095374d-7225-4d3b-908d-303f9176f1e4"
      },
      "execution_count": 33,
      "outputs": [
        {
          "output_type": "stream",
          "name": "stdout",
          "text": [
            "Overwriting script1.py\n"
          ]
        }
      ]
    },
    {
      "cell_type": "code",
      "source": [
        "str = input(\"Enter a string\\n\")\n",
        "# create a string with characters at multiples of 2\n",
        "even_string = str[::2]\n",
        "print(even_string)\n"
      ],
      "metadata": {
        "colab": {
          "base_uri": "https://localhost:8080/"
        },
        "id": "DXjvhViaLA3J",
        "outputId": "3b63a2d9-47e0-4bf1-a64a-b5c05f9470bc"
      },
      "execution_count": 13,
      "outputs": [
        {
          "output_type": "stream",
          "name": "stdout",
          "text": [
            "Enter a string\n",
            "Hello Ananya\n",
            "HloAay\n"
          ]
        }
      ]
    },
    {
      "cell_type": "code",
      "source": [
        "#3. Iterate the given list of numbers and print only those numbers which are divisible by 5 \n",
        "\n",
        "%%writefile script2.py\n",
        "\n",
        "nums = [] \n",
        "for i in range(5): \n",
        "\tnum = int(input('Give me a number:\t\t')) \n",
        "\tnums.append(num) \n",
        " \n",
        "for i in nums: \n",
        "\tif i % 5 == 0: \n",
        "\t\tprint(i) "
      ],
      "metadata": {
        "colab": {
          "base_uri": "https://localhost:8080/"
        },
        "id": "-wHW8TOWL68v",
        "outputId": "7a151e79-15a2-4727-fc7d-5a857b8af5c5"
      },
      "execution_count": 34,
      "outputs": [
        {
          "output_type": "stream",
          "name": "stdout",
          "text": [
            "Overwriting script2.py\n"
          ]
        }
      ]
    },
    {
      "cell_type": "code",
      "source": [
        "nums = [] \n",
        "for i in range(5): \n",
        "\tnum = int(input('Enter the numbers:\t')) \n",
        "\tnums.append(num) \n",
        " \n",
        "for i in nums: \n",
        "\tif i % 5 == 0: \n",
        "\t\tprint(\"The number which is divisible by 5 are: \",i)"
      ],
      "metadata": {
        "colab": {
          "base_uri": "https://localhost:8080/"
        },
        "id": "IL0kHCbBP9DI",
        "outputId": "3f48de9d-b83a-4241-ba90-5612a635dccd"
      },
      "execution_count": 27,
      "outputs": [
        {
          "output_type": "stream",
          "name": "stdout",
          "text": [
            "Enter the numbers:\t15\n",
            "Enter the numbers:\t7\n",
            "Enter the numbers:\t40\n",
            "Enter the numbers:\t36\n",
            "Enter the numbers:\t20\n",
            "The number which is divisible by 5 are:  15\n",
            "The number which is divisible by 5 are:  40\n",
            "The number which is divisible by 5 are:  20\n"
          ]
        }
      ]
    },
    {
      "cell_type": "code",
      "source": [
        "#4. Write a program to check if the given number is a palindrome number. \n",
        "\n",
        "%%writefile script3.py\n",
        "n=int(input(\"Enter a number: \"))\n",
        "temp=n\n",
        "\n",
        "rev=0\n",
        "\n",
        "digit=0\n",
        "\n",
        "while(n>0):\n",
        "\n",
        "  digit = n%10\n",
        "\n",
        "  rev=rev*10+digit\n",
        "\n",
        "  n=n//10\n",
        "\n",
        "if(temp==rev):\n",
        "   print(\"It is a Palindrome\")\n",
        "else:\n",
        "   print(\"It is not a Palindrome\")\n"
      ],
      "metadata": {
        "colab": {
          "base_uri": "https://localhost:8080/"
        },
        "id": "e4cKZzAQQVJ0",
        "outputId": "7d47ff54-99d6-4f15-88e0-dad97f908848"
      },
      "execution_count": 40,
      "outputs": [
        {
          "output_type": "stream",
          "name": "stdout",
          "text": [
            "Writing script3.py\n"
          ]
        }
      ]
    },
    {
      "cell_type": "code",
      "source": [
        "n=int(input(\"Enter a number: \"))\n",
        "temp=n\n",
        "\n",
        "rev=0\n",
        "\n",
        "digit=0\n",
        "\n",
        "while(n>0):\n",
        "\n",
        "  digit = n%10\n",
        "\n",
        "  rev=rev*10+digit\n",
        "\n",
        "  n=n//10\n",
        "\n",
        "if(temp==rev):\n",
        "   print(\"It is a Palindrome\")\n",
        "else:\n",
        "   print(\"It is not a Palindrome\")\n",
        "\n",
        " "
      ],
      "metadata": {
        "colab": {
          "base_uri": "https://localhost:8080/"
        },
        "id": "3uI4pqw7SGu3",
        "outputId": "9881a7ef-aa98-4e0a-eb8a-5c122978b719"
      },
      "execution_count": 39,
      "outputs": [
        {
          "output_type": "stream",
          "name": "stdout",
          "text": [
            "Enter a number: 121\n",
            "It is a Palindrome\n"
          ]
        }
      ]
    },
    {
      "cell_type": "code",
      "source": [
        "#5. Given a two list of numbers, write a program to create a new list such that the new list should contain odd numbers from the first list and even numbers from the second list.\n",
        "\n",
        "%%writefile script4.py\n",
        "from numpy import array\n",
        "a=array([1,2,3,4,5,6]) # odds from here\n",
        "b=array([7,8,9,10,11]) # evens from here\n",
        "\n",
        "\n",
        "c = [*a[a%2 != 0], *b[b%2 == 0]]\n",
        "print(c)\n"
      ],
      "metadata": {
        "colab": {
          "base_uri": "https://localhost:8080/"
        },
        "id": "47VcVkxyTB5O",
        "outputId": "6ed1a8c1-4084-48eb-ce13-856ccadae768"
      },
      "execution_count": 48,
      "outputs": [
        {
          "output_type": "stream",
          "name": "stdout",
          "text": [
            "Writing script4.py\n"
          ]
        }
      ]
    },
    {
      "cell_type": "code",
      "source": [
        "from numpy import array\n",
        "a=array([1,2,3,4,5,6]) # odds from here\n",
        "b=array([7,8,9,10,11]) # evens from here\n",
        "\n",
        "\n",
        "c = [*a[a%2 != 0], *b[b%2 == 0]]\n",
        "print(c)"
      ],
      "metadata": {
        "colab": {
          "base_uri": "https://localhost:8080/"
        },
        "id": "Fi6MiyDgU5Wo",
        "outputId": "51ffa371-2db2-442a-cdb6-40f036054f68"
      },
      "execution_count": 47,
      "outputs": [
        {
          "output_type": "stream",
          "name": "stdout",
          "text": [
            "[1, 3, 5, 8, 10]\n"
          ]
        }
      ]
    },
    {
      "cell_type": "code",
      "source": [
        "#6. Write a Program to extract each digit from an integer in the reverse order. \n",
        "\n",
        "%%writefile script5.py\n",
        "\n",
        "number = int(input(\"Enter the integer number: \"))  \n",
        "revs_number = 0  \n",
        "while (number > 0):  \n",
        "    remainder = number % 10  \n",
        "    revs_number = (revs_number * 10) + remainder  \n",
        "    number = number // 10    \n",
        "print(\"The reverse number is : {}\".format(revs_number))  "
      ],
      "metadata": {
        "colab": {
          "base_uri": "https://localhost:8080/"
        },
        "id": "FVplgtoFWQmO",
        "outputId": "85f1436f-5908-4464-eb80-c220057af93e"
      },
      "execution_count": 51,
      "outputs": [
        {
          "output_type": "stream",
          "name": "stdout",
          "text": [
            "Writing script5.py\n"
          ]
        }
      ]
    },
    {
      "cell_type": "code",
      "source": [
        "number = int(input(\"Enter the integer number: \"))  \n",
        "revs_number = 0  \n",
        "while (number > 0):  \n",
        "    remainder = number % 10  \n",
        "    revs_number = (revs_number * 10) + remainder  \n",
        "    number = number // 10    \n",
        "print(\"The reverse number is : {}\".format(revs_number))  "
      ],
      "metadata": {
        "colab": {
          "base_uri": "https://localhost:8080/"
        },
        "id": "nin58VUrWX9m",
        "outputId": "071d56f3-a52f-4392-d5b7-cd69793d3c66"
      },
      "execution_count": 50,
      "outputs": [
        {
          "output_type": "stream",
          "name": "stdout",
          "text": [
            "Enter the integer number: 12345\n",
            "The reverse number is : 54321\n"
          ]
        }
      ]
    },
    {
      "cell_type": "code",
      "source": [
        "#7. Print multiplication table form 1 to 10 \n",
        "\n",
        "%%writefile script6.py\n",
        "\n",
        "number = int(input (\"Enter the number of which the user wants to print the multiplication table: \"))      \n",
        "# We are using \"for loop\" to iterate the multiplication 10 times       \n",
        "print (\"The Multiplication Table of: \", number)    \n",
        "for count in range(1, 11):      \n",
        "   print (number, 'x', count, '=', number * count)    "
      ],
      "metadata": {
        "colab": {
          "base_uri": "https://localhost:8080/"
        },
        "id": "652q4RZiW_he",
        "outputId": "ce2fb6d7-3b73-44b4-c2e9-9ed5c51dc5c1"
      },
      "execution_count": 54,
      "outputs": [
        {
          "output_type": "stream",
          "name": "stdout",
          "text": [
            "Writing script6.py\n"
          ]
        }
      ]
    },
    {
      "cell_type": "code",
      "source": [
        "number = int(input (\"Enter the number of which the user wants to print the multiplication table: \"))      \n",
        "     \n",
        "print (\"The Multiplication Table of: \", number)    \n",
        "for count in range(1, 11):      \n",
        "   print (number, 'x', count, '=', number * count)      "
      ],
      "metadata": {
        "colab": {
          "base_uri": "https://localhost:8080/"
        },
        "id": "ehYjq8HxXFMb",
        "outputId": "4f48ec0e-7f97-4ae0-9522-eaeb22db0872"
      },
      "execution_count": 53,
      "outputs": [
        {
          "output_type": "stream",
          "name": "stdout",
          "text": [
            "Enter the number of which the user wants to print the multiplication table: 5\n",
            "The Multiplication Table of:  5\n",
            "5 x 1 = 5\n",
            "5 x 2 = 10\n",
            "5 x 3 = 15\n",
            "5 x 4 = 20\n",
            "5 x 5 = 25\n",
            "5 x 6 = 30\n",
            "5 x 7 = 35\n",
            "5 x 8 = 40\n",
            "5 x 9 = 45\n",
            "5 x 10 = 50\n"
          ]
        }
      ]
    },
    {
      "cell_type": "code",
      "source": [
        "#8. Write a program to print downward Half-Pyramid Pattern with Star (asterisk) \n",
        "\n",
        "%%writefile script7.py\n",
        "rows = 5\n",
        "for i in range(rows + 1, 0, -1):\n",
        "    \n",
        "    for j in range(0, i - 1):\n",
        "       \n",
        "        print(\"*\", end=' ')\n",
        "    print(\" \")\n"
      ],
      "metadata": {
        "colab": {
          "base_uri": "https://localhost:8080/"
        },
        "id": "c0tWM_VBYaNH",
        "outputId": "b99a4dc3-1640-4a82-efe8-c076a9d9330e"
      },
      "execution_count": 58,
      "outputs": [
        {
          "output_type": "stream",
          "name": "stdout",
          "text": [
            "Overwriting script7.py\n"
          ]
        }
      ]
    },
    {
      "cell_type": "code",
      "source": [
        "rows = 5\n",
        "for i in range(rows + 1, 0, -1):\n",
        "    \n",
        "    for j in range(0, i - 1):\n",
        "        \n",
        "        print(\"*\", end=' ')\n",
        "    print(\" \")"
      ],
      "metadata": {
        "colab": {
          "base_uri": "https://localhost:8080/"
        },
        "id": "egR1Cek7Yil4",
        "outputId": "e10db72b-5441-4545-c4b3-76b54469a19e"
      },
      "execution_count": 57,
      "outputs": [
        {
          "output_type": "stream",
          "name": "stdout",
          "text": [
            "* * * * *  \n",
            "* * * *  \n",
            "* * *  \n",
            "* *  \n",
            "*  \n",
            " \n"
          ]
        }
      ]
    }
  ]
}